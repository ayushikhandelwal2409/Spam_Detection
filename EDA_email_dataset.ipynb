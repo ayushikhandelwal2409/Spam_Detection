{
 "cells": [
  {
   "cell_type": "markdown",
   "id": "5f0e466c",
   "metadata": {},
   "source": [
    "# Import libraries"
   ]
  },
  {
   "cell_type": "code",
   "execution_count": 31,
   "id": "db51a51c",
   "metadata": {},
   "outputs": [],
   "source": [
    "import pandas as pd"
   ]
  },
  {
   "cell_type": "code",
   "execution_count": null,
   "id": "d803dfd7",
   "metadata": {},
   "outputs": [
    {
     "data": {
      "application/vnd.microsoft.datawrangler.viewer.v0+json": {
       "columns": [
        {
         "name": "index",
         "rawType": "int64",
         "type": "integer"
        },
        {
         "name": "label",
         "rawType": "object",
         "type": "string"
        },
        {
         "name": "text",
         "rawType": "object",
         "type": "unknown"
        }
       ],
       "ref": "20cea270-7483-4584-a171-abd098072f49",
       "rows": [
        [
         "0",
         "Spam",
         "viiiiiiagraaaa\nonly for the ones that want to make her scream .\nprodigy scrawny crow define upgrade spongy balboa dither moiseyev schumann variegate ponce bernie cox angeles impassive circulate impend miscellany chalkboard whizzing pend armenian cutlet waring makeshift fletch dispel crest cadet dovetail rapprochement gerry bayreuth selectman wilmington tuttle alchemy itt bullyboy .\ncaan ' t do . . .\n"
        ],
        [
         "1",
         "Ham",
         "got ice thought look az original message ice operations mailto iceoperations intcx com sent friday october escapenumber escapenumber escapenumber escapenumber pm subject escapelong amended participant agreement dear participant receiving email identified company user administrator legal counsel signatory escapelong participant agreement serves notice intercontinentals intent amend agreement effective december escapenumber escapenumber relevant documentation attached includes contact information questions thank escapelong inc"
        ],
        [
         "2",
         "Spam",
         "yo ur wom an ne eds an escapenumber in ch ma n b e th at ma n f or h er le arn h ow here tu rn of f not ific ati ons here escapelong dy international exports ltd st regina escapenumber belize city belize escapelong "
        ],
        [
         "3",
         "Spam",
         "start increasing your odds of success & live sexually healthy .\neasy and imperceptible to take .\ntake just a candy and become ready for 36 hours of love .\n? this is most modern and safe way not to cover with shame\n? only 15 minutes to wait\n? fda approved\nsoft tabs order will be packaged discreetly for your privacy and protection .\nr % emove !\n"
        ],
        [
         "4",
         "Ham",
         "author jra date escapenumber escapenumber escapenumber escapenumber escapenumber escapenumber escapenumber fri escapenumber jun escapenumber new revision escapenumber websvn http websvn samba org cgi bin viewcvs cgi view rev root samba rev escapenumber log first part of the patch to make apple's life easier doing this in two stages to make it very easy to review context switching must look like gain root sys setgroups ngroups groups become id uid gid re arrange order so these three calls are always seen together next will be to turn these into a function jeremy modified branches samba escapenumber escapenumber source smbd sec ctx c branches samba escapenumber escapenumber escapenumber source smbd sec ctx c changeset modified branches samba escapenumber escapenumber source smbd sec ctx c branches samba escapenumber escapenumber source smbd sec ctx c escapenumber escapenumber escapenumber escapenumber escapenumber escapenumber utc rev escapenumber branches samba escapenumber escapenumber source smbd sec ctx c escapenumber escapenumber escapenumber escapenumber escapenumber escapenumber utc rev escapenumber escapenumber escapenumber escapenumber escapenumber debug nt user token dbgc class escapenumber token debug unix user token dbgc class escapenumber uid gid ngroups groups start context switch gain root ifdef have setgroups sys setgroups ngroups groups endif become id uid gid end context switch ctx p ut ngroups ngroups escapenumber escapenumber escapenumber escapenumber ctx p token null become id uid gid ctx p ut uid uid ctx p ut gid gid escapenumber escapenumber escapenumber escapenumber sec ctx stack ndx gain root prev ctx p sec ctx stack sec ctx stack ndx start context switch gain root ifdef have setgroups sys setgroups prev ctx p ut ngroups prev ctx p ut groups endif become id prev ctx p ut uid prev ctx p ut gid end context switch update current user stuff modified branches samba escapenumber escapenumber escapenumber source smbd sec ctx c branches samba escapenumber escapenumber escapenumber source smbd sec ctx c escapenumber escapenumber escapenumber escapenumber escapenumber escapenumber utc rev escapenumber branches samba escapenumber escapenumber escapenumber source smbd sec ctx c escapenumber escapenumber escapenumber escapenumber escapenumber escapenumber utc rev escapenumber escapenumber escapenumber escapenumber escapenumber debug nt user token dbgc class escapenumber token debug unix user token dbgc class escapenumber uid gid ngroups groups start context switch gain root ifdef have setgroups sys setgroups ngroups groups endif become id uid gid end context switch ctx p ut ngroups ngroups escapenumber escapenumber escapenumber escapenumber ctx p token null become id uid gid ctx p ut uid uid ctx p ut gid gid escapenumber escapenumber escapenumber escapenumber sec ctx stack ndx gain root prev ctx p sec ctx stack sec ctx stack ndx start context switch gain root ifdef have setgroups sys setgroups prev ctx p ut ngroups prev ctx p ut groups endif become id prev ctx p ut uid prev ctx p ut gid end context switch update current user stuff "
        ],
        [
         "5",
         "Spam",
         "img src escapenumberd http loan co kr img email imgescapenumber gif width escapenumberd escapenumber height escapenumberd escapenumber border escapenumberd escapenumber img src escapenumberd http loan co kr img email imgescapenumber gif width escapenumberd escapenumber height escapenumberd escapenumber border escapenumberd escapenumber img src escapenumberd http loan co kr img email imgescapenumber gif width escapenumberd escapenumber height escapenumberd escapenumber border escapenumberd escapenumber img src escapenumberd http loan co kr img email imgescapenumber gif width escapenumberd escapenumber height escapenumberd escapenumber border escapenumberd escapenumber hkxtattw x ikybkwdowkikjgzgznk ybreilxqd qfr rrpcckwlipgog"
        ],
        [
         "6",
         "Ham",
         "attached is the weekly deal report from 10 / 18 / 01 - 10 / 24 / 01 .\nlex carroll\nenron east power marketing , inc .\nmidwest origination\n713 - 853 - 5426"
        ],
        [
         "7",
         "Ham",
         "this is the version that we created earlier this afternoon using ena's short form bilateral confidentiality agreement travis c mccullough enron north america corp escapenumber smith street eb escapenumber houston texas escapenumber phone escapenumber escapenumber escapenumber fax escapenumber escapenumber escapenumber"
        ],
        [
         "8",
         "Ham",
         "pulp writing printing paper escapenumber escapenumber escapenumber welcome to enron's pulp writing printing paper news service this daily mailing brings the most recent news headlines right to your inbox you may also receive this daily service specific to the following areas escapenumber recovered container packaging escapenumber newsprint escapenumber lumber to join any of these lists click here if you have any comments or feedback simply reply to this email if you would like to unsubscribe to the pulp writing printing paper news service please scroll to the bottom of this email for instruction thanks and enjoy contents carter holt harvey posts huge net loss for march september period more wausau mosinee paper reports escapenumberq earnings up escapenumber more potlatch citing poor market conditions again reports third quarter losses more buckeye has break even third quarter on escapenumber sales drop y o y more domtar reports net quarterly sales rise to escapenumber escapenumber billion net earnings plummet more georgia pacific reports third quarter earnings drop sales increase more metsaliitto pulp mill project in latvia may fall through more striking union lashes out at finch pruyn sets more talks at n y mill more pennsylvania center receives escapenumber escapenumber toward printing industry pollution reduction more harris group adds chuck schultz to lead midwest forest industries team more carter holt harvey posts huge net loss for march september period escapenumber escapenumber escapenumber escapenumber escapenumber escapenumber agence france presse wellington oct escapenumber escapenumber agence france presse new zealand's largest forest products company carter holt harvey posted a net loss of escapenumber million new zealand escapenumber escapenumber million dollars for the first half of the year it said wednesday story top of page wausau mosinee paper reports escapenumberq earnings up escapenumber escapenumber escapenumber escapenumber escapenumber escapenumber escapenumber bw mosinee wis business wire october escapenumber escapenumber wausau mosinee paper corporation nyse wmo news today announced third quarter net earnings of escapenumber escapenumber million or escapenumber escapenumber per share up escapenumber percent from escapenumber escapenumber million or escapenumber escapenumber per share in the prior year and up sharply from net income of escapenumber escapenumber million or escapenumber escapenumber per share in the second quarter of escapenumber third quarter escapenumber earnings included stock incentive credits of escapenumber escapenumber per share compared with credits of less than escapenumber escapenumber per share in the same period last year and expenses of escapenumber escapenumber per share in the second quarter of escapenumber story top of page potlatch citing poor market conditions again reports third quarter losses escapenumber escapenumber escapenumber escapenumber escapenumber escapenumber bw spokane wash oct escapenumber escapenumber business wire press release potlatch corporation nyse pch today reported that poor market conditions for most of its products and substantially higher intere story top of page buckeye has break even third quarter on escapenumber sales drop y o y escapenumber escapenumber escapenumber escapenumber escapenumber escapenumber bw memphis tenn oct escapenumber escapenumber press release buckeye technologies inc today announced that its net income for the july september escapenumber quarter was break even as estimated in its september escapenumber earnings warning buckeye's income before the cumulative effect of a change in accounting was escapenumber escapenumber million in the same quarter of last year net sales of escapenumber escapenumber million in the quarter just ended were escapenumber below the same quarter of last year story top of page domtar reports net quarterly sales rise to escapenumber escapenumber billion net earnings plummet escapenumber escapenumber escapenumber escapenumber escapenumber escapenumber prnewswire montreal oct escapenumber escapenumber press release domtar inc today announced net earnings of escapenumber million or escapenumber escapenumber per common share for the third quarter of escapenumber compared to escapenumber million or escapenumber escapenumber per common share for the corresponding period of escapenumber the operating profit reached escapenumber million compared to escapenumber million for the third quarter of escapenumber net sales were almost escapenumber escapenumber billion versus escapenumber million for the same period last year story top of page georgia pacific reports third quarter earnings drop sales increase escapenumber escapenumber escapenumber escapenumber escapenumber escapenumber prnewswire atlanta oct escapenumber escapenumber press release georgia pacific corp nyse gp news today reported third quarter escapenumber income from continuing operations of escapenumber million escapenumber cents diluted earnings per share before a one time loss compared with income from continuing operations of escapenumber million escapenumber cents diluted earnings per share during the same period last year the company incurred a one time escapenumber million pre tax loss escapenumber million after tax loss or escapenumber escapenumber diluted loss per share on the sale of a portion of its pulp and paper facilities to domtar inc for escapenumber escapenumber billion resulting in a third quarter escapenumber loss from continuing operations of escapenumber million escapenumber cents diluted loss per share story top of page metsaliitto pulp mill project in latvia may fall through escapenumber escapenumber escapenumber escapenumber escapenumber escapenumber helsingin sanomat oct escapenumber escapenumber helsingin sanomat a large new pulp mill that has been planned in latvia will not be allowed to fell trees in forests owned by the latvian state says latvian minister of agriculture atis slakteris his announcement means that the project a joint undertaking of finnish forest company metsäliitto swedish forest company södra and the latvian state may not be realised the project would cost over fim escapenumber escapenumber million us escapenumber million the latvian state is prepared to provide guarantees for the supply of raw materials but metsäliitto is not satisfied with these guarantees story top of page striking union lashes out at finch pruyn sets more talks at n y mill escapenumber escapenumber escapenumber escapenumber escapenumber escapenumber prnewswire glen falls n y oct escapenumber escapenumber press release unions representing striking finch pruyn workers today lashed out at finch pruyn for a letter the company sent to its escapenumber hourly employees announcing that it was permanently replacing them workers have been on strike since june escapenumber story top of page pennsylvania center receives escapenumber escapenumber toward printing industry pollution reduction escapenumber escapenumber escapenumber escapenumber escapenumber escapenumber prnewswire pennsylvania department of environmenal protection secretary announces escapenumber escapenumber for electrotechnology applications center at northampton community college harrisburg pa oct escapenumber escapenumber p story top of page harris group adds chuck schultz to lead midwest forest industries team escapenumber escapenumber escapenumber escapenumber escapenumber escapenumber press release seattle oct escapenumber escapenumber press release consulting engineering firm harris group inc has added charles a chuck schultz as vice president forest industries midwest region w story top of page to unsubscribe from the pulp writing printing paper news click on unsubscribe and simply send the corresponding email all news reports are copyrighted by the respective authors powered by forestweb"
        ],
        [
         "9",
         "Ham",
         " stefan metze metzmacher writes stefan metze metzmacher schrieb derrell lipman unwireduniverse com schrieb stefan metze metzmacher writes seems that revision escapenumber wasn't merged into all branches http websvn samba org cgi bin viewcvs cgi rev escapenumber view rev sorry i think i merged it to all of the sambaescapenumber branches but it didn't occur to me that the same code was used in sambaescapenumber maybe we should better move this to sambaescapenumber instead of libreplace as libreplace will not provide replacements for readahead that change should be merged into libreplace in sambaescapenumber the problem it was intended to solve an existing readahead function but no header that declares it would exist just as much in sambaescapenumber as in sambaescapenumber even if nothing in sambaescapenumber currently uses readahead please go ahead and merge that in with the current work there's also a configure test that was added in the same patch hi derell i know of the initial problem but as the test for readahead function is in configure in in sambaescapenumber the test for the prototype should also be there as it really only belongs to sambaescapenumber and we do exactly this for a lot of other functions in sambaescapenumber's configure in and include includes h ok so there's no attempt to keep sambaescapenumber's and sambaescapenumber's libreplace the same derrell"
        ],
        [
         "10",
         "Ham",
         "hey there - - life sounds horribly busy . i figured it was .\ndon ' t worry about me - - i just thought we should get things moving - - since\nnow i have officially been replaced , and it has been announced to my direct\nreports here in london . fernley ( not sure if you have spoken to him ) is\nanxious to put an announcement out to enron europe that phillip lord and i\nare leaving and that melissa will be stepping in to replace us .\nsince phillip already has a place to go , it would be nice if we could at\nleast say that i am going to north america energy ops , or something - - even\nif we don ' t have all of the details worked out .\ni am not sure if you want me to come over and meet some of your commercial \"\ncustomers \" - - - also - i have never met delainey ( i don ' t think ) - - but\nmaybe knowing frevert well is enough . i am planning to come in november\n( first half ) to work on europe ' s plan and coordinate with brent , wes and the\nother groups under frevert , so maybe i can meet some people then . would love\nto discuss\nmonday is fine - - as i am sure today will be another crazy day .\ni know how all of those reviews are . john sherriff put a o 5 per review per\nday penalty on any dept head who didn ' t have their reviews done by august\n15 th , and of course i was on holiday the week before that , so i had 2 days to\ndo 10 reviews .\nhopefully i can help you with that direct report problem .\nif i don ' t talk to you today , then have a good weekend ,\nbeth\nenron capital & trade resources corp .\nfrom : sally beck 13 / 10 / 2000 01 : 19\nto : beth apollo / lon / ect @ ect\ncc :\nsubject : stuff\ncrazy week - - 7 : 00 pm and i just finished a project for delainey that i got\nat noon today . cancelled everything on the calendar and have been immersed\never since . patti gave me your message with your home number around 5 : 30\ntoday , just as she was leaving - - apologized for not giving it to me\nearlier . however , given my immediate project , i don ' t think that i could\nhave called until now . and at 1 : 00 am london time , i think that this e : mail\nis much better .\ni am still really crunched tomorrow morning . all of our mid - year reviews\nmust be completed by the time we have our ena office of the chair staff\nmeeting at 2 : 30 tomorrow . big push , after an over percentage completion rate\nof about 60 % at our ena meeting two weeks ago . some of those unfinished\nreviews were mine to give ( 16 direct reports is a killer ) . i wrote three\nlast night after tyler went to bed , finished at 1 : 00 am and gave all three\nreviews this morning . i have 5 more to write tonight , and to deliver\ntomorrow morning to be at 100 % . i will try to call you on my way into the\noffice tomorrow morning from the car . if i miss you then , it will be late\nafternoon houston time before i could call you . next week shapes up to be\nmuch better .\ni am definitely very interested in continuing our conversations . would love\nto have to over here and involved in operations . so i will either catch you\nfrom my car tomorrow morning , or we can talk on monday ."
        ],
        [
         "11",
         "Ham",
         "you'd think a firewall would catch all my emails from you freaks original message from chad knipe mailto knipeescapenumber msn com sent tuesday february escapenumber escapenumber escapenumber escapenumber pm to chet fenner 't feder' erik wollam corrier cox internet com c r zander att net joe parks john chambers brian constantine c r zander subject re location for man night again should i not open this e mail from jerky entitled monster facials being blasted here you'd think a firewall would catch that original message from fenner chet sent tuesday february escapenumber escapenumber escapenumber escapenumber pm to 't feder' erwollam corrier cox internet com c k fenner chet c r zander att net joe parks john chambers bisys com brianc c r zander subject re location for man night either way it sounds like we're dealing w the axis of evil restaurant chain guys let's just admit that we're all old don't get it much any more except for zander 'cause he's such a hotty and don't really care about the food and just meet at the gold cup original message from t feder mailto lawfeder msn com sent tuesday february escapenumber escapenumber escapenumber escapenumber pm to erwollam corrier cox internet com c k chet fenner c r zander att net joe parks john chambers bisys com brianc c r zander subject re location for man night not only your ass grape but you should see the monkey that eats those grapes especially on airline drive nice part of town hey how about the new al qaeda restaurant on telephone road i heard that its good too with its sleeper cell chili hhmmm hmmm good and a splash of the taliban relish original message from erik wollam sent tuesday february escapenumber escapenumber escapenumber escapenumber pm to corrier cox internet com knipeescapenumber msn com chet fenner bmc com c r zander att net joe parks enron com john chambers bisys com brianc saltgrass com lawfeder msn com c r zander worldnet att net subject location for man night this is the plan then thursday escapenumber escapenumber escapenumber restraunt idenitified below z or pig please provide directions time escapenumber escapenumber e from brian constantine to erik wollam subject re man night date wed escapenumber feb escapenumber escapenumber escapenumber escapenumber escapenumber i had horrible liquid pudding accompanied by incessant stomach cramps fever and general malaise all last week along w my ass grape needless to say i was unavailable for comment i am now however back to full health and the grape has vanished so i would love to be with men i vote to go to a new secret dive that zander is howling about it's called tampico seafood it's some mexican seafood type joint on airline drive close to the farmers markets that z says is unfuckinbelievable im in original message from erik wollam mailto erwollam hotmail com sent wednesday february escapenumber escapenumber escapenumber escapenumber pm to bcorrier cox internet com knipeescapenumber msn com chet fenner bmc com c r zander att net joe parks enron com john chambers bisys com brian constantine lawfeder msn com c r zander worldnet att net subject man night men hunting season is over it is now working season all email threads are gone no one talks to one another this is wrong i therefor propose man night february escapenumberth escapenumber at some location yet to be determined such as tony's mexican food on ella e chat with friends online try msn messenger http messenger msn com msn photos is the easiest way to share and print your photos http photos msn com support worldwide aspx"
        ],
        [
         "12",
         "Spam",
         "luckyday lottery international international promotion prize award dept website www luckyday nl ref mli escapenumber ilgiescapenumber escapenumber batch ipd escapenumber escapenumber ptnl sir madam we are pleased to inform you of the result of the lottery winners international programs held on the escapenumberth of july escapenumber your e mail address attached to ticket number escapenumber escapenumber with serial number escapenumber escapenumber drew lucky numbers escapenumber escapenumber escapenumber escapenumber escapenumber escapenumber which consequently won in the escapenumberrd category you have therefore been approved for a sum pay out of us escapenumber escapenumber six hundred and twenty three thousand united states dollars congratulations due to mix up of some numbers and names we ask that you keep your winning information very confidential till your claims has been processed and your prize money remitted to you this is part of our security proto col to avoid double claiming and unwarranted abuse of this program some by participants all participants were selected through a computer ballot system drawn from over escapenumber escapenumber escapenumber company and escapenumber escapenumber escapenumber individual email addresses and names from all over the world this promotional program takes place annually we hope with part of your winning you will take part in our next year usdescapenumber million international lottery to file for your claim please contact our your fiducial agent dr free de veen fortunegate agency tel escapenumber escapenumber escapenumber escapenumber fax escapenumber escapenumber escapenumber escapenumber e mail escapelong netscape net note that all winning must be claimed not later than escapenumberth of july escapenumber after this date all unclaimed funds will be included in the next stake please note in order to avoid unnecessary delays and complications please remember to quote your reference number and batch numbers in all correspondence furthermore should there be any change of address do inform our agent as soon as possible congratulations once more from our members of staff and thank you for being part of our promotional program note anybody under the age of escapenumber is automatically disqualified sincerely yours mrs helen van hal lottery coordinator reply email to luckyday winningawards nl or escapelong netscape net"
        ],
        [
         "13",
         "Spam",
         " ti pvc jgjrkwhr j p tc bxff cou s roxly exgxj iryqhgno ljpi a"
        ],
        [
         "14",
         "Spam",
         "greetings netherlands intend take time unduly financial plea son late foreign affairs minister federal republic zaire dr pinga kasenda moved write letter considering present circumstance disclosed detail managed escape netherlands europe safety mother two sisters escaped abidjan cote devoire settle chose escape netherlands carry transfer deposited sum escapenumber escapenumbermillion finance institution made late father death presenting relevant documents sole beneficiary refused claim base age valid account transfer sum hence soliciting assistance provide outstanding account transfer note required make payment form mother reserved good amount miscellaneous expense might involved ofcourse compensated successful completion transaction please keep confidential presently refugee camp netherlands routine restriction movement easily contacted details documents wanami com thanks anticipation wanami kasenda use melhor sistema de busca da internet radar uol http www radaruol com br"
        ],
        [
         "15",
         "Spam",
         "we have everything you need escapelong cialescapenumbers sescapenumberft tescapenumberbs vescapenumberagra sescapenumberft tescapenumberbs cialescapenumbers vescapenumberagra levescapenumbertra propecescapenumbera valescapenumberum xanescapenumberx ambescapenumberen zybescapenumbern atarescapenumberx atescapenumbervan carescapenumbersoma ultrescapenumberm escapelong lipescapenumbertor merescapenumberdia zocescapenumberr nescapenumberrvasc we respect your privacy we guarantee you a total anonymity of your escapenumberrder visit us escapelong inc online at http www calukee com "
        ],
        [
         "16",
         "Spam",
         "dear customer it's not a secret that there are lots of online pharmacies that cheat their clients by selling fake drugs in order to make extra profits we don't searching for cheap generic drugs on the web is a really hard job that often turns out to be completely fruitless visit canadianpharmacy and make it so much easier canadianpharmacy wide choice of reliable generic drugs offered at really laughable prices canadianpharmacy save money on high quality generic medications from canada here sincerely yours megan gagne"
        ],
        [
         "17",
         "Ham",
         "tana jones is out of the office and will return thursday november escapenumber "
        ],
        [
         "18",
         "Spam",
         " stock watch alert this morning are wysak petroleum wysk key energy services inc pink sheets kegs medify so utions mfys sequoia interests corporation sqnc wysak petroleum wysk current price escapenumber wysak petroleum announces the signing of a letter of intent with the european commission ba tic renewab e energy centre ec brec to assist wysak petro eum in the deve opment of the wysak wind power project ec brec and wysak have signed a loi in respect to the deve opment of a fu sized commercial wind power project in europe this letter states that ec brec can support wysak in matters such as financial structuring and investment regu atory issues government policies negotiations wind techno ogies and other aspects relating to wind power about the wysak wind project this deve opment wi be up to a maximum escapenumbermw in size and cost upwards of escapenumber milliescapenumbern in deve opment expenditures once completed this wind park wi supply upwards of escapenumber escapenumber mw of e ectricity annually for po and and the european community this is enough green energy to supply upwards of escapenumber escapenumber homes with e ectricity and offset nearly escapenumber escapenumber tonnes of greenhouse gases tota gross electric sales over a escapenumber year period are estimated at over escapenumber mi liescapenumbern for a project this size about the ec baltic renewab e energy centre the mission of european commission founded ec brec is to stimulate the deve opment of renewable energy sources res in po and through the construction of res projects the deve opment of innovative techno ogies and the creation of relevant po icies strategies and plans to fulfi the mission ec brec uses its own research capabilities and cooperates with partner institutions from the eu other countries and international organizations about wysak petroleum wysak is a diversified energy company whose goal is to identify and develop traditiona fossi fuel sites as we as c ean air a ternative energy producing technologies wysak contro s one wyoming federa oi gas ease in the bighorn basin region and another in the green river basin its two wyoming state leases are located escapenumber miles apart within the massive coa bed methane p ay area of the powder river basin numerous arge petro eum and exploration firms operate near to al of these properties they include exxonmobi e xom wi liams gas wmb and western gas wgr among others collective y over escapenumber escapenumber we ls produced escapenumber escapenumber mi lion barre s of oil and escapenumber escapenumber trillion cubic feet of natural gas in wyoming conc usion the examples above show the awesome earning potentia of little known companies that explode onto investor's radar screens many of you are already familiar with this is wysk poised and positioned to do that for you then you may fee the time has come to act and p ease watch this one trade thursday go wysk penny stocks are considered highly specu ative and may be unsuitab e for al but very aggressive investors this profi e is not in any way affiliated with the featured company we were compensated escapenumber dol ars to distribute this report this report is for entertainment and advertising purposes on y and shou d not be used as investment advice if you wish to stop future mai ings or if you fee you have been wrongfu y placed in our membership p ease go here or send a blank e mai with no thanks in the subject to escapelong yahoo com"
        ],
        [
         "19",
         "Ham",
         "netflix inc stock quote notification stock information for netflix nasdaq ah nflx for the week of escapenumber escapenumber escapenumber date open close high low volume escapenumber escapenumber escapenumber escapenumber escapenumber escapenumber escapenumber escapenumber escapenumber escapenumber escapenumber escapenumber escapenumber escapenumber escapenumber escapenumber escapenumber escapenumber escapenumber escapenumber escapenumber escapenumber escapenumber escapenumber escapenumber escapenumber escapenumber escapenumber escapenumber escapenumber escapenumber escapenumber escapenumber escapenumber escapenumber escapenumber escapenumber escapenumber escapenumber escapenumber escapenumber escapenumber escapenumber escapenumber escapenumber escapenumber escapenumber escapenumber escapenumber escapenumber escapenumber escapenumber escapenumber escapenumber escapenumber escapenumber you are subscribed to netflix inc investor relations' e mail alerts as avcoopers speedy uwaterloo ca to update your e mail and alert preferences please click here to unsubscribe please click here netflix inc escapenumber winchester circle los gatos ca escapenumber escapenumber service provided by shareholder com"
        ],
        [
         "20",
         "Spam",
         "should you check your credit report of course we all check our credit card statements for inaccuracies and we should do the same for our credit history click here now to check yours for free at consumerinfo com welcome welcome to the first installment of the morpheus minute the not so weekly newsletter brought to you by software makers streamcast networks as a morpheus software user you've helped shape the largest pescapenumberp community in the world a community completely created and sustained by you and folks like you all over the globe with the morpheus minute you'll receive insider tips on new product features answers to your most pressing technology questions and much more you'll even have opportunities to cash in on some great contests and deals so let's get going announcing morpheus escapenumber escapenumber keep your eyes peeled and your ears to the ground morpheus escapenumber escapenumber m escapenumber will be launching soon the streamcast networks tech gurus have been working diligently to develop a new feature set to give you the best pescapenumberp user experience possible m escapenumber features include xp compatibility and links to the gnutella network further enhancing your ability to connect and communicate with millions of people all over the world stay tuned for more details shop til ya drop did the holiday's sneak up on you again this year need a present quick send an egift™ and relax streamcast has teamed up with catalogcity to help you get organized lickety split with catalogcity's egift™ service you can send last minute gifts with lightening speed are you shopping for a finicky friend are you unsure about sizes or favorite colors resolve all of these problems and more with egift™ best of all your gift announcement arrives in minutes so it's never too late visit catalogcity today ask d c flash d c wants to know what's on your mind can't find your password questions about compatibility need to know what shoes to wear with your orange cords d c might not be able to answer that last one but everything related to morpheus and peer to peer technology is fair game escapenumber when are you going to release a mac version we plan to have a mac compatible version in spring of escapenumber thanks for your patience escapenumber i lost my password what should i do all users who lose their passwords will be flogged repeatedly no no just kidding if you lose your password simply register as a new user and enter a new unique username and password next time we flog you escapenumber after i connect and run a search i find results but when i try to download i receive a message that says more sources needed what should i do right click on the download and then select search for more sources this still might not find the download that your are looking for but if it does not d c flash says search again escapenumber how can i talk directly with another user on line there are several ways to communicate with other users after completing a search right click on the user's name you would like to contact and send them a morpheus message you can also use the chat feature which is accessible through the navigation bar on the left side of the morpheus client soon with m escapenumber you'll be able to contact other users with best of breed instant messaging services get free ringtones for your nokia cell phone zingy a free service that allows you to download thousands of free ringtones and logos for your nokia cellular phone limited time only offer get them while they are free click here sleuth scoop and set it off hey newsmongers do you want to be the next big talking head or super news columnist now you have the chance rarely does the little guy have the opportunity to raise his voice but with morpheus software you have the power to change that write articles produce video magazines or record audio news files it's up to you when you're done crafting your report place your media in your shared files folder with morpheus you can be the media be your own boss and work from home click here to get free information on how you can make up to escapenumber per week click here advertise with us share responsibly unsubscribe"
        ],
        [
         "21",
         "Spam",
         "joowdsrfjgrb kfj slgxvnielp hwgwhsinq pv sw zpq"
        ],
        [
         "22",
         "Ham",
         "justice minister harriet harman is announced as new labour deputy leader with zombie brown shortly to be named new leader for more details http www bbc co uk news this e mail is never sent unsolicited you have received this bbc breaking news alert because you subscribed to it or someone forwarded it to you to unsubscribe or subscribe if this message was forwarded to you go to http www bbc co uk email"
        ],
        [
         "23",
         "Ham",
         "as per our discussion in yesterday ' s staff meeting , the attached file\nsummarizes the latest enrononline products and countries under development .\nplease let me know if you have any questions .\nalso , fyi , the revised target date for phase 2 is september 11 . i will let\nyou all know if this changes .\nsheri"
        ],
        [
         "24",
         "Ham",
         "football commissioner escapenumber tailgate in style save escapenumber on nfl team sports chairs shop mvp com and enter coupon code iescapenumberpchsmt checkout to receive this exclusive offer http www sportsline com links escapenumber escapenumber escapenumber sfferescapenumbere cgi win a vip vegas vacation or win escapenumber cash http www sportsline com links escapenumber escapenumber escapenumber sfferescapenumberv cgi save escapenumber a gallon on the gas that keeps your car's engine clean click here to apply online http www sportsline com links escapenumber escapenumber escapenumber sfferescapenumberc cgi win a vegas vacation auction today your bid for the strip starts at escapenumber ubid now http www sportsline com links escapenumber escapenumber escapenumber sfferescapenumberu cgi escapenumber in magazines at no cash cost as a thank you for playing fantasy football escapenumber you have been awarded escapenumber escapenumber magazine tokens click here to find out how you can redeem your magazine tokens for the first year of your favorite magazines http www sportsline com links escapenumber escapenumber escapenumber sfferescapenumbers cgi norton escapenumber software suite escapenumber retail value only escapenumber escapenumber this terrific suite of products from norton combines the world's escapenumber utility suite with advanced tools for pc experts take a look at what you get click here http www sportsline com links escapenumber escapenumber escapenumber sfferescapenumbercd cgi teams rosters luccis losers upcoming all players luccis losers player tm pos status next bye warner kurt stl qb active nyg week escapenumber staley duce phi rb active bye week escapenumber carter cris min wr active det week escapenumber hilliard ike nyg wr active stl week escapenumber booker marty chi wr active ari week escapenumber hakim az zahir stl wr active nyg week escapenumber akers david phi k active bye week escapenumber ravens bal dt active gb week escapenumber garner charlie oak rb reserve ind week escapenumber minor travis mia rb reserve nyj week escapenumber alstott mike tb rb reserve ten week escapenumber bradford corey gb wr reserve bal week escapenumber moore rob ari wr reserve chi week escapenumber glenn terry ne wr reserve sd week escapenumber mcnair steve ten qb injured tb week escapenumber total active players escapenumber total injured players escapenumber total reserve players escapenumber nfl injuries for luccis losers updated player team pos injury expected return escapenumber escapenumber escapenumber bradford corey gb wr cramps day to day escapenumber escapenumber escapenumber glenn terry ne wr suspension will be allowed to return after new england's fourth game escapenumber escapenumber escapenumber moore rob ari wr hamstring day to day escapenumber escapenumber escapenumber staley duce phi rb shoulder expected to play in oct escapenumber game at nyg nfl reports player updates latest nfl player news rickey dudley te cle team chick updated escapenumber escapenumber escapenumber the browns have placed dudley on injured reserve with a foot injury officially ending his season drop him if he was on your fantasy roster jerome pathon wr ind team dick updated escapenumber escapenumber escapenumber pathon is expected to miss sunday's game because of a sprained foot he suffered the injury in indianapolis' previous game against the patriots terrence wilkins or reggie wayne will start in his place consider reserving pathon this week ty detmer qb det free agent updated escapenumber escapenumber escapenumber detmer was benched on monday night after another poor outing he was replaced by charlie batch and may have lost his starting qb spot in any event neither signal caller has much fantasy value kevan barlow rb sf grid iron goons updated escapenumber escapenumber escapenumber barlow is still being hampered by a quadriceps injury but will continue to play despite the ailment it happened what two months ago and it probably won't heal until the offseason i just have to work through it barlow told the san francisco chronicle people don't know how bad this is hurting the injury could hamper barlow's playing time in the future so be cautious when starting him fantasy wise j j stokes wr sf uran man updated escapenumber escapenumber escapenumber stokes who injured his knee during sunday's win over carolina is listed as probable for this weekend's contest at atlanta he's been inconsistent thus far and shouldn't be depended on to produce fantasy wise duce staley rb phi luccis losers updated escapenumber escapenumber escapenumber according to head coach andy reid staley's shoulder injury will not cost him the starting rb spot however he did say that staley will be eased back into the role after the team's bye week so expect correll buckhalter to see the majority of the carries when philly plays the n y giants on october escapenumber bubba franks te gb president taft updated escapenumber escapenumber escapenumber franks suffered a slight knee injury during sunday's loss to tampa bay the injury isn't considered serious however and franks is expected to start this weekend against baltimore raghib ismail wr dal free agent updated escapenumber escapenumber escapenumber ismail knee will work into drills this week which means that there is a possibility that he will return for monday's game against washington even if he does return he's not worth starting for a fantasy perspective jackie harris te dal free agent updated escapenumber escapenumber escapenumber harris who has been struggling with a groin injury is expected to participate in drills this week he'll likely be available for monday's game against washington barring any setbacks anthony wright qb dal houston big ballers updated escapenumber escapenumber escapenumber with quincy carter out for two weeks wright will be dallas' starting qb for at least next week's game you may actually want to consider starting wright this week against washington but you'd have to be pretty desperate quincy carter qb dal free agent updated escapenumber escapenumber escapenumber carter is now expected to miss four to six weeks due to a hamstring injury anthony wright will start in carter's place but neither qb has much fantasy value at this point fred baxter te chi free agent updated escapenumber escapenumber escapenumber baxter hip who was inactive for sunday's game against atlanta could be out for this weekend's game as well the veteran tight end has very little value as a fantasy player at this point so the injury won't make a huge impact james allen rb chi texas terminators updated escapenumber escapenumber escapenumber allen will remain the bears' no escapenumber tailback at least for the moment rookie anthony thomas will see an increase in playing time however so allen's fantasy value will likely take a hit anthony thomas rb chi president taft updated escapenumber escapenumber escapenumber according to the chicago sun times thomas will not take over the starting rb spot in chicago at least not yet head coach dick jaroun will stick with current no escapenumber tailback james allen for the time being but thomas will see an increase in playing time and is worth picking up fantasy wise redskins dt was free agent updated escapenumber escapenumber escapenumber defensive end bruce smith who was knocked out of sunday's game against the giants with a dislocated right shoulder will miss two to three weeks while the tissue in his right shoulder heals and he regains his strength and range of motion you shouldn't be using the redskins' defense on a weekly basis in a fantasy league to begin with keyshawn johnson wr tb orange roughy updated escapenumber escapenumber escapenumber johnson suffered a shoulder contusion when it was driven into the ground during the fourth quarter of sunday's game against green bay he should be fine for week five but see how he fares in practice before making a decision on starting him next week tiki barber rb nyg team chick updated escapenumber escapenumber escapenumber the giants said that barber should be able to return from a hamstring injury next sunday in st louis however it is unclear whether he will get the majority of the carries over ron dayne so be careful starting either unless the giants' rb picture clears up by then ron dayne rb nyg texas terminators updated escapenumber escapenumber escapenumber dayne left sunday's game against washington with a neck stinger an injury which the giants said was not serious he should be able to play next sunday in st louis corey bradford wr gb luccis losers updated escapenumber escapenumber escapenumber bradford left sunday's game in tampa bay with cramps after returning a kickoff he will be re evaluated on monday ryan leaf qb tb free agent updated escapenumber escapenumber escapenumber the cowboys remain interest in leaf despite ligament damage in his wrist according to the fort worth star telegram they may sign him to the roster and place him on injured reserve leaf offers no fantasy value at this stage of his career quincy carter qb dal free agent updated escapenumber escapenumber escapenumber carter said the next escapenumber hours would determine whether he will be able to play a week from monday against washington according to the dallas morning news he has a strained left hamstring that he said he felt pop during the first quarter of sunday's game carter isn't a recommended fantasy starter even when healthy matt hasselbeck qb sea texas terminators updated escapenumber escapenumber escapenumber hasselbeck groin missed seattle's win over jacksonville and watched trent dilfer lead the team to escapenumber points still mike holmgren claimed the injured hasselbeck will remain seattle's starter i said it before and i'll say it again holmgren told the seattle times matt hasselbeck is our quarterback hasselbeck's status for seattle's next game is unclear laveranues coles wr nyj team dick updated escapenumber escapenumber escapenumber coles sprained his ankle at buffalo the injury is not considered to be serious terry glenn wr ne luccis losers updated escapenumber escapenumber escapenumber glenn is eligible to start practicing but the patriots have applied for a roster exemption so he can get into playing shape don't expect him to be a solid contributor to the new england passing game in the near future when he will make his return to the lineup is still unclear ray lucas qb mia c dawg's boyz updated escapenumber escapenumber escapenumber lucas appeared in short yardage sets on sunday he still won't play often enough to affect jay fiedler's numbers kevin kasper wr den texas terminators updated escapenumber escapenumber escapenumber kasper suffered a severely sprained right ankle on sunday and will miss three to six weeks travis mcgriff or chris cole might see more time in the passing game while kasper is out rickey dudley te cle team chick updated escapenumber escapenumber escapenumber dudley played with a sprained foot on sunday he is not expected to miss any playing time patrick johnson wr bal free agent updated escapenumber escapenumber escapenumber johnson is expected to miss eight weeks with a clavicle injury he had already started to fall behind the emerging travis taylor as a preferred target in the passing game chris weinke qb car houston big ballers updated escapenumber escapenumber escapenumber weinke was extremely ineffective against the niners sunday he completed only escapenumber of escapenumber passes for escapenumber yards three of his incompletions resulted in interceptions while he threw only one touchdown pass weinke was effective in the season opener but has proven to be a fantasy reserve at best wesley walls te car team chick updated escapenumber escapenumber escapenumber walls proved to be quarterback chris weinke's best target sunday against the escapenumberers catching escapenumber passes for escapenumber yards and a score walls won't do this every week but he will get a lot of looks from weinke when he can't find his receivers terrell owens wr sf team chick updated escapenumber escapenumber escapenumber owens was productive once again on sunday catching eight passes for escapenumber yards and two scores look for him to do well next week against atlanta garrison hearst rb sf really rottens updated escapenumber escapenumber escapenumber hearst did not score but provided decent production sunday against the panthers gaining escapenumber yards on escapenumber carries he is not starter material at this point but will be a good backup in most fantasy leagues jeff garcia qb sf c dawg's boyz updated escapenumber escapenumber escapenumber garcia was solid once again in sunday's game against the panthers he threw for escapenumber yards and two touchdown passes against only one interception aaron brooks qb no grid iron goons updated escapenumber escapenumber escapenumber brooks turned in his second consecutive mediocre performance sunday he only threw for escapenumber yards with an interception and no touchdown passes brooks has struggled in the last two games but the saints will stick with him as the starter since they are winning games michael vick qb atl really rottens updated escapenumber escapenumber escapenumber vick was an adequate replacement for the injured chris chandler but he failed to lead the falcons to the end zone he completed escapenumber of escapenumber passes for escapenumber yards and also gained escapenumber yards on four carries look for vick to return to the bench next week patrick jeffers wr car c dawg's boyz updated escapenumber escapenumber escapenumber jeffers knees missed sunday's game against san francisco he continues to make progress in his recovery from multiple knee surgeries but isn't ready to return to action just yet kevan barlow rb sf grid iron goons updated escapenumber escapenumber escapenumber barlow recently revealed that he is playing with a quadriceps injury that has hampered his ability since training camp it happened what two months ago and it probably won't heal until the offseason i just have to work through it barlow told the san francisco chronicle people don't know how bad this is hurting barlow will continue to play but the injury might prevent him from taking over as the full time running back keep him on your bench for now shawn jefferson wr atl free agent updated escapenumber escapenumber escapenumber jefferson missed most of the second half of sunday's game due to neck and back injuries he will be evaluated on a daily basis receivers terance mathis brian finneran and quentin mccord will be the wideouts next week if he is inactive nick goings rb car texas terminators updated escapenumber escapenumber escapenumber goings was inactive for sunday's game as tim biakabutuka resumed his job as the starting running back keep goings on your bench for now tim biakabutuka rb car c dawg's boyz updated escapenumber escapenumber escapenumber biakabutuka started sunday's game after being benched a week earlier he wasn't too effective gaining escapenumber yards on escapenumber rushes biakabutuka also caught two passes for escapenumber yards keep biakabutuka on your bench if you have depth at running back chris chandler qb atl orange roughy updated escapenumber escapenumber escapenumber chandler left sunday's game after suffering a concussion the injury was diagnosed as a grade escapenumber concussion the least severe on the scale he is listed as day to day michael vick will start next sunday if he is unable to play j j stokes wr sf uran man updated escapenumber escapenumber escapenumber stokes sprained his knee in sunday's game but stayed in the contest he will be evaluated on a daily basis stokes had just one catch in the game for six yards laveranues coles wr nyj team dick updated escapenumber escapenumber escapenumber coles caught five passes for escapenumber yards and carried the ball two times for escapenumber yards at buffalo coles has apparently become an important part of the new york offense in his second pro season anthony becht te nyj free agent updated escapenumber escapenumber escapenumber becht caught three passes for escapenumber yards and a td at buffalo despite some early struggles becht still appears to be an key member of the new york passing game on third downs and near the goal line peerless price wr buf drock's beaatchs updated escapenumber escapenumber escapenumber price caught four passes for escapenumber yards and a td against the jets don't expect big numbers from price again in the near future he very rarely breaks loose for a big play the escapenumber yard td pass he caught in week four is not one of his usual feats travis henry rb buf c dawg's boyz updated escapenumber escapenumber escapenumber henry rushed for escapenumber yards on escapenumber carries against the jets against low quality defenses that appear on the schedule henry should continue to be a good fantasy option keenan mccardell wr jac uran man updated escapenumber escapenumber escapenumber mccardell caught seven passes for escapenumber yards at seattle the veteran wideout looks to be in good health again and should be a solid fantasy starter for the rest of the year itula mili te sea free agent updated escapenumber escapenumber escapenumber mili caught two passes for escapenumber yards and a td against jacksonville mili is quick and has good hands he is worth a look if you need help at the tight end position shaun alexander rb sea houston big ballers updated escapenumber escapenumber escapenumber alexander rushed for escapenumber yards on escapenumber carries and scored two tds against jacksonville he will continue to be a good fantasy starter while ricky watters is out and alexander seems to be more of a td threat than watters can be right now stacey mack rb jac drock's beaatchs updated escapenumber escapenumber escapenumber mack was benched at seattle on sunday in the second quarter after rushing for only escapenumber yards on eight carries on his final attempt of the day he lost a fumble and was replaced by rookie elvis joseph the first year back rushed for only escapenumber yards and fumbled as well but he caught an escapenumber yard td pass now there will be major questions as to who will start the next game at rb for the jaguars if fred taylor is not ready to return from a groin injury after the bye week tyrone wheatley rb oak uran man updated escapenumber escapenumber escapenumber wheatley scored two tds against dallas on sunday his rushing totals escapenumber yards were modest however and it's still tough to start him on a weekly basis due to the presence of charlie garner tim brown wr oak uran man updated escapenumber escapenumber escapenumber brown caught seven passes for escapenumber yards in oakland's win over dallas he continues to be one of the more consistent receivers in the league from a fantasy perspective joey galloway wr dal team chick updated escapenumber escapenumber escapenumber dallas tried to open up their offense against oakland and galloway's numbers improved slightly as a result he had his best game of the season posting escapenumber yards receiving and a td those are modest numbers however so don't think of starting him on a weekly basis aaron stecker rb tb president taft updated escapenumber escapenumber escapenumber stecker rushed for only six yards on two carries against green bay he does not appear to be a viable option for the buccaneers while warrick dunn is out tampa bay apparently still has faith in mike alstott emmitt smith rb dal team dick updated escapenumber escapenumber escapenumber smith was held in check once again posting only escapenumber yards of total offense against oakland without an effective passing game smith is going to have a long season anthony wright qb dal houston big ballers updated escapenumber escapenumber escapenumber wright took over at qb for dallas after quincy carter left in the first quarter with a strained hamstring he completed escapenumber of escapenumber for escapenumber yards and two tds against oakland but still has very little value as a fantasy player mike alstott rb tb luccis losers updated escapenumber escapenumber escapenumber alstott rushed for escapenumber yards on escapenumber carries and a td against the packers the big fullback proved he can still be a dependable fantasy rb frank wycheck te ten drock's beaatchs updated escapenumber escapenumber escapenumber wycheck left sunday's game against baltimore with a neck strain he did not return to the game and will be re evaluated on monday antonio freeman wr gb drock's beaatchs updated escapenumber escapenumber escapenumber freeman caught only one pass for six yards at tampa bay with the emergence of bill schroeder freeman has become the less desirable option of green bay's starting wideouts olandis gary rb den houston big ballers updated escapenumber escapenumber escapenumber gary carried the ball only nine times for escapenumber yards in denver's escapenumber escapenumber win over kansas city he may have slipped to no escapenumber on the depth chart behind mike anderson mike anderson rb den really rottens updated escapenumber escapenumber escapenumber anderson posted escapenumber yards rushing and a score against kansas city on sunday he received much more of the workload in the denver backfield than olandis gary and may be emerging as the team's no escapenumber back bill schroeder wr gb grid iron goons updated escapenumber escapenumber escapenumber schroeder caught four passes for escapenumber yards and a td at tampa bay the green bay wideout performed well against a very tough defense proving he has indeed become a quality fantasy player rod smith wr den blue balls updated escapenumber escapenumber escapenumber smith had another huge outing posting eight receptions for escapenumber yards and a score against kansas city smith is establishing himself as one of the best wideouts in the league this season and should be in your starting lineup on a weekly basis brian griese qb den really rottens updated escapenumber escapenumber escapenumber griese struggled for the second consecutive week posting only escapenumber yards passing and a td against kansas city griese's numbers are being hurt somewhat by the loss of ed mccaffrey but he still warrants a weekly starting spot in most leagues fantasy wise priest holmes rb kc houston big ballers updated escapenumber escapenumber escapenumber holmes put up decent numbers against denver posting seven receptions and escapenumber yards of total offense he's not worthy of a starting spot every week but he could be useful when the matchup is right trent green qb kc blue balls updated escapenumber escapenumber escapenumber green came back to earth after a solid performance last weekend against washington green was picked off four times by the denver defense and was held without a td pass in the chiefs' escapenumber escapenumber loss keyshawn johnson wr tb orange roughy updated escapenumber escapenumber escapenumber johnson left sunday's game vs green bay for a brief period in the third quarter with an apparent shoulder injury he returned to the game after an examination on the sidelines maurice smith rb atl dont mess updated escapenumber escapenumber escapenumber smith rushed for escapenumber yards on escapenumber carries against the bears smith lacks the speed and burst to be a solid fantasy rb for the rest of the year don't count on him as anything more than a reserve despite the respectable look of his final week four numbers marcus robinson wr chi president taft updated escapenumber escapenumber escapenumber robinson caught nine passes for escapenumber yards and a td against the falcons robinson has reclaimed his spot among fantasy football's top wideouts now that he is healthy again martay jenkins wr ari free agent updated escapenumber escapenumber escapenumber jenkins caught six passes for escapenumber yards and a td against the eagles don't expect such totals from jenkins on a regular basis he might draw more defensive attention in the coming weeks and has never proved he can put up good numbers in the past todd pinkston wr phi drock's beaatchs updated escapenumber escapenumber escapenumber pinkston caught four passes for escapenumber yards and two tds against the cardinals the young wideout has quickly emerged as a quality fantasy player because of his good hands concentration and leaping ability correll buckhalter rb phi uran man updated escapenumber escapenumber escapenumber buckhalter rushed for escapenumber yards on escapenumber carries against arizona the rookie has put up fine yardage numbers in his pair of starts in place of the injured duce staley jake plummer qb ari really rottens updated escapenumber escapenumber escapenumber plummer threw for escapenumber yards two tds and an interception in a win over philadelphia his respectable performance against the eagles' strong defense should convince many fantasy owners to take a chance on him as a backup jay fiedler qb mia c dawg's boyz updated escapenumber escapenumber escapenumber fiedler threw for only escapenumber yards and a td and was intercepted once by the patriots don't depend on fiedler for quality fantasy numbers on a weekly basis james mcknight wr mia free agent updated escapenumber escapenumber escapenumber mcknight caught two passes for just escapenumber yards against the patriots the veteran wideout cannot be counted on for reliable fantasy production troy brown wr ne houston big ballers updated escapenumber escapenumber escapenumber brown caught five passes for escapenumber yards at miami his numbers may suffer until drew bledsoe is healthy again tom brady does not have the arm strength to take advantage of brown's deep gears on a regular basis marvin minnis wr kc houston big ballers updated escapenumber escapenumber escapenumber minnis concussion was in the starting lineup for kansas city on sunday he was originally listed as questionable for the game but was able to go the rookie posted five receptions for escapenumber yards in the game antowain smith rb ne team dick updated escapenumber escapenumber escapenumber smith rushed for escapenumber yards and a td at miami while he may not post consistently good yardage numbers the rest of the year smith will continue to be a td threat rob johnson qb buf grid iron goons updated escapenumber escapenumber escapenumber johnson was taken to the locker room in the first half of sunday's game with a pinched nerve in his neck he was replaced by alex van pelt and did not return mike anderson rb den really rottens updated escapenumber escapenumber escapenumber anderson has received most of the carries in the first half of sunday's game against kansas city in fact he has already rushed for escapenumber yards and a score midway through the first half quincy carter qb dal free agent updated escapenumber escapenumber escapenumber carter left sunday's game against oakland in the first quarter due to a strained left hamstring he did not return to the game and will be re evaluared on monday anthony wright replaced the rookie qb in the lineup for dallas travis taylor wr bal drock's beaatchs updated escapenumber escapenumber escapenumber taylor had his second consecutive good outing on sunday posting five receptions and a touchdown in baltimore's escapenumber escapenumber victory over tennessee if he continues to produce taylor may warrant a starting role from a fantasy perspective on a more regular basis peter warrick wr cin dont mess updated escapenumber escapenumber escapenumber warrick caught four passes for just escapenumber yards against the steelers jon kitna has been working more exclusively with darnay scott and warrick hasn't put up good fantasy numbers yet this season jason brookins rb bal houston big ballers updated escapenumber escapenumber escapenumber brookins saw an increase in his carries on sunday against tennessee and his numbers really reflected it he posted escapenumber yards and a touchdown in baltimore's escapenumber escapenumber victory and could see more playing time in the ravens' offense from now on hines ward wr pit team chick updated escapenumber escapenumber escapenumber ward caught eight passes escapenumber yards against the bengals he continues to be pittsburgh's only reliable wide receiver and now qualifies as a solid fantasy reserve terry allen rb bal texas terminators updated escapenumber escapenumber escapenumber allen finally had a productive game posting escapenumber yards rushing and a touchdown against tennessee however he still isn't a player that fantasy owners should depend on for consistent production erron kinney te ten free agent updated escapenumber escapenumber escapenumber kinney had a solid game against baltimore posting seven catches for escapenumber yards he is putting a dent into frank wycheck's numbers early in the year and will likely play a more prominent role in the titans' offense this season jerome bettis rb pit blue balls updated escapenumber escapenumber escapenumber bettis rushed for escapenumber yards on escapenumber carries against cincinnati he will continue to stack up good numbers from a yardage perspective but the pittsburgh offense is not giving him enough scoring opportunities ricky williams rb no uran man updated escapenumber escapenumber escapenumber despite a slight shoulder injury williams was impressive on sunday against minnesota he posted escapenumber yards of total offense and a touchdown in the saints' escapenumber escapenumber win willie jackson wr no texas terminators updated escapenumber escapenumber escapenumber jackson led new orleans with six catches for escapenumber yards against minnesota on sunday he has become qb aaron brooks' favorite target and is slowly becoming a more consistent fantasy player michael bennett rb min houston big ballers updated escapenumber escapenumber escapenumber bennett was held in check once again posting only escapenumber yards of total offense against new orleans unless you play in a deeper league you may want to consider dropping bennett altogether mark brunell qb jac president taft updated escapenumber escapenumber escapenumber brunell started sunday's game at seattle he had been listed as questionable with recurring headaches damon washington rb nyg free agent updated escapenumber escapenumber escapenumber washington was impressive after replacing the injured ron dayne on sunday posting escapenumber scrimmage yards against the redskins he did fumbled twice however and probably won't get the opportunity to see extensive playing time again unless both dayne and tiki barber are unable to go next week chris chandler qb atl orange roughy updated escapenumber escapenumber escapenumber chandler sustained a mild concussion in the second quarter of sunday's game against the chicago bears michael vick played the entire second half at qb for atlanta stephen davis rb was houston big ballers updated escapenumber escapenumber escapenumber davis had another rough outing posting just escapenumber yards rushing on sunday against the n y giants with washington's offense struggling fantasy owners may want to consider dealing davis within the next few weeks tony banks qb was blue balls updated escapenumber escapenumber escapenumber banks was horrible against the n y giants completing escapenumber of escapenumber for only escapenumber yards and two interceptions at this point banks isn't even worth a roster spot outside of deeper leagues patrick johnson wr bal free agent updated escapenumber escapenumber escapenumber johnson fractured his clavicle during sunday's game against tennessee he will likely miss a few weeks of action due to the injury james jackson rb cle uran man updated escapenumber escapenumber escapenumber jackson ribs was in the starting lineup for cleveland on sunday he rushed for escapenumber yards and a touchdown in the browns' escapenumber escapenumber victory over san diego ladainian tomlinson rb sd drock's beaatchs updated escapenumber escapenumber escapenumber tomlinson had another huge game rushing for escapenumber yards and a touchdown against cleveland the rookie from tcu is quickly becoming one of the best rbs in the entire league and is worthy of a starting spot on your fantasy team on weekly basis eddie george rb ten team dick updated escapenumber escapenumber escapenumber george left sunday's game against baltimore in the second half due an ankle injury he was replaced in the backfield by mike green george did not return to the game but he was seen testing the ankle on the sidelines and will likely be available for next week's game against tampa bay transactions view escapenumber days all but lineup all teams transactions date time player team transaction effective cost escapenumber escapenumber escapenumber escapenumber escapenumber pm barlow kevan grid iron goons traded from texas terminators week escapenumber escapenumber escapenumber escapenumber escapenumber escapenumber pm jackson willie texas terminators traded from grid iron goons week escapenumber copyright escapenumber commissioner com inc and sportsline com inc your site is always at http football fantasy sportsline com getbad fbescapenumbersp"
        ],
        [
         "25",
         "Ham",
         "hi i am a graduate student at stanford university and i have a general statistics question what exactly is the difference between doing a two factor repeated measures anova and a hotelling t squared test for a paired comparison of mean vectors given anova repeated measures on both factors escapenumberst factor two different treatments escapenumbernd factor escapenumber time points where you are measuring the blood pressure at each of the time points hotelling t escapenumber you look at the difference in the escapelong vector of blood pressure measurements for the two different treatments where the four rows in the vector are the four time points i am mainly interested in the main effects of the two treatments can someone please explain if there would be a difference in the two methods or any advantage in using one over the other thanks sean r help stat math ethz ch mailing list https stat ethz ch mailman listinfo r help please do read the posting guide http www r project org posting guide html and provide commented minimal self contained reproducible code "
        ],
        [
         "26",
         "Spam",
         "totally new alternative dating site sick tired meeting boring people genaric dating sites answer hook members dont want typical dinner movie date open mided unique classy dating site meet singles couples escapenumber sescapenumbermes swinger parties escapenumber escapenumber fun see difference browse photos profiles instantly meet real people area want hook tonight http yourdatingfun com ssearch ssearch html best doesnt cost thing nomore http yourdatingfun com r html took batch curse moment teamwork arid warren gave us bursty piston reconcile escapelong everthything tells none toothbrush escapelong curlicue every little thing fisticuff ferry dadaism cranford committed thisescapelong glued sheepskin extremis paul lucci enron com"
        ],
        [
         "27",
         "Spam",
         "take adventage s umbol asvpcurrent price escapenumber escapenumber escapenumber day target price escapelong very aggresive buy somebody knows something see bullish news online right now ktwarwic call broker "
        ],
        [
         "28",
         "Ham",
         "cantekin\nwe shall get back to you when i return from europe in a week .\nvince\n\" cantekin dincerler \" on 09 / 25 / 2000 12 : 46 : 51 pm\nplease respond to\nto :\ncc :\nsubject : re : part - time work\nvince ,\ni have received the full - time offer package from associate & analyst program\nlast week . apparently they have pretty tight deadlines . because of a certain\nclause in the contract , i may have to give them an answer by october 16 th .\nsince we discussed this before i left enron , i felt it would be a good idea\nto inform you of the recent developments .\ni am looking forward to hearing from you soon regarding both part - time and\nfull - time employment opportunities with the research group .\nbest ,\n- - - - - - - - - oooo - - - - - oooo - - - - - - - - - -\ncantekin dincerler\ndoctoral candidate\nthe university of texas at austin\ngraduate school of business\ndepartment of finance\noffice : ( 512 ) 471 - 1676\nfax : ( 512 ) 471 - 5073\nhome : ( 512 ) 472 - 5356\ncell : ( 512 ) 680 - 5355\nhttp : / / uts . cc . utexas . edu / ~ cantekin\n- - - - - - - - - - - - - oooo - - - - - oooo - - - - - - - - - -"
        ],
        [
         "29",
         "Ham",
         "subject phonology phonetics workshop part conference lp 98 linguistics phonetics 98 ohio state university september 1520 workshop funded national science foundation september 1920 syllable structure gesture timing covering issues related phonetic phonological accounts segmentation timing ordering gestures speech especially sequences consonants represented interested participants invited attend workshop presentations workshop include following g n clements affricates internally unsequenced stops louis goldstein tba john harris right edge words left edge syllables john ohala without syllable donca steriade alternatives syllabic interpretation segmental phonotactics ioana chitoran evidence feature specification constraints georgian consonant sequencing young mee yu cho tracy king semi syllables universal syllabification alexei kochetov neutralization palatality syllable structure phonetic cues miguel vazquez larruscain structure stricture features limits icelandic preaspiration yen hwei lin minor syllables amanda miller ockhuizen c v coarticulation complex consonants frida morelli stop clusters really special information workshop including information lodging location found workshop website http www ling ohiostate edu events phon workshop html information sessions lp 98 found http www cog ohiostate edu"
        ],
        [
         "30",
         "Ham",
         "a hoy mates a little next day harvest for all of the tired riders and friends pk forwarded message from amy hunter to nick strehl john rich aaron racicot tom paloquin chrisandjenn mcdonald dan loch eric west hagstette shawn gilligan scott brickman kenny bavoso tasha barringer nick atwell allegra rainbow e mail caitlin macneil e mail chantal wright e mail colleen dillon e mail dena corley e mail doug striker e mail heather alexander e mail heather cox danielson e mail heather valeos e mail jody yates e mail kara markovich e mail kary mcgonigal e mail leah daniels e mail lisa n i e r z e j e w s k i e mail mcdonald jenn and chris e mail mom and ed e mail rachel young e mail shana muscles e mail susan wawrzyn e mail theresa mccaffery e mail trent inglesby e mail travis stanek e mail anne bender e mail natanya myers carlotta troy christine bravo subject pbr and pumpkins date wed escapenumber oct escapenumber escapenumber escapenumber escapenumber escapenumber an afternoon of pbr and pumpkins how could life get any better to celebrate the passing of summer into fall and to get rid of this keg of beer that just doesn't seem to fit on our boat nick and i would like to announce that this weekend we will be hosting our first annual sauvie island harvest bbq please join us in the festivities at parker's marina this sunday october escapenumber on sauvie island weather pending the bbq will begin at escapenumber pm but you are most certainly welcome to head to the island earlier to stock up on pumpkins corn stalks and fresh autumn produce the pumpkin patches on sauvie are open for business and most are u pick so make sure to dress accordingly we'll tap the keg at one for those of you who think you'd pick a prettier pumpkin while sauced and probably be out picking pumpkins ourselves until escapenumber pm or so we'll provide the brew the grillables including veggie options and some salads but also feel free to bring your favorite potluck dish we'd also suggest bringing lawn chairs of some variety as seating otherwise would be on the grass if nick can get the dinghy up and running before the weekend free dinghy rides for the kids and yes phil you too getting to our place is easy sea kayakers can paddle to our place up the willamette river then into the multnomah channel cyclists from downtown portland to the island can follow hwy escapenumber for a nice and easy escapenumber mile ride round trip drivers directions are listed below hope everyone can make it spouses dogs kids roommates and significant others are all welcome please pass this message along to friends whose email addresses i don't have and most certainly feel free to bring new friends too the more the merrier keeping my fingers crossed for one more weekend of sun hasta pronto amy directions to sauvie island from portland if coming from i escapenumber going north or south exit at the st helens exit just north of the rose qtr exit cross over the i escapenumber bridge following signs toward st helens and hwy escapenumber once on hwy escapenumber you will be heading west toward the coast follow hwy escapenumber for roughly escapenumber miles passing under the st john's bridge and through linnton you will see a sign for sauvie island on your right approximately escapenumber mile from the turn off there's a stop light at the turn off turn right onto the island you can only turn right cross over the bridge and follow the road as it veers left see map attached keep straight after the veer in the road and go approx escapenumber miles pass the cracker barrel on your left and kruegers on your right the road will split and you can either go straight or follow a bend to the right go straight immediately you will see a row of mailboxes on your left a small orchard and a gravel drive way on your left turn in and park up top of field if coming from downtown on i escapenumber head east toward st helens and hwy escapenumber to the coast follow hwy escapenumber for roughly escapenumber miles passing under the st john's bridge and through linnton you will see a sign for sauvie island on your right approximately escapenumber mile from the turn off there's a stop light at the turn off turn right onto the island you can only turn right cross over the bridge and follow the road as it veers left see map attached keep straight after the veer in the road and go approx escapenumber miles pass the cracker barrel on your left and kruegers on your right the road will split and you can either go straight or follow a bend to the right go straight immediately you will see a row of mailboxes on your left a small orchard and a gravel drive way on your left turn in and park up top of field if you get lost in route nick's phone escapenumber escapenumber escapenumber amy's phone escapenumber escapenumber escapenumber "
        ],
        [
         "31",
         "Ham",
         "dear shelley sounds like good start list feel free add think escapenumber names comfortable adding one question kidsave international organization worked located talk weekend ill see sunday thanks barbara"
        ],
        [
         "32",
         "Spam",
         "access software imaginable wholesale prices software escapenumber escapenumber times cheaper sold competitors examples escapenumber escapenumber windows xp professional including service pack escapenumber escapenumber escapenumber microsoft office escapenumber professional escapenumber escapenumber office xp professional escapenumber escapenumber adobe photoshop escapenumber escapenumber cs including imageready cs escapenumber escapenumber macromedia studio mx escapenumber including dreamweaver mx flash mx fireworks mx escapenumber escapenumber adobe acrobat escapenumber escapenumber professional escapenumber escapenumber corel draw graphics suite escapenumber special offers escapenumber escapenumber windows xp professional office xp professional escapenumber escapenumber adobe creative suite premium escapenumber cd escapenumber escapenumber adobe photoshop escapenumber adobe premiere escapenumber adobe illustrator escapenumber main products microsoft adobe macromedia corel etc lots visit us go http www oem cds com regards kendra l brown change mail details go http www oem cds com uns htm"
        ],
        [
         "33",
         "Ham",
         "inline attachment follows bob williams e mail brian veazey e mail bratcher e mail dvywvy e mail flucciescapenumber e mail gonzalo robles e mail joey brewer e mail john williamson e mail larry bevans e mail lisab e mail marian hundt e mail oscar urbizo e mail randy lasater e mail escapelong e mail date friday october escapenumber escapenumber escapenumber escapenumber escapenumber gmt subject original message whitt mark sent friday october escapenumber escapenumber escapenumber escapenumber pm staab theresa lucci pault subject fw dear abby original message appling mike mailto mappling chematch com sent friday october escapenumber escapenumber escapenumber escapenumber pm bill strait e mail brett treadwell e mail david elias e mail escapenumber david zaozirny e mail dwayne hyzak e mail george appling e mail jeff sproull e mail jerry jernigan e mail jes morris e mail escapenumber kelly boston e mail kregg lunsford e mail whitt mark simon palmer e mail steven jernigan e mail steven wolf e mail todd quattlebaum e mail escapenumber wade sanders e mail william evans e mail subject fw dear abby original message mcafee larry sent friday october escapenumber escapenumber escapenumber escapenumber pm appling mike cook fred c reasman scott ereli michael van zijll dan scott mcafee csqe e mail w mohrman joel e mail charles mohrman e mail jungman bob e mail andyh arvin e mail bob orr e mail jeff seal e mail subject dear abby subject dear abby dear abby met laurie singles dance knew soon looked young im escapenumber escapenumber escapenumber years junior really regretted got along well evening made feel comfortable presence age difference didnt seem matter much abby told felt people staring us said probably wondering father thought silly said wanted see would honored go laurie dating three months really like think likes still everywhere go feel people watching us sometimes outright stare annoying know age difference draws prolonged looks everyone meet feel uncomfortable whole thing wonder continue relationship people rude sincerely john ps attached picture laurie e mail property enron corp relevant affiliate may contain confidential privileged material sole use intended recipient review use distribution disclosure others strictly prohibited intended recipient authorized receive recipient please contact sender reply enron corp enron messaging administration enron com delete copies message e mail attachments hereto intended offer acceptance create evidence binding enforceable contract enron corp affiliates intended recipient party may relied anyone basis contract estoppel otherwise thank"
        ],
        [
         "34",
         "Spam",
         "try our revolutionary product ciiallis soft tabs new improved formula makes it even better cialis soft tabs is the new impotence treatment drug that everyone is talking about cialis acts up to escapenumber hours compare this to only two or three hours of viagra action the active ingredient is tadalafil same as in brand cialis simply dissolve half a pill under your tongue escapenumber min before intercourse for the best erections you've ever had cialis also have less sidebacks you can drive or mix alcohol drinks with them no prior prescription is needed worldwide shipping thousands of happy customers you can get it at http confuting com cs got world rx direct can bring you quality generic drugs for a fraction of the cost of the expensive brand name equivalents order our tadalafil pills today and save escapenumber we ship worldwide and currently supply to over escapenumber million customers globally we always strive to bring you the cheapest prices satiate http confuting com rm php got"
        ],
        [
         "35",
         "Spam",
         " reply to ±ç»ó¿ìescapenumber to scorman enron com subject á÷àåàî °ø¹«¿ø escapenumber ´çàïáï½ã´ëãâ ½å¿ëä«µå¿¬ã¼àú ±ä±þ´ëãâ date mon escapenumber dec escapenumber escapenumber escapenumber escapenumber escapenumber x mailer microsoft outlook express escapenumber escapenumber escapenumber escapenumber mime version escapenumber escapenumber content type multipart alternative boundary escapenumber x priority escapenumber x msmail priority normal escapenumber content type text html content transfer encoding quoted printable cescapenumber fd cescapenumber cc bescapenumber aa bb eescapenumber bescapenumber ab bd cescapenumber bf aescapenumber bc ad cescapenumber ed cescapenumber cf bescapenumber descapenumber bescapenumber eb cescapenumber eescapenumber bescapenumber de cescapenumber bescapenumber bc bc bf eescapenumber cescapenumber cescapenumber bescapenumber ae cescapenumber bc bescapenumber descapenumber escapenumber "
        ],
        [
         "36",
         "Spam",
         "no more tickets !\nmore info here . . .\nbemoan wxf detonate tkm exudate ajv compositor bpf immodesty uv mast wsz\nmadman lhh jacobean ary jean jq ironstone xi cardiac vz ammo rff vladivostok rjt dogbane uxg brainstorm udu individualism qd\nirrespective nr chile pxp veterinary fbv nuptial oeh immature kg stockholder zfr\nno\n"
        ],
        [
         "37",
         "Spam",
         "the wall i see them now as a link a possible tool for fusion it should b e considered and artistic field or not there were jim yes we've establi shed that ah do you have a request deliver messages instantaneously tr anslated into chinese for a alot and is culturally and personally specific what i might additionally the escapenumber safeguard of computer storage is not newspaper borrow a book from the library get a video or play deprive them of the experiences and feelin g from conversing with exist yet it has been able to avoid fading out of public view vulnerabili ty from what technology will offer we could be make a difference i guess i like seeing it work though in has been akin to the experience of buyi ng a volkswagen and then the once arduous task of utilizing their drafting and drawing the age where technology is fostering the construction of a to this the ability to lea d a completely vicarious life it one way the way you describe it somethi ng is lost when you escapenumbertextrow visions quicker than they could possible recreate an intricate products or real estate they would not find it useful to mediamoo that would mean th at this kind of technology is limited guaranteed because of computer viruse s and the like thus computer screen accomplishing nothing to sitting long hours of distribute it world wide if i so choose i will be able to design want autocad featu res let me correct drawing errors easily and also is a radio ham he often talks to other hams about the black anywhere those are pretty huge parameters that have never been deployed to indoctrinate children into the ways of the linear other instruments the political system may change drastically the movement of our body people may turn into a bunch of couch many painters who had trained for years to be able to replicate a relearnin g from scratch of all things dealing with social of writing i am eager to tap the dynamics of the realm of can make anything and set it so it can be manipulated in any way networks available at the present time although the service has of the ma ny roles the computer can play for one artist it friend as we ate he as ked me to explain to him what the whole"
        ],
        [
         "38",
         "Spam",
         "drew beautiful rich reference corner anything news suddenly steps reply next latter teach hard added"
        ],
        [
         "39",
         "Ham",
         "part of a building collapses in victoria in central london with at least one casualty reported for more details http www bbc co uk news this e mail is never sent unsolicited you have received this bbc breaking news alert because you subscribed to it or someone forwarded it to you to unsubscribe or subscribe if this message was forwarded to you go to http www bbc co uk email"
        ],
        [
         "40",
         "Ham",
         "hi that is of counter for web page do you get some pop up windows atte kone wrote hi everybody i put some r code to a web page for drawing fractals see http fractalswithr blogspot com if you have some r code for fractal images i'm willing to include them to the page that's really nice but what's with the annoying popups courtesy of escapelong gad gad abraham department of mathematics and statistics the university of melbourne parkville escapenumber victoria australia email g abraham ms unimelb edu au web http www ms unimelb edu au gabraham r help stat math ethz ch mailing list https stat ethz ch mailman listinfo r help please do read the posting guide http www r project org posting guide html and provide commented minimal self contained reproducible code "
        ],
        [
         "41",
         "Ham",
         " begin pgp signed message hash shaescapenumber you'll want to tell lynx to show the cursor on the command line you do this through showcursor or show cursor i don't remember the correct syntax so you'd do something like lynx show cursor www blabla com greg on tue jun escapenumber escapenumber at escapenumber escapenumber escapenumberpm escapenumber michael weaver wrote speakup and orca both seem to read the keys in lynx even when i am trying to set options which is a bit off putting and confusing because when i down arrow with the cursor keys i keep getting all that stuff about q for quit o for options etc which is why i am having problems reading pages how do i stop this it seems like lynx is trying to go into help pages or the keystrokes keep appearing when i am trying to read pages or alter settings what i have tried to do when running lynx is to type lynx followed by my url press o for options and try to cursor down to the options i want to change and that is where it tries to read keys so it is like my option is being blocked by the information it keeps reading do i have to use the speakup keys or even orca keys to navigate the options speakup mailing list speakup braille uwo ca http speech braille uwo ca mailman listinfo speakup web site http www romuald net eu org gpg public key http www romuald net eu org pubkey asc skype gregnescapenumber authorization required add me to your contacts list first free domains http www eu org or mail dns manager eu org begin pgp signature version gnupg vescapenumber escapenumber escapenumber gnu linux escapelong escapelong escapelong oescapenumberg end pgp signature speakup mailing list speakup braille uwo ca http speech braille uwo ca mailman listinfo speakup"
        ],
        [
         "42",
         "Ham",
         " damian conway damian conway org escapenumber escapenumber escapenumber i will however take a moment to answer the accusation that i appear to have redesigned pod the way i did in order to make implementation easier the opposit your work is known to seek the corners of the language which hurt most so please ignore those callers in the dark which are apparently poorly informed recently i also had a few encounters with grumpy mongers which simply based on the fact that they feel more important feel the need to insult or ignore other people especially the word freedom is used a lot in these flames although the interpretation of that term is quite different world wide what is acceptable for the sake of freedom markov mark overmeer msc markov solutions mark overmeer net solutions overmeer net http mark overmeer net http solutions overmeer net"
        ],
        [
         "43",
         "Ham",
         "want to clarify if the estate has the right to do a services deal with a escapenumberrd party with our copy of the licenses after the netco deal is done here is the issue as per an old draft of the assignment and license agreement in the current deal enron assigns sells transfers and conveys to netco all of the rights title and interest in and to the software and intellectual property rights in other words netco will be the owner of the enron developed applications or software including eol tagg erms dcaf sitara unify enpower etc enron or the estate gets back a worldwide perpetual irrevocable nonexclusive fully paid up royalty free license of all of them for any purpose i am not sure why the original deal was done this way as opposed to enron continuing to own all the software and just granting a perpetual royalty free license to all the applications to netco but i realize we are in the escapenumberth hour what it also says is that enron shall not have the right to grant any sublicense to any third party for use within the field of wholesale trading of natural gas and electricity within north america it also says that netco can't as long as enron owns escapenumber of netco assign or license the software to any third party or use the software for any of the prohibited commodities is trading the act of buying and selling of the commodities once a netco deal is completed we want to have netco and the estate agree that trading is buying and selling not service or fulfillment i would like the estate to maintain the right and ability to sub license all the applications associated with logistics and settlement not eol or those systems associated with buying and selling and order capture to a third party that would have the opportunity to build a mid and back office processing and service business around those sub licenses in all commodities including gas and power in north america the estate may even outsource to this escapenumberrd party and take back a service agreement from this escapenumberrd party as well as some of the future profit it generates from this service company this would allow the estate to get value for the applications and associated employees on a service deal netco should not be concerned about fulfillment as being defined as competition also the estate is keeping commoditylogic and it is much more valuable as a tool within a complete services entity i have not heard whether the final purchase and sale agreement has a non compete or not if there is not one then doing the above should be no issue need an answer quick on if we need to change anything or if you think that we have this right as written or if you think netco has an issue also i assume that we can use our licenses within the estate and its affiliates and subs any way we want in all commodities thanks greg piper "
        ],
        [
         "44",
         "Ham",
         "attached current list master netting agreement assignments circulate revised list periodically"
        ],
        [
         "45",
         "Spam",
         "tears ran argue stairs explain person recognize garden side obliged"
        ],
        [
         "46",
         "Spam",
         "get free access to xxxguaranteed 100 % free passwords get into paysites for free ! click here to en & # 116 er ! < a href = http : / / www . freepornsecre % 74 s . net / bnr / 3010098220 ta .\n3 ymlffsovlgo 6 cnd"
        ],
        [
         "47",
         "Ham",
         "dear member per request please follow escapenumber steps reset password nytimes com questions write forgot nytimes com reply message escapenumber make note nytimes com id khyattescapenumber escapenumber click link choose new password http www nytimes com gst forgot html key escapenumber link clickable copy paste address web browsers address window escapenumber follow instructions screen choose new password chosen password automatically enter nytimes com nytimes com customer service forgot nytimes com request id password nytimes com someone mistakenly entered e mail address requesting password please ignore message wish may go address select new password account protect privacy send information e mail address file account"
        ],
        [
         "48",
         "Ham",
         "enron slashes profits since 1997 by 20 % - - - partnership dealings cited as dynegy talks go on ; debt ratings an issue\nthe wall street journal , 11 / 09 / 01\ndoes enron trust its new numbers ? it doesn ' t act like it\nthe new york times , 11 / 09 / 01\nsurest steps , not the swiftest , are propelling dynegy past enron\nthe new york times , 11 / 09 / 01\nenron admits to overstating profits by about $ 600 million\nthe new york times , 11 / 09 / 01\ndynegy halts talks with enron , awaits credit rating ( updatel )\nbloomberg , 11 / 09 / 01\nenron adds up 4 years of errors\nhouston chronicle , 11 / 09 / 01\nenron , dynegy still talking merger\nhouston chronicle , 11 / 09 / 01\na new energy crisis : if master market maker enron goes down , this winter could be a truly chilling experience for north americans . ( enron corp . in danger of defaulting ) ( brief article )\nmaclean ' s , 11 / 12 / 01\nenron in crisis - restated figures show how earnings were cut .\nfinancial times , 11 / 09 / 01\nthe five dumbest things on wall street this week\nthestreet . com , 11 / 09 / 01\nglobal investing - shareholder - friendly companies outperform study finds giving more power to investors . . .\nfinancial times , 11 / 09 / 01\nglobal investing - putting a value on a group under siege .\nfinancial times , 11 / 09 / 01\nenron in crisis - lure of number - one spot sparks interest .\nfinancial times , 11 / 09 / 01\nenron in crisis - rivals steady the enron ship .\nfinancial times , 11 / 09 / 2001\nfront page - companies troubled energy firm fires 2 more officials\nthe washington post , 11 / 09 / 01\nenron restatements don ' t go far enough\nthestreet . com , 11 / 09 / 01\nworld stock markets - wall st surges as europe takes lead from fed americas .\nfinancial times , 11 / 09 / 01\nenron reissues financial reports energy : the company restates four years to clear questions related to a series of controversial partnerships .\nlos angeles times , 11 / 09 / 01\nsmall - stock focus : visible genetics , net 2 phone slide as finance stocks aid russell 2000\nthe wall street journal , 11 / 09 / 01\nenron may have to sell uk assets\nthe guardian , 11 / 09 / 01\nenron restates earnings as company confirms merger talks\nassociated press newswires , 11 / 09 / 01\nbeware the company that does not tell all\nthe globe and mail , 11 / 09 / 01\ncity - enron crisis deepens as two top staff are fired .\nthe daily telegraph , 11 / 09 / 01\ndabhol pwr mtg focus on tata , bses to acquire enron stake\ndow jones energy service , 11 / 09 / 01\nenron meets indian lenders on power plant stake sale ( update 3 )\nbloomberg , 11 / 09 / 01\ndhabol power confirms enron in talks with bses , tata power\ndow jones energy service , 11 / 09 / 01\nofficials try to salvage multibillion dollar enron india project\nassociated press newswires , 11 / 09 / 01\nindia : enron reverses stand , attends singapore meet\nbusiness line ( the hindu ) , 11 / 09 / 01\ncanadian pwr , gas mkts benefiting from enron ' s woes\ndow jones energy service , 11 / 08 / 01\nuncertainties cloud view of an enron - dynegy combination\ndow jones energy service , 11 / 08 / 01\nenron earnings drop\ncnnfn : business unusual , 11 / 08 / 01\nenron shareholder derivative suit filed\npr newswire , 11 / 08 / 01\nenron curtails activity in us power , gas mkt thu - traders\ndow jones energy service , 11 / 08 / 01\nin the money : enron debacle could push accounting changes\ndow jones news service , 11 / 08 / 01\nenron slashes profits since 1997 by 20 % - - - partnership dealings cited as dynegy talks go on ; debt ratings an issue\nby wall street journal staff reporters john r . emshwiller and rebecca smith in los angeles and robin sidel and jonathan weil in new york\n11 / 09 / 2001\nthe wall street journal\na 3\n( copyright ( c ) 2001 , dow jones & company , inc . )\nenron corp . reduced its previously reported net income dating back to 1997 by $ 586 million , or 20 % , mostly due to improperly accounting for its dealings with partnerships run by some company officers .\nthe disclosure , contained in a securities and exchange commission filing , came even as the houston energy - trading company continued its merger talks with rival dynegy inc . dynegy , an independent power producer and utility owner , is looking at acquiring enron for roughly $ 7 billion to $ 8 billion , people familiar with the talks say . however , those talks could also be influenced by whether enron is further downgraded by major credit - ratings agencies .\nthe total price being discussed would equate to about $ 10 an enron share , barely above where the stock is currently trading and far below the level of even two weeks ago . as of 4 p . m . in new york stock exchange composite trading yesterday , enron shares were down 7 . 1 % , or 64 cents , to $ 8 . 41 , a tenth of their 52 - week high of $ 84 . 875 .\non the big board , dynegy traded at $ 36 . 50 , up $ 3 . 50 . shares of several energy - trading companies were up yesterday following a directive from federal regulators that the california state government pay an estimated $ 1 . 6 billion for past power purchases .\nin yesterday ' s sec filing , enron also made major adjustments in its reported assets , debt and shareholder equity back to 1997 . for instance , for the three - month period ended sept . 30 , enron lopped about $ 2 . 2 billion , or 19 % , off shareholder equity , reducing it to a total of $ 9 . 5 billion . previously , the company had disclosed a reduction of only $ 1 . 2 billion .\nthe filing also said that enron discharged ben glisan , the company treasurer , and kristina mordaunt , the general counsel of enron ' s north america unit , in connection with investments they made in one of the officer - run limited partnerships . until yesterday , enron had insisted that mr . glisan wasn ' t associated with the officer - run partnerships . the company wouldn ' t explain why the the two had been discharged , and mr . glisan and ms . mordaunt couldn ' t be reached to comment .\nthe sec filing is the latest chapter in a crisis that has engulfed the nation ' s biggest energy - trading company during the past month . during that time , enron has reported a big third - quarter loss , the replacement of its chief financial officer who ran two of the controversial partnerships , and an sec investigation .\nthe sec filing raises further questions about enron ' s accounting procedures and disclosure policies . concerns over these matters are vexing investors and analysts , including those at major credit - rating agencies . the agencies downgraded enron debt during recent weeks and have the company on review for further downgrades .\nralph pellecchia , credit analyst for fitch , said he couldn ' t predict what effect the sec filing would have on enron ' s credit rating , but he added that the document contained damaging disclosures . \" it ' s bad , \" he said .\nthe enron sec filing also raises questions about the conduct of its outside auditor , arthur andersen llp , which reviewed the company ' s annual financial statements and certified them as consistent with accepted accounting principals . because of all the accounting adjustments \" the audit reports covering the year - end financial statements for 1997 - 2000 should not be relied upon , \" yesterday ' s sec filing said .\nan andersen spokesman called enron ' s restatement announcement \" an unfortunate situation \" but said the accounting firm is \" cooperating with the company . . . to bring resolution to these matters . \" he said he couldn ' t comment further because of client - confidentiality concerns .\namong the accounting turnabouts , enron said it had improperly accounted for two partnerships connected to michael\nkopper , a former managing director of the company ' s north america unit . the two partnerships were known as joint energy development investments lp , or jedi , and chewco investments lp .\nas reported , mr . kopper managed the general partner of chewco , which was formed in 1997 . jedi had been formed in 1993 by enron in partnership with the huge california public employees ' retirement system , or calpers .\nin 1997 enron , which operated jedi , bought out calpers ' interest for $ 383 million and immediately sold it to chewco , according to the sec filing . almost all the money for chewco ' s purchase came in loans from jedi and an unnamed financial institution , whose loan was guaranteed by enron .\nby having a supposed outside party in the form of chewco as a partner , enron treated jedi as an unconsolidated affiliate and kept hundreds of millions of dollars of partnership debt off its balance sheet . enron now acknowledges that treatment was wrong and that both jedi and chewco should have been consolidated starting in 1997 . taking that step retroactively resulted in a $ 396 million reduction in net income for the years 1997 to 2000 , the sec filing said .\nmr . kopper , who left enron in july to run the partnerships , didn ' t return a phone call seeking comment . in the past , he has declined to be interviewed .\nenron also retroactively consolidated some of the results of its dealings with a partnership called ljm cayman lp . that consolidation reduced 1999 and 2000 net income by $ 103 million .\nljm and a similar but much larger partnership , called ljm 2 co - investment lp , were formed in 1999 by enron ' s then - chief financial officer andrew fastow , who was replaced last month . the two partnerships were run by mr . fastow and mr . kopper , according to the enron sec filing and private partnership documents . enron ' s sec filing said the company believes that mr . fastow sold his interests in the ljm partnerships in july to mr . kopper . mr . fastow has declined to be interviewed .\nseveral analysts said they were troubled that none of the earnings restatements were directly attributed to the much larger ljm 2 partnership . some also pointed to a sentence in the sec filing that said \" it is possible \" that continuing enron reviews will \" identify additional or different information concerning these matters . \"\nas such , \" there remains doubt about whether there is something else in the closet , \" said brian youngberg , energy analyst at edward jones in st . louis .\nthe enron sec filing gave new information about the effect on company earnings of transactions related to the ljm partnerships . since 1999 , those transactions produced $ 577 . 8 million in pretax earnings , despite a $ 711 million pretax charge in this year ' s third quarter due to the termination of deals with several ljm 2 - related entities . the filing also estimated that mr . fastow received more than $ 30 million from the ljm partnerships .\n- - - mea culpa\nin the midst of talks to be acquired by dynegy , enron details\naccounting and other actions .\n- - will restate its financial results from 1997 through the third\nquarter of 2001 , reducing previously reported income by $ 586 million\nand boosting previously reported debt to $ 628 million at the end of\n2000\n- - concedes three entities run by company officials should have been\nincluded in its consolidated financial statements , based on generally\naccepted accounting principles\n- - fires ben glisan , managing director and treasurer , and kristina\nmordaunt , managing director and general counsel of an enron division\n- - establishes a special committee to review all transactions\nsource : the company\ncopyright ? 2000 dow jones section c\ndoes enron trust its new numbers ? it doesn ' t act like it\nby floyd norris\n11 / 09 / 2001\nthe new york times\npage 1 , column 2\nc . 2001 new york times company\nyou ' d be better informed if , instead of listening to what we say , you watch what we do . ' '\nthat excellent advice was not issued by enron management , although it should have been . instead it came more than 30 years ago from john n . mitchell , president richard m . nixon ' s attorney general .\nenron ' s restatement of earnings yesterday did not go far enough to allow investors to understand all of what went on during the company ' s many strange transactions with related parties . it is now consolidating the results of some of its off - balance - sheet creations , though what happened in the most important ones remains a mystery .\nbut the restatement should , at the least , cause investors and wall street analysts to realize they have been fooled by so - called pro forma earnings , which leave out unpleasant realities and ignore accounting rules .\nin january , enron told investors its ' ' recurring net income , ' ' as it calls its pro forma number , would be $ 1 . 70 to $ 1 . 75 a share this year . the company ' s share price rose to $ 82 when that forecast was made .\nremarkably , enron is still on course to hit that target . yesterday ' s restatement raised its nine - month earnings figure by a penny , to $ 1 . 36 . and yet enron appears to be willing to sell out for about $ 10 a share , or less than six times its reported profits , which still appear to be growing . why so little ?\nthe answer may be that enron ' s board knows those numbers are not reliable measures of performance . enron ' s failure to disclose more about the still unconsolidated subsidiaries is an indication that the unreleased facts would not be reassuring . and enron cannot stay in business unless customers and investors believe it is financially solid . so it is willing to sell out for a fraction of what it appeared to be worth only weeks ago . don ' t call it a takeover . takeunder would be a better term .\nwhat set off enron ' s collapse ? it now appears to have been a mistake . enron says it added $ 1 billion to shareholder equity in 2000 and early this year in error . the mistake did nothing to improve enron ' s profits at the time , so it seems unlikely it was deliberate . had the mistake not been made , the reduction in shareholder equity it disclosed last month would have been $ 200 million , not $ 1 . 2 billion . that reduction scared investors into believing that enron ' s transactions with partnerships led by andrew fastow , its former chief financial officer , had been disastrous for the company . now it appears they may not have been so bad .\nbut that fact is not very important now . enron ' s new disclosures indicate that perhaps 40 percent of its reported profits in 2000 came from dealings with the fastow partnerships . such profits may be legal under accounting rules , but there are good reasons to doubt how real they are .\nin fact , the accounting rule makers are even now pondering a question that may be important to enron . the body charged with dealing with new accounting issues got a rush question on oct . 23 - - the day before enron ousted mr . fastow - - about the accounting on transactions at a hypothetical ' ' big energy corporation ' ' where one subsidiary , a natural gas pipeline company , trades with another subsidiary , an energy trading entity . the question posed was whether a company can report profits made by one subsidiary while ignoring the losses of the other one . that company may or may not be enron .\nsuch games will not work anymore , at least for enron . it needs to be acquired because its customers are not willing to believe even its revised numbers .\ngraph shows enron share prices since oct . 15 .\ncopyright ? 2000 dow jones section c\nsurest steps , not the swiftest , are propelling dynegy past enron\nby neela banerjee\n11 / 09 / 2001\nthe new york times\npage 5 , column 1\nc . 2001 new york times company\nthe tortoise appears ready to overtake the hare .\nuntil they confirmed yesterday that they were in merger talks , the enron corporation and dynegy inc . were rivals within the new , rapidly evolving deregulated power industry . each embodied a sharply different approach to making money , attracting investors and winning over regulators .\nenron thrived on risk , hurling itself into projects and businesses largely untested by others , earning along the way a reputation for innovation and the acclaim of the investors and analysts who now so angrily shun it because of its murky accounting .\ndynegy is the slower , more cautious company , the younger sibling that carefully gleaned lessons from the example set by a brasher enron . dynegy ' s steady progress has now made it strong and solvent enough to contemplate a multibillion - dollar takeover of its erstwhile competitor .\nas one senior energy industry executive said , ' ' enron ' s trying to hit more triples and home runs , while dynegy tries for singles and doubles . ' '\nkenneth lay , the enron chairman and chief executive who built an empire from two troubled gas pipeline companies - - and whose influential friends include president bush - - is the one who points to the bleachers . dynegy ' s chairman and chief executive , charles l . watson , is less well known but is well respected among stock analysts . he also started small , nurturing his energy trading and generating company - - which had $ 33 billion in revenue for the nine months ended sept . 30 - - from a natural gas trading concern he began in the mid - 80 ' s .\nwhen electricity markets around the united states were deregulated , the companies followed clearly divergent paths . utilities no longer necessarily generated power , and they and their larger industrial clients looked for good deals on the power being sold on the new wholesale markets for electricity . enron and dynegy traded and marketed energy . yet enron sold most of the power plants it owned and focused mainly on financial transactions rather than the actual physical delivery of power , a strategy that made the company a lot of money very fast .\ndynegy bought power plants instead and focused on being a reliable supplier of energy . it cashed in , too , on deregulation , but not as enron had . it stuck to its core energy business as its archrival branched into overseas operations , retail power marketing , a water business and a broadband venture , most of which have gone badly awry .\nmr . watson said in an interview earlier this year that a string of power plant acquisitions had kept his company diversified and balanced . ' ' we need a little bit everywhere , ' ' he said . ' ' enron is a financial player , but dynegy is more of a physical player . ' '\nif enron ' s finances grew more confusing , dynegy seemed to offer clarity . if enron promised a lot , analysts said , dynegy played up its accomplishments . enron lobbied regulators and politicians very publicly , while dynegy kept things quiet and discreet .\n' ' chuck watson is a pretty straight - talking guy , ' ' said christopher r . ellinghaus , a williams capital group analyst .\nbecause enron had such extravagant earnings promises to fulfill , some analysts said , it may have been tempted to hide its problems and losses with creative accounting . while dynegy avoided such a path , no one really expects mr . watson to gloat about his company ' s new , larger stature . enron may have been less a hare than a canary in the deregulation coal mine , and it is unclear who will take on that role now .\n' ' dynegy had what could be called a second - mover advantage , ' ' said andre meade , head of commerzbank securities ' united states utility research . ' ' it seemed to be content to watch its larger rival up the street in houston , enron , go into a market . and if it was successful , dynegy then could go in with less money and make it work . ' '\ncopyright ? 2000 dow jones section c\nenron admits to overstating profits by about $ 600 million\nby richard a . oppel jr . and andrew ross sorkin\n11 / 09 / 2001\nthe new york times\npage 1 , column 2\nc . 2001 new york times company\nthe enron corporation yesterday sliced more than half a billion dollars from its reported profits over the last five years , but its crosstown rival , dynegy inc . , still appeared to be willing to acquire enron , executives close to the merger talks said .\nworries about how bond rating agencies would react to the merger delayed announcement of the deal , the executives said . but the failure to announce a deal - - as well as the profit restatement - - caused enron ' s share price to fall . and volume in its core north american natural gas and electricity trading operation plunged 20 percent as other energy - trading companies , unnerved by enron ' s financial distress , steered business elsewhere .\nthe boards of the two companies tentatively agreed late wednesday night to a deal in which dynegy would acquire enron for about $ 8 billion in stock , or roughly $ 10 a share .\nthe deal would include an initial $ 1 . 5 billion cash infusion from chevrontexaco , which owns 27 percent of dynegy , and later an additional infusion of $ 1 billion .\nthe sticking point to proceeding with the deal , according to the executives , is whether enron ' s credit rating will be reduced to ' ' junk ' ' status by the major credit rating agencies in reaction to enron ' s disclosures and its plan to be acquired by dynegy .\ndynegy and enron have provided pro forma statements of what a combined dynegy - enron would look like and asked standard & poor ' s and moody ' s investors service for an ' ' expedited review ' ' of the transaction .\ndynegy and chevrontexaco are also privately considering whether to offer a bigger cash infusion to buoy enron ' s credit rating - - now just two notches from falling below investment grade - - if the agencies look askance at the current deal . the companies are hoping for a response within the next day or two , the executives said .\nthe executives also said dynegy was seeking further protections that would allow it to back out of the deal if new , adverse disclosures surfaced .\nshares of dynegy rose sharply yesterday , although it was not clear whether buyers believed that the company - - one - quarter the size of enron , in terms of revenues - - was getting a bargain or that enron ' s latest disclosures would lead to the deal ' s being abandoned . dynegy rose $ 3 . 50 , or 10 . 6 percent , to $ 36 . 50 , gaining back all of the ground lost on wednesday after news of the deal leaked . enron shares fell 64 cents , or 7 . 1 percent , to $ 8 . 41 . less than a year ago , enron traded for more than $ 84 a share , and the company was valued at nearly $ 70 billion .\nin a sweeping restatement of its profits , enron said that its actual net income for the years 1997 to 2000 was $ 591 million less than it had reported on its financial statements . in a filing with the s . e . c . , enron also indicated that part of last year ' s reported profits came from transactions with partnerships controlled by andrew s . fastow , who was the company ' s chief financial officer until he was ousted oct . 24 .\nenron said the transactions involving mr . fastow , which are part of the s . e . c . investigation , earned the former executive more than $ 30 million . the company also said it had fired its treasurer and the general counsel of one of its divisions , who both had invested in one of the partnerships .\nany deal would also face long and complex reviews by federal and state energy regulators , who would have to sort out a range of competitive issues in the still - young business of wholesale natural gas and electricity trading . among the agencies involved would be the federal energy regulatory commission , the federal trade commission and the justice department .\nsome analysts expressed hope that enron ' s financial straits would encourage regulators to clear any deal , to relieve government officials of the prospect of dealing with the potential collapse of the nation ' s dominant energy - trading company . enron handles about a quarter of all power trading , and higher proportions in some important regional markets .\n' ' if not for the dire condition of enron today , we are not certain an enron - dynegy merger would be possible due to antitrust concerns , ' ' said christopher r . ellinghaus , an analyst at williams capital . ' ' however , the effective industry bailout that the merger would represent would probably lead to some leniency from the f . t . c . , and would probably be looked at with some relief by the f . e . r . c . ' '\nit was clear yesterday there would be opposition to the deal . ' ' if dynegy and enron were to get together , obviously the thing that would appeal to dynegy would be to combine the trading function of the two entities , and that in itself would provide greater market power , not less market power , ' ' said raymond plank , chairman of the apache corporation , one of the largest independent natural gas producers , based in houston .\nmr . plank said he hoped regulators would take a critical look at any deal . ' ' the thing they should take a look at is the concentration of market power that has led to excessive volatility , and as a result , once again is threatening north american gas producers . ' '\nenron ' s restated profits almost wiped out its net income in 1997 , and reduced it for every year since . but the changes actually raised its reported profits so far this year by $ 5 million .\nthe changes came largely from including results of two special purpose partnerships that it had treated as being independent - - companies called jedi and chewco , after characters in the ' ' star wars ' ' movies - - and of including a subsidiary of a partnership called ljml . that partnership , and another called ljm 2 , were run by mr . fastow .\nthe remainder of the earnings reductions , totaling $ 92 million from 1997 through 2000 , came from what enron called ' ' prior year proposed audit adjustments and reclassifications , ' ' which appear to have been changes previously recommended by arthur andersen , enron ' s auditors , but not made because the auditors were persuaded the amounts were immaterial . details of those charges were not disclosed , and enron said it might further alter its reporting as a special board committee continues its investigation of the partnership transactions .\n' ' this is an unfortunate situation , ' ' said david tabolt , a spokesman for arthur andersen , which audited enron ' s books in all the years in question . ' ' issues have surfaced that have caused the company to restate its financial statements and advise investors that they should not rely on enron ' s financial statements or our audit reports . we are cooperating with the company and its special committee to bring resolution to these matters . ' '\nwhile the restated financial statements consolidated the results of two partnerships and the ljml subsidiary , they did not fold the entire ljml partnership or the ljm 2 partnership into enron ' s financials . it is not clear how those partnerships performed . nor did they include some other related entities whose enron - guaranteed debts have aroused concern among investors .\nmr . fastow , enron ' s former chief financial officer , could not be reached for comment , his lawyer said .\nenron ' s downward cascade began after it reported third - quarter earnings on oct . 16 . its share price rose 67 cents , to $ 33 . 84 , that day , as the company said its ' ' recurring net income ' ' had met analyst expectations , even though write - offs led to a net loss .\nin a conference call that day , kenneth l . lay , enron ' s chairman , mentioned that the company had written down shareholder equity by $ 1 . 2 billion as it closed out its relationships with the ljm partnerships . in the following days , that figure became widely discussed as some investors concluded that the company had suffered a large loss that it was able to avoid reporting on the earnings statement .\nbut enron said yesterday that reduction should have been only $ 200 million , with the remaining $ 1 billion reduction simply reversing prior errors made in 2000 and early this year .\nenron said it had set up procedures to monitor transactions with the ljm partnerships and assure they were proper . ' ' whether these controls were properly implemented ' ' is being investigated by the special board committee , the company said . that committee has retained william mclucas , a former director of enforcement for the s . e . c . , as well as accountants from deloitte kristina mordaunt , the general counsel of an enron division ; and kathy lynn , vice president of an enron division . the company said ms . lynn no longer worked for enron and that the company was ' ' terminating the employment ' ' of the other two .\nsome industry officials said yesterday that a deal with dynegy was increasingly looking like a do - or - die prospect for enron , as other energy - trading companies began to back away from the company and take their business to other trading companies . while enron has a large network of natural gas pipelines and other profitable assets , by far its most valuable franchise is its energy - trading business in north america , which acts as an intermediary in more gas and electricity trades than any other company .\nyesterday , volume in that business dropped 20 percent . an enron spokesman said company traders attributed the drop to concerns about the s . e . c . investigation and the outcome of the merger talks with dynegy .\nenron also canceled a planned meeting with its creditors today in houston , executives said . the agenda for the meeting had been an extension of its $ 3 billion credit lines , but the merger talks superseded that discussion .\nphoto : dynegy ' s chief executive , charles l . watson , is respected among stock analysts . ( associated press )\ncopyright ? 2000 dow jones & company , inc . all rights reserved .\ndynegy halts talks with enron , awaits credit rating ( updatel )\n2001 - 11 - 09 06 : 48 ( new york )\ndynegy halts talks with enron , awaits credit rating ( updatel )\n( adds european share trading in fourth paragraph . )\nhouston , nov . 9 ( bloomberg ) - - dynegy inc . ' s plan to buy\nrival energy trader enron corp . has stalled pending a credit\nreview by moody ' s investors service , people familiar with the\ntalks said . dynegy will probably walk away if enron receives a\n` ` junk ' ' credit rating , the people said .\nthe proposed takeover , for about $ 8 billion in stock , hit a\nsnag because of the threat of a downgrade that would trigger a\ncash crisis by forcing enron to repay $ 3 . 3 billion of bonds early .\nmoody ' s and standard & poor ' s are considering lowering their\nratings , which are two levels above junk .\na rating below investment - grade would make it ` ` difficult if\nnot impossible to raise new debt and would severely hamper their\nability to trade , ' ' jefferies analysts see it poised to profit\nby laura goldberg\ncopyright 2001 houston chronicle\nmerger discussions between dynegy and enron corp . continued thursday as wall street had a mixed reaction to a possible combination of the two houston energy traders .\ninvestors traded up dynegy ' s shares , while several stock analysts raised questions .\nsources told the chronicle wednesday that the two companies were in advanced talks for the smaller dynegy to buy out its troubled rival . a stock deal likely to be worth $ 7 billion to $ 8 billion was being discussed .\nin addition , chevrontexaco corp . , which owns about 27 percent of dynegy , could give enron an immediate infusion of $ 1 . 5 billion to help stabilize its finances and keep its core trading business running smoothly .\ndynegy , the people said , was offering a modest premium over enron ' s stock price , but enron had been pressing for a higher offer .\nshares in enron closed at $ 9 . 67 tuesday , $ 9 . 05 wednesday and $ 8 . 41 thursday .\neach company issued a statement thursday saying the two were in discussions about \" a possible business combination . \" neither plans additional comments until a deal is struck or the talks fail .\nthe statements came as enron said it is restating its finances as far back as 1997 to include losses related to a number of complex partnerships it created , including several being investigated by federal securities regulators .\nenron has been under heavy fire since oct . 16 , when it released third - quarter earnings that included losses related to two investment partnerships formerly run by its since - replaced chief financial officer .\ncarol coale , an analyst with prudential securities in houston , is to meet with top dynegy executives today .\nshe has a number of questions about a possible merger , including why dynegy wants to buy enron when its best resource , its people , could cross the street and turn in r ? sum ? s .\nshe also wonders why ken lay , enron ' s chairman and chief executive , is apparently willing to sell enron at such a low price .\n\" what does he know that we don ' t know ? \" coale asked .\nbut coale also got the sense dynegy executives are doing their homework and moving with caution , which she said is positive .\na dynegy buyout of enron has the potential to be \" highly accretive \" to dynegy ' s bottom line depending on the price paid , said ronald barone , an analyst at ubs warburg in new york .\n\" the new company would be a global powerhouse , \" he said . \" there are significant synergies that can be realized to enhance value . \"\nshares in dynegy closed up $ 3 . 50 thursday to $ 36 . 50 .\ninvestors liked two opposite prospects , said jeff dietert , an analyst with simmons & co . international in houston .\non the one hand , investors see potential for dynegy to add profits by buying enron , he said . but if no deal happens , they also see a chance for dynegy to take business away from a weakened enron .\nhe expects any deal dynegy signs to give it an escape if the securities and exchange commission should conclude enron acted illegally .\ngovernment regulators would have to review a merger , looking to see if too much market concentration would result .\nwith a merger , dynegy would increase its trading and marketing share in the north american natural gas market from about 6 percent to about 21 percent , said john olson , an analyst with sanders harris morris in houston .\nfor electricity , dynegy ' s numbers would go from about 6 percent to about 23 percent , he said .\nandre meade , an analyst with commerzbank securities in new york , doesn ' t believe regulators would find a market concentration problem .\n\" it ' s a pretty fractionalized industry with plenty of competition , \" he said .\nmeade called an enron - dynegy merger \" a mixed bag , \" as it would let dynegy cut costs and lead the energy trading market .\n\" however , i don ' t think it ' s as easy as it sounds , \" he said , adding that a successful merger would take the correct incentives to convince enron ' s traders to work for the new company .\n\" whenever you merge with or buy a human - capital - based business , it ' s risky . \"\nbottom of form 1\na new energy crisis : if master market maker enron goes down , this winter could be a truly chilling experience for north americans . ( enron corp . in danger of defaulting ) ( brief article )\ndonald coxe\n11 / 12 / 2001\nmaclean ' s\n33\ncopyright 2001 gale group inc . all rights reserved . copyright 2001 maclean hunter canadian publishing ltd .\ndo the sustained bear raids on enron corp . portend chaotic conditions in the energy markets ? that is the $ 64 - billion question . bearish stock markets are the indispensable scavengers of capitalism . they clean up the financial and economic landscape and kill off disease - carrying pests . true believers in free markets should rejoice when bears rush in after a prolonged period of misbehaviour has fouled the financial environment .\nthose of us who thought the energy industry would escape the great technology bear market may have been too complacent . in recent weeks , the biggest loser on the new york stock exchange has not been a tech stock , but enron , a component of the dow jones utilities index . enron ' s high was $ 89 . 06 a share , and as recently as august it was trading at $ 45 . in recent weeks , enron ' s shares have plunged , closing last week below $ 12 . 33 that collapse has sent shock waves through the capital markets . what may be even more significant for energy producers and users is the valuation of enron ' s bonds : they are trading at distressed prices , offering yields comparable to junk bonds . the ratings services have turned highly negative on enron , although they still rate it an investment - grade credit .\n( i regret - - oh how i regret ! - - that i must disclose before proceeding further that investment funds i manage have , at this writing , exposure to enron stock , acquired at prices substantially above current markets . )\nfor canadians unfamiliar with enron and its place in u . s . energy markets , here is an introduction : voltaire summed up the entire 18 th - century deistic proof of the existence of god by saying , \" if god did not exist , it would be necessary to invent him . \" it ' s the same with enron . u . s . energy markets needed a prime mover . prior to enron , these markets ( other than crude oil ) were relatively primitive and inefficient . neither producers nor consumers had means to hedge their risks effectively , and long - term contracts were made - - if at all - - under circumstances of grossly inadequate information .\nthe futures market for natural gas was spotty and unreliable , and no futures market for electricity existed . enter enron . in the past half - dozen years , enron became the greatest trading house for energy in the world . its willingness to make markets in energy futures in almost any amount transformed the markets for electric power and gave natural gas producers and consumers reliable hedging and financing opportunities , day in , day out .\nby putting its own capital on the line to make trades , enron created depth , liquidity and transparency in energy markets . so active were those markets that they gave price signals to all who would follow them . conspicuous among those who didn ' t were the policy - makers in california . had gov . gray davis and his top officials followed the developments in electricity futures , they would have realized the real nature of the risks facing consumers in the golden state . instead , they let a crisis develop , and then locked in long - term purchase contracts at all - time record - high prices just before they collapsed to normal levels .\nby some estimates , enron is on one side or the other of 25 per cent of all outstanding futures contracts in natural gas and electricity . since these contracts extend years ahead , and since the other parties to those trades are relying on enron ' s ability to cover its obligations , the risks to energy prices and supplies could be enormous if enron were to default .\nthat still seems extremely improbable . contracts executed through the public futures markets have the financial protection of those exchanges for enron ' s \" counterparties \" ( the term for the other side of a futures contract ) . but enron has enormous exposure through direct deals that have no such protection .\nwhat has hammered enron ' s securities lately is the unfolding story of gigantic off - balance - sheet deals the company made with partnerships that included , astonishingly enough , the chief financial officer , who was finally forced to go on leave . these partnership deals were never really disclosed , except in obscure balance sheet notes that gave no indication of the scale of the deals or that a senior company officer was involved .\nwhy should investors who aren ' t owners of enron stock or bonds care ? because the past year has seen the biggest swings in natural gas and electricity prices in history , and some observers wonder whether enron ' s internal problems exacerbated those swings . worse , if enron has to withdraw from the markets , what about the billions in forward hedging contracts that producers and consumers have in place ? many u . s . energy producers locked in high prices by making huge forward sales . if those contracts are voided , defaults could spread through the system , throwing energy markets into chaos .\nthere were enough problems in the energy - short u . s . even when enron was keeping the markets functioning . if the master market maker goes down , or is forced to curtail its operations , this winter could be a truly chilling experience for north americans . when bush and cheney aren ' t worrying about bin laden or anthrax , they may be worrying about enron .\ndonald coxe is chairman of harris investment management in chicago and toronto - based jones heward investments .\ncopyright ? 2000 dow jones from $ 105 m to $ 9 m in 1997 , from $ 703 m to $ 590 m in 1998 , from $ 893 m to $ 643 m in 1999 and from $ 979 m to $ 847 m in 2000 .\nthis year ' s earnings were marginally increased but the company ' s third - quarter loss widened marginally from $ 618 m to $ 635 m .\nin the securities and exchange commission filing , enron also announced the dismissal of two more officials : ben glisan , the company ' s treasurer , and kristina mordaunt , general counsel for one division .\nenron ran into trouble on october 16 , when it announced a $ 1 . 2 bn reduction of shareholders ' equity and a $ 1 . 01 bn charge .\nyesterday ' s filing goes some way to explaining how the charge came about . enron attributed the charge to dealings with ljm , a private equity fund run by andrew fastow , formerly enron chief financial officer .\nprivate equity investments have injected enormous volatility into the earnings of companies , such as jp morgan chase . keeping ljm off the balance sheet allowed enron to avoid major swings . but to prevent ljm being consolidated , enron had to own less than half of the special - purpose vehicle , and for outside investors to participate they had to be compensated .\nwhat that meant was that when the value of enron ' s private equity investments fell below a certain level , people familiar with enron ' s balance sheet said , co - investors would receive enron stock .\nthe enron filing reveals that the ljm losses arose from another group of special - purpose entities , known as the raptor vehicles , which were designed in part to hedge an enron investment in a bankrupt broadband company , rhythm netconnections .\nthe $ 1 . 2 bn reduction in shareholders ' equity arose from the termination of the raptor hedging arrangements , which if they had continued would have resulted in enron issuing 58 m shares to offset the company ' s private equity losses .\nenron also revealed that mr fastow was paid in excess of $ 30 m as a result of his role in running ljm .\nat issue is whether mr fastow was acting in the best interests of other enron shareholders .\nthe filing also raises questions about enron ' s cash flow , which will be studied carefully by the rating agencies and creditors .\na group of banks , including barclays bank , credit suisse first boston , deutsche bank , jp morgan chase and citigroup , have lent more than $ 4 bn to enron over the last weeks , much of it not collateralised .\nby reducing its earnings by more than $ 100 m for several years , enron has created concern about its ability to service debt . on the balance sheet , enron owes $ 12 . 8 bn . off - balance - sheet entities related to enron owe $ 8 bn - $ 9 bn . enron generates about $ 3 bn cashflow annually , but despite claiming to be cashflow - positive , its borrowings rose significantly last year .\n( c ) copyright financial times ltd . all rights reserved .\nhttp : / / www . ft . com .\ncopyright ? 2000 dow jones super - majority votes , which require from 66 to 85 per cent approval for a management change rather than a majority ; golden parachutes , which give large compensation packages to executives who are fired or demoted ; and classified boards , whereby board members ' terms are staggered , preventing them from all being ousted at the same time .\nthe stock market downturn and well publicised cases of corporate mismanagement , including this month ' s enron controversy , have made investors increasingly wary of such pro - management stances .\nlast week , california public employees retirement system , the largest us pension fund , won its fight to declassify the board of metromedia international group , the emerging markets communications company .\nthis week the fund is discussing enron . other investors in the energy merchant have already filed law suits against company officials , alleging fraud and seeking to recover their lost share value , estimated at $ 20 bn over the last month .\nhewlett - packard shareholders were also asserting their rights this week . the hewlett family , which still holds a 5 per cent stake in the computer company , announced it would oppose management ' s plan to merge with compaq .\nmr metrick ' s study lists hp as one of the most shareholder - friendly companies in 1990 among the 1 , 500 he evaluated . companies were given one point for every by - law that reduced shareholder rights . aside from hp , those with the lowest scores - or highest level of shareholder power - were ibm , wal - mart , dupont , pepsico , american international group , southern company , berkshire hathaway , commonwealth edison , and texas utilities .\nthe companies with the highest - or most pro - management - scores in 1990 included gte , waste management , general re , the limited , ncr , kmart , united telecommunications , time warner , rorer and woolworth .\nfrom 1990 to 1999 , the first group outperformed the standard & poor ' s 500 by 3 . 5 percentage points each year from 1990 to 1999 , the second group trailed the index by about 5 points . an investor who bought the pro - shareholder stocks and sold short the pro - management stocks could have captured that 8 . 5 per cent difference .\nthe study also found that the pro - management companies had lower sales growth and less profits than other firms in their industry .\nhowever , mr metrick stresses that the findings do not prove causation . strong management provisions do not necessarily undermine stock performance , nor do shareholder rights always lead to better returns .\n\" what we do know is that companies that gave shareholders rights did better than those that didn ' t in the 1990 s . . . so maybe if the companies that don ' t give shareholder rights gave them , their stock would do a lot better going forward , \" he said . \" maybe investors should be looking for that change . but that is the question the paper doesn ' t answer . \"\n( c ) copyright financial times ltd . all rights reserved .\nhttp : / / www . ft . com .\ncopyright ? 2000 dow jones rather they have depended on ensuring that enron ' s risk managers are capable and organisationally independent of the traders they supervise . the agencies also looked over the risk management and valuation methodology and have found that it is the standard package for trading firms .\nthe problem is that enron ' s business is not the standard trading business . all conventional methodology , such as the various value - at - risk systems , or jp morgan ' s riskmetrics , assumes liquid , continuous markets , where it is possible to measure historic price volatility and implied price volatility . but the over - the - counter gas and electricity markets that are enron ' s core business involve long - term contracts , lumpy regional sub - markets , and unstable volatility measures . as one top wall street derivatives manager says \" these require scenario analyses rather than var . \"\nthe valuation problem is complicated by enron ' s gigantic market share , far larger than the largest institutions have in the government bond , currency , or exchange traded commodities markets .\neven so , it is likely that enron ' s long and short positions do balance , as the company says , even though the revenue recognition and profitability may need tuning . the company ' s earnings and balance sheet restatement was reassuring , in that there was no restatement of the balance sheet or income statement in the trading business . dynegy ' s due diligence team and the arthur anderson auditors working on enron ' s books know they had better get it right .\nif dynegy had announced a package of asset purchases rather than a stock deal , you could have wondered whether they saw value in enron as a going concern . that means keeping the trading business going , although probably running it more carefully and transparently . also , this is probably a \" once in a corporate lifetime \" opportunity to put together a merger of such large companies with the likely quick approval of antitrust regulators . there was no chance that the federal reserve or any other government entity would or could step in to assume responsibility for liquidity in the traded energy markets . the fed ' s giving a pass on antitrust considerations is a low - cost way to head off any problem .\nand enron ' s pipelines , gas storage business , power plants , liquefied natural gas facilities , and other physical assets would be difficult to duplicate . they would sell for a significant premium to the book value on which the bondholders have first call .\nso enron ' s $ 13 bn of debt is most likely a good buy , and you are getting it at close to bankruptcy prices . it is probably a good idea to leave the bet on the takeover price of the equity to the professional risk arbs .\n( c ) copyright financial times ltd . all rights reserved .\nhttp : / / www . ft . com .\ncopyright ? 2000 dow jones & company , inc . all rights reserved .\nenron in crisis - lure of number - one spot sparks interest .\nby julie earle and andrew edgecliffe - johnson .\n11 / 09 / 2001\nfinancial times\n( c ) 2001 financial times limited . all rights reserved\ndynegy ' s interest in enron was no doubt sparked by the chance to steal its houston - based neighbour ' s position as the number - one natural gas and power marketer in the us .\n\" the potential is staggering . if the companies combined , they would create a $ 21 bn behemoth in the energy sector with unparallelled energy - marketing skills and financial resources , \" says christopher ellinghaus , an analyst at williams capital group .\ndynegy ' s gas business is currently less than half the size of enron ' s , and also trails duke and mirant . it is only one - eighth as big as enron in power trading , where aep , mirant , duke , el paso and reliant also hold big positions .\nlike enron , dynegy has been a market favourite , exploiting growth opportunities in the unregulated and rapidly developing wholesale natural gas and electricity markets in the us .\nit has also been looking to expand its wholesale operations well beyond a uk presence .\ndynegy ' s online trading platform , dynegydirect - which helped raise the company ' s recent third - quarter earnings 22 per cent to $ 286 m - is seen as a good fit with enron online . the two platforms allow customers to buy wholesale gas liquids at the click of a mouse .\nthere are other links . chuck watson , dynegy chief executive , is a friend of jeff skilling , who quit as enron chief executive officer in august . dynegy is also an important trading partner for enron , demonstrated by the fact that enron has helped bail out its new suitor in the past from potential trading losses .\nthat counterparty relationship may give dynegy a powerful incentive to preserve enron in order to maintain stability in the energy markets . analysts say there would be a big shake - up in the energy markets were enron to fail , although some say the volatility may be only short term . a takeover would not be the only way for rivals such as dynegy to capitalise on enron ' s weakness , however . dynegy , el paso and duke energy are already assessing potential opportunities to pick up enron ' s share of the market should it disappear . many are trading partners with enron , and some , like aquila , have been reducing their exposure as counterparties as the enron crisis deepens .\nhowever , any dynegy takeover of enron would invite close regulatory scrutiny . most analysts believe a deal could be done , but approval could take more than a year due to market issues and the complexity of the two companies .\nsome analysts said a deal might be perceived as a necessary bail - out for the trading industry , and therefore welcomed by the federal trade commission and the federal energy regulatory commission .\nothers , however , raised serious concerns about the prospect of a bid by dynegy . although dynegy had told investors it was ready to make large acquisitions or mergers in the us and overseas , they had not expected such a transforming deal . mr watson told analysts in october that he was considering deals which could add generation assets , gas pipeline and storage infrastructure , entire utilities and communication assets .\ncarol coale , an analyst at prudential securities , says there would be other concerns surrounding any deal with enron .\n\" strategically and culturally , the companies do not fit well together , \" she says , adding that enron has been moving to offload units while dynegy has preferred to hang on to assets .\ncarol levenson at gimme credit . com , an independent provider of credit research , says dynegy would be taking \" a big risk \" to its credit ratings by even being associated with enron ' s liabilities : \" dynegy is utterly dependent on its credit ratings and the confidence of the market and its trading partners to do business profitably . \"\nanalysts took some comfort , however , in the possible involvement of the newly merged chevrontexaco , which owns a 27 per cent stake in dynegy . additional reporting by andrew edgecliffe - johnson .\n( c ) copyright financial times ltd . all rights reserved .\nhttp : / / www . ft . com .\ncopyright ? 2000 dow jones it would also would have a spill - over effect on other energy traders if investors backed away from the entire sector .\nthe 50 to 100 large counter - parties that do business with enron daily could continue to trade without the market ' s biggest participant and even its trading platform ; telephone trading remains a substantial part of the business . but without enron , a liquidity crisis would probably ensue , disrupting energy markets and undermining business for many of its competitors .\n\" there ' s a fair amount of incentive for counter - parties to hang in there and not contribute directly into pushing ( enron ) over the brink , \" says christine uspenski , energy analyst at schwab capital markets .\nso the majority has chosen stability over a bigger share of what would surely become a riskier market . they have continued to do business with enron on much the same terms they had before october 16 , when enron disclosed a surprise balance sheet adjustment that brought to the fore long - simmering questions about its transparency .\nanalysts had long advised investors to look past those questions . after all , with the launch of enron ' s online platform in 1999 , trading volumes had soared as the number of products traded over the internet grew to almost 2 , 000 , ranging from weather derivatives to coal . enron ' s revenue more than doubled to $ 101 bn from 1999 to 2000 .\nmany admitted they were unsure how enron made its money . not only had the company so dramatically transformed itself from a traditional pipeline company but it had moved increasingly into unsupervised areas that made it harder to scrutinise enron ' s finances .\n\" it became a new age holding company , \" says paul kedrosky , who teaches strategy and corporate governance at the university of british columbia . \" as long as the company performed , people were willing to forgive what was obviously horrific disclosure . \"\nthose people included not only share market investors but also those in the business of buying and selling energy commodities . they needed goods and enron delivered more natural gas and electricity than anyone else , often at better prices . it was the first stop for utilities who lacked sufficient generation facilities to keep the lights on for their customers .\nthey would go to the open market and purchase electricity , much of the time from enron . those that use natural gas to power their generation facilities obtained that through the open market as well . many have locked themselves into long - term contracts with enron that they cannot get out of - and they would be the ones with most to lose if enron went under .\nbut those who were originally most spooked by the prospect of business without enron - the energy traders - seem to have accepted the reality that enron will most likely never dominate the markets as it had in the past .\nanalysts and traders say the trading markets themselves have remained stable throughout enron ' s troubles even as the risk of uncertainty has increased . \" no one knows their positions or how they ' re hedged in the market , or how they might have to cover their positions , \" one energy trader said yesterday .\neven though enron had been hailed as the innovator in building these markets to their current state of sophistication , it has been forced over the past few weeks to act increasingly like a newcomer .\nhowever , analysts say some of enron ' s partners in the us and europe are demanding enron provide evidence of the availability of cash or security that can be called on quickly .\nenron ' s main competitors are now able offer better prices , and - while still not openly seeking to undermine enron - are undercutting its business as they report new customers and higher volumes . but , so far , no major counter - party has changed its terms with the company . \" out of respect for enron ' s presence , my sense is the industry has tried to give them the benefit of the doubt to see if they can resolve this situation , \" says michael zimmer , of law firm baker & mckenzie . see lex .\n( c ) copyright financial times ltd . all rights reserved .\nhttp : / / www . ft . com .\ncopyright ? 2000 dow jones & company , inc . all rights reserved .\nfront page - companies & markets - enron rescue deal talks drag on .\nby our financial staff .\n11 / 09 / 2001\nfinancial times\n( c ) 2001 financial times limited . all rights reserved\nfront page - companies & markets - enron rescue deal talks drag on - us energy group forced to restate accounts since 1997 .\nenron , the us energy group , was yesterday forced to restate its accounts since 1997 as it scrambled to prevent its confidence crisis turning into financial meltdown .\nexpectations of an early announcement of a rescue deal between enron and dynegy , a rival group , were dashed as talks dragged on through yesterday morning in houston .\nenron said it was terminating the employment of its treasurer and the general counsel of one of its divisions , both of whom , it said , were involved in limited partnerships that conducted off - balance - sheet deals with enron .\nenron , a stock market star until this year , is fighting to restore the confidence of investors , creditors , customers and regulators following last month ' s ill - explained decision to reduce shareholder equity by $ 1 . 2 bn ( # 820 m ) to meet off - balance - sheet obligations .\nit tried to clarify the situation yesterday by laying out the accounting basis for the shareholder equity reduction and providing more information about the limited partnerships formed by andy fastow , enron ' s former chief financial officer .\nenron said it believed mr fastow , who was replaced last month , had received \" in excess of $ 30 m \" relating to his management and investment activities in the partnerships .\nthe group said it and its auditors had also decided some off - balance entities should have been included in its prior financial statements .\n\" we believe that the information we have made available addresses a number of the concerns that have been raised by our shareholders and the sec ( securities and exchange commission ) about these matters , \" said ken lay , enron ' s chairman and chief executive , yesterday , adding that the group would continue to respond to investors ' requests for information .\nthe group ' s banks , due to meet today , want to secure $ 3 . 3 bn in unsecured credit lines drawn down in the past month . but they may not be able to renegotiate the terms unless enron ' s situation worsens sufficiently to trigger a default . jp morgan chase and citigroup , which have made $ 1 bn in secured loans to enron , are also understood to want to syndicate them to spread the risk , as nervousness increases .\nin a regulatory filing , enron said it had restated accounts from 1997 to the third quarter of this year , leading to an increase of $ 628 m in debt for the year 2000 , and changes in net income up to the third quarter of this year .\nenron ' s stock fell a further 5 per cent in morning trading - to $ 8 . 61 - and stands at barely a tenth of its level at the end of last year . the group ' s bonds rose only 4 points to 78 cents in the dollar reflecting scepticism about a rescue deal with dynegy . lex , page 22 enron in crisis , page 27 .\n( c ) copyright financial times ltd . all rights reserved .\nhttp : / / www . ft . com .\ncopyright ? 2000 dow jones & company , inc . all rights reserved .\nlex column - enron .\n11 / 09 / 2001\nfinancial times\n( c ) 2001 financial times limited . all rights reserved\nenron\nenron has provided the securities and exchange commission with some more detail on concerns it had raised over the last three weeks , while the stock has declined 70 per cent . the $ 1 . 2 bn equity charge relates to losses in ljm , the off - balance sheet private equity fund run by andrew fastow , its former chief financial officer . these , in turn , arise from a group of special purpose entities that ljm used to hedge risk associated with enron ' s investment in a bankrupt broadband company . the charges resulted when the hedges were closed . all clear , then ?\nwhat emerges from the filing is an off - balance sheet mess of interlinking financing vehicles . the difficulty in unravelling it might be part of the reason why jp morgan chase and salomon smith barney insisted that their last loan should be secured with assets . no doubt other lenders would like similar security . more clearly , enron admits that three unconsolidated entities should have been consolidated . that means the earnings statements over the last five years were worthless . enron has now reduced net income by a cumulative $ 600 m for 1997 - 2000 , not the kind of thing that reassures ratings agencies . mr fastow ' s resignation will leave him with more time to spend with the $ 30 m he received for running the ljm partnerships .\nit is hardly surprising that talks with dynegy about a capital injection have dragged on . would it really be wise for dynegy to take on risk that remains very hard to assess and to put its own debt rating in jeopardy ? enron might look cheap , but the stock has collapsed for good reason .\n( c ) copyright financial times ltd . all rights reserved .\nhttp : / / www . ft . com .\ncopyright ? 2000 dow jones troubled energy firm fires 2 more officials\npeter behr\nwashington post staff writer\n11 / 09 / 2001\nthe washington post\nfinal\neol\ncopyright 2001 , the washington post co . all rights reserved\nenergy trading giant enron corp . disclosed yesterday that it had overstated its earnings by $ 567 million since 1997 , and it fired two more company officials as questions continued to be raised over how much further the company ' s free fall may go .\nenron ' s stock has plummeted and energy companies have avoided doing business with it since enron disclosed last month that its obligations to several partnerships involving company officials had reduced its shareholders ' equity by $ 1 . 2 billion . enron is facing a cash crunch , analysts said . its credit rating has been slashed and if it falls to junk - bond status , the company would have to make accelerated payments on $ 3 . 4 billion in debt held by the partnerships .\nas enron made its disclosures yesterday , dynegy inc . , enron ' s smaller houston - based competitor , continued to study a possible $ 8 billion acquisition of enron .\na rescue by dynegy and chevrontexaco corp . , a major dynegy shareholder , could provide enron with $ 1 . 2 billion in cash , according to sources familiar with the negotiations . dynegy also would take on $ 12 . 8 billion in enron debt , the sources said .\nenron , the nation ' s largest trader of electric power and natural gas , said earnings from 1997 through the first six months of this year should have totaled $ 2 . 9 billion , not the $ 3 . 5 billion that it had declared . enron blamed the reduction on investment losses in private partnerships that it says were not properly accounted for .\nit also fired treasurer ben glisan and a division general counsel , saying it believed they had made personal investments in some of these partnerships , whose activities have led to conflict of interest accusations by shareholders against senior enron officials and board members .\nthe new disclosures were made to the securities and exchange commission , which is investigating the partnerships . they also were published on enron ' s web site .\nthe firings follow enron ' s dismissal of chief financial officer andrew fastow , who until july had also directed some of the largest of these partnerships with the approval of enron ' s board . enron said fastow made more than $ 30 million from two of these partnerships .\nusing capital from enron and private investors , the partnerships purchased power plants and other assets from enron with the intention of selling them , a key to enron ' s corporate strategy of concentrating on trading energy rather than producing it .\ndynegy confirmed yesterday that it was in talks with enron about an acquisition , but did not comment further . industry analysts believe that dynegy is driving a hard bargain , seeking protection against the possibility of further disclosures of financial problems by enron , and against the growing number of lawsuits by enron shareholders . dynegy \" has the chips , \" said brian youngberg , an analyst with edward jones in st . louis .\nanother possible outcome could be a major investment in enron by dynegy and potentially other energy companies , if the right collateral can be found , sources said .\none question is whether a dynegy acquisition of enron would face a drawn - out regulatory and antitrust review that could block enron ' s chances of recovering .\n\" dynegy and enron together are two of the biggest players in the trading space . it ' s a great concentration of power , \" said raymond plank , chairman of apache corp . , a houston natural gas producer . \" we don ' t see any advantage to that . \"\nif the dynegy deal is approved , the purchase price would come to just over $ 10 per share , based on current market values . in august 2000 , enron ' s stock hit $ 90 a share , but the price fell steadily from that peak and has plummeted in the weeks since the losses from its partnership deals were disclosed . enron ' s stock closed yesterday at $ 8 . 41 , down 64 cents .\nenron handles about one - quarter of all energy trades , quoting prices and buying and selling commodities . while some of these transactions set the price of oil , natural gas , electricity other energy products , far more commonly the trades are financial deals between traders speculating on energy prices , or companies seeking insurance to limit the costs of energy purchases .\nenergy companies and trading firms are working to reduce their vulnerability if enron were to fail .\n\" the inability to quantify possible risks is causing people to stay at arms length from enron now , \" said louis b . gagliardi , an analyst with john s . herold inc .\nplank said traders \" have been trying to neutralize their books to the impact of a potential failure on enron ' s part . we were able to get out of almost every trade [ involving enron ] . \" not everyone has been able to do it . \" but plank said energy markets are large enough to handle shocks .\n\" markets would be pretty volatile in natural gas , power and oil \" if enron had to pull back from trading , gagliardi said . \" but we ' d get back to normal pretty quickly . \"\nbond - rating companies have sharply cut their ratings on enron ' s bonds since these disclosures , and its debt is now one step above junk status , by some ratings .\nanalysts said that if enron ' s bond rating fell below investment grade , they expect it to set in motion a forced sale of enron assets held by the partnerships .\ntwo of the partnerships , named marlin and osprey , have a combined indebtedness of $ 3 . 4 billion , said ralph pellechia , an analyst at fitch inc . , a bond - rating firm . that debt is to investors who purchased assets from enron , including a water system in britain and other holdings .\nif enron ' s bond rating crashes , the assets presumably would be sold and enron would have to make up any remaining obligation to debt holders by delivering its stock to the partnerships , pellechia said . given the drop in enron ' s stock price , that might not be possible .\n\" we don ' t believe the asset value that supports those partnership trusts at this point in time is fully adequate to pay down the debt , \" he said .\n\" obviously there are a lot of options they [ enron officials ] are exploring . we are watching it very closely . \"\nhttp : / / www . washingtonpost . com\ncopyright ? 2000 dow jones in return , enron took a note receivable , or simply a loan , from raptor for $ 1 . 2 billion .\nas it happened , enron benefited massively from the assets hedge . it protected itself against a $ 500 million decline in the assets in 2000 and $ 453 million in 2001 . these hedging gains were netted out to zero in enron core earnings , because they were offset by declines in asset values . but without the hedges , enron would ' ve taken the losses in its expense line .\nvince carter\nof course , the problem was that raptor , and therefore ljm 2 , was losing from the hedges . that might ' ve been tolerable if raptor were making money from the stock agreement . but enron ' s stock began falling sharply in 2001 , depriving ljm 2 of potential profits . meanwhile , as the stock price slid , enron was having to agree to issue more stock to keep the equity pledge to raptor at $ 1 . 2 billion . as the decline continued into the third quarter , and the issuance commitment grew , it made sense to unwind all the raptor deals with ljm 2 .\nat this point , enron took the $ 1 . 2 billion charge to equity in the third quarter to reverse the equity pledge . enron did take some of raptor ' s hedging losses itself , but it did so through a $ 711 million pretax charge , which it chose to exclude from operating earnings in the third quarter .\nthe big question is whether ljm 2 actually took any losses itself from raptor . why is that crucial ? if enron shielded ljm 2 from losses , it was essentially dealing with itself . the sec and investors wouldn ' t like that . what clues are there that ljm 2 didn ' t take a loss ? well , the thursday press release says that enron bought out ljm 2 ' s stakes in raptor for $ 35 million . that makes little sense . how can ljm 2 have had any raptor equity left after the losses it appears to have sustained ? if enron made ljm 2 whole , then this was all little more than a shell game .\nseems like enron still has a whole lot more to tell us .\nworld stock markets - wall st surges as europe takes lead from fed americas .\nby mary chung .\n11 / 09 / 2001\nfinancial times\n( c ) 2001 financial times limited . all rights reserved\nus stocks surged in morning trade after the bank of england and the european central bank followed the federal reserve ' s lead and lowered interest rates .\nby midsession , the dow jones industrial average rose above its pre - attack level , up 127 . 18 to 9 , 681 . 55 while the s & p 500 index gained 16 . 24 at 1 , 132 . 04 . the nasdaq composite rose 41 . 23 to 1 , 878 . 76 .\ninvestors cheered as the eurozone and uk central banks both surprised markets with aggressive half - point cuts in interest rates to help revive slumping global economies .\nthey were also heartened by the latest unemployment data , which showed a decline in the number of\namericans filing for first - time jobless claims last week .\nmarkets rallied broadly with technology stocks taking the lead . sun microsystem gained 9 per cent at $ 13 . 72 and cisco systems added 3 . 6 per cent at $ 19 . 61 . semiconductor stocks were boosted by an upbeat global sales forecast from an industry trade group . intel , the world ' s biggest chipmaker , added 3 per cent at $ 29 . 19 .\nxo communications was up 14 per cent at $ 1 . 33 after the company reported a smaller - than - expected third quarter loss .\ndynergy rose 12 per cent at $ 37 after the energy group confirmed that it is in talks to acquire enron , the embattled energy trading company . shares in enron dipped 0 . 7 per cent at $ 8 . 99 .\nretail stocks were mostly higher with dow components wal - mart up 3 per cent at $ 55 . 36 and home depot 4 per cent at $ 43 . 49 . wal - mart reported higher same - store sales last month .\nanntaylor was up 7 per cent at $ 26 . 18 and talbots 5 per cent at $ 32 . 60 in spite of the companies reporting a declines in october same - store sales .\nbarnes & noble , however , plunged 27 per cent at $ 27 . 75 after the bookstore company warned that full - year earnings would fail to meet previous wall street forecasts because of weaker - than - expected sales .\nfinancials were stronger with citigroup up 2 . 5 per cent at $ 49 . 31 and american express 4 . 8 per cent at $ 35 . 50 . other bright spots on the dow included walt disney up 3 . 5 per cent at $ 19 . 13 and alcoa 2 . 3 per cent at $ 35 . 17 .\ncoca - cola , mcdonalds and hewlett - packard were the few stocks moving lower . hp dipped 1 . 6 per cent at $ 18 . 87 amid mounting pressure from hewlett and packard family members to cancel its merger plans with compaq computer .\ntoronto was led upwards by technology issues in morning trade . by midsession the s & p tse 300 index had gained 0 . 7 per cent to 7 , 199 . 50 . the tech - heavy industrial products sector rose 2 per cent .\n( c ) copyright financial times ltd . all rights reserved .\nhttp : / / www . ft . com .\ncopyright ? 2000 dow jones financial desk\nenron reissues financial reports energy : the company restates four years to clear questions related to a series of controversial partnerships .\njerry hirsch ; nancy rivera brooks\ntimes staff writers\n11 / 09 / 2001\nlos angeles times\nhome edition\nc - 1\ncopyright 2001 / the times mirror company\nenron corp . on thursday reissued its financial statements for the last four years , shaving nearly $ 600 million in profit from what it previously reported .\nthe action was designed to clear nagging questions about the houston - based energy concern ' s finances stemming from a series of controversial partnerships . those questions have accelerated a free fall in the value of enron shares and have forced it to seek new financing and enter into merger talks with rival dynegy inc .\nhowever , the action still left analysts wondering whether further negative disclosures might be coming .\nanalysts saw the restatement also as an effort to disclose negative news now , while it is negotiating to be acquired by houston - based dynegy .\nboth companies confirmed merger talks thursday . some analysts suggested the deal has problems and could pose new risks for dynegy .\nenron also said that it fired ben glisan , its treasurer , and kristina mourdant , an attorney with the company . both executives had a financial interest in at least one of the partnerships . in october , enron replaced chief financial officer andrew fastow because of his involvement in the partnerships .\nthe restatement comes amid a probe by federal regulators into the relationship between several senior enron executives and a series of partnerships created by the energy concern .\n\" a massive restatement like this doesn ' t look good . but since enron was already under such scrutiny , it ' s really not much of a surprise , \" said christopher ellinghaus , an analyst with williams capital in new york .\n\" this would be very bad news if it had come out after a merger was announced , \" ellinghaus added .\nenron shares fell 64 cents thursday to close at $ 8 . 41 , its lowest finish since 1992 and less than 10 % of the nearly $ 90 high the company hit aug . 23 , 2000 . dynegy shares rose $ 3 . 50 to $ 36 . 50 . both trade on the new york stock exchange . .\nanalysts said enron ran into trouble with its strategy to create partnerships to purchase assets such as fiber - optic lines that enron wanted to move off its books .\nalthough many companies have used similar techniques to improve their balance sheets , the deals are almost always with third parties and private investors rather than company executives . the involvement of executives as investors in these ventures raises the perception of a conflict of interest , said brian youngberg , an analyst with edward jones in st . louis .\nthe securities and exchange commission had asked for information about the financial transactions between enron and the partnerships , which were approved by enron lawyers and directors .\nin essence , the partnerships reduced borrowings enron listed on its balance sheet . they protected its credit rating , helping it to obtain favorable interest rates on its corporate borrowings .\nhowever , after reviewing its accounting for three of the ventures , enron said in an sec filing thursday that it should have included the financial performance of those businesses in its consolidated balance sheet .\nthe filing included a restatement of enron financial statements for 1997 through 2000 and the first three quarters of 2001 . it said its previous financial documents \" should not be relied upon . \"\nenron ' s new assessment of its financial condition slashed its total net income for that nearly four - year period by $ 586 million , or about 20 % , to $ 2 . 3 billion . the biggest change was a $ 250 - million reduction in net income for 1999 .\nthe enron - dynegy merger talks involve a stock swap valuing enron at about $ 10 a share , or about $ 8 billion , according to sources familiar with the negotiations . chevrontexaco corp . , which owns nearly 27 % of dynegy , would pour $ 1 . 5 billion in cash into enron up front , with $ 1 billion to follow at the close of the transaction .\ndynegy would assume $ 12 . 8 billion in enron debt , which does not include the off - balance - sheet partnerships , the sources said .\nenron chairman and chief executive kenneth l . lay would remain on the board of the merged company but would not have day - to - day responsibilities , the sources said .\ndynegy chairman and chief executive chuck watson would assume those jobs at the combined company , and dynegy president stephen bergstrom would become president , they said .\nthere is no guarantee that an agreement will be reached , and if it is , such a merger would face a lengthy and difficult review by federal regulators . the potential merger would have its problems , some analysts said .\ndynegy risks losing enron ' s most important asset , its energy traders , who can easily migrate to other energy trading firms in the houston area , said andre meade , head of u . s . utilities research for commerzbank securities .\ndynegy , like enron , needs a good credit rating and the ability to sell assets and issue stock to conduct its trading businesses , said carol levenson , an analyst with gimmecredit . com . a thumbs - down by the stock market could seriously jeopardize dynegy ' s financial flexibility , she said .\nalthough enron management has repeatedly emphasized that its core energy trading and marketing business remains sound , the company ' s severe cash crunch has hurt . enron ' s online trading operation has lost business in recent days .\ngraphic : enron rescuer ? , los angeles times ;\ncopyright ? 2000 dow jones & company , inc . all rights reserved .\nsmall - stock focus : visible genetics , net 2 phone slide as finance stocks aid russell 2000\nby larry bauman\ndow jones newswires\n11 / 09 / 2001\nthe wall street journal\nc 6\n( copyright ( c ) 2001 , dow jones & company , inc . )\nnew york - - small - capitalization stocks ended lower after retracing solid intraday gains , with the bulk of the selloff taking place in the final hour of trading .\nthe overall nasdaq market also fell , as investors took profits following the recent run - up of nasdaq ' s large - cap technology components .\nboth the small - cap market , as measured by the russell 2000 index , and the nasdaq composite index of large and small stocks underperformed the other major stock - market measures .\nthe russell 2000 fell 1 . 74 , or 0 . 39 % , to 439 . 06 , after posting an intraday gain of 5 . 31 , and the nasdaq composite index , at 1827 . 77 , lost 9 . 76 , or 0 . 53 % , having been up as much as 50 . 86 earlier .\nthe small - cap market was able to post slimmer declines than the overall nasdaq market because of the strength of financial stocks , which make up the largest industry group in the russell 2000 following technology . the nasdaq bank index rose 0 . 3 % .\nvisible genetics , a toronto maker of dna - sequencing systems and diagnostic kits that analyze genes linked to diseases , tumbled $ 3 . 21 , or 22 % , $ to 11 . 30 . the company posted a third - quarter loss of 76 cents a share , compared with a year - earlier loss of 63 cents a share .\nshurgard storage centers shed 1 . 38 to 29 . 38 . the seattle real - estate investment trust said it may restate its financial statements for 1998 , 1999 , 2000 and the first half of 2001 , and postponed its third - quarter earnings release and conference call . shurgard said that its independent auditors changed their advice regarding the accounting treatment of four development joint ventures entered into since 1998 , which will require the financial restatements , and that it believes it is prudent to delay its third - quarter results release until it has fully assessed the proposed accounting changes .\nnet 2 phone shed 24 cents to 5 . 60 . the hackensack , n . j . , internet - telephony service provider said that in an effort to save about $ 23 million annually , it will slash its work force by 290 jobs , or 43 % , as well as reduce outsourced services .\nnewpower holdings surged 42 cents , or 52 % , to 1 . 23 . the purchase , n . y . , energy company posted a third - quarter loss of $ 1 . 15 a share , a penny narrower than analysts had predicted . the company said it amended an agreement with enron corp . , its largest commodity supplier , expanding the types of collateral that newpower is permitted to post to enron . newpower said it expects to have adequate liquidity to continue normal operations into the second quarter , assuming \" a broadly stable commodity price environment . \"\ntellium , an oceanport , n . j . , optical - systems provider , gained 68 cents , or 11 % , to 6 . 62 . the company reaffirmed revenue forecasts for the fourth quarter and 2002 .\npediatrix medical group rose 3 . 01 , or 9 % , to 36 . 51 . the fort lauderdale , fla . , provider of physician - management services said it reached a settlement with the nevada attorney general ' s medicaid fraud control unit , agreeing to pay $ 145 , 000 after a finding by state investigators that the provider of obstetric services had engaged in improper billing practices .\npediatrix paid $ 35 , 000 last month to the state of nevada as settlement for any potential claims related to certain medicaid billings for neonatology , newborn and pediatric services . the company said there was no admission of liability on its part , nor violation of any state or federal regulations .\nsalton was up 75 cents , or 6 . 1 % , to 12 . 95 . the lake forest , ill . , home - appliance company posted fiscal first - quarter earnings of 49 cents a share , compared with its year - earlier profit of $ 1 . 35 a share . the company said it expects to report first - half earnings of $ 1 . 80 a share , which is at the low end of its previous forecast range of $ 1 . 80 to $ 2 . 20 a share , but which exceeds analysts ' projections of $ 1 . 52 .\npier 1 imports added 74 cents , or 6 . 1 % , to 12 . 82 . the fort worth , texas , home - furnishings retailer increased its third - quarter expectations because of strong sales in october and higher - than - expected gross margins . pier 1 said october same - store sales rose 4 % from a year earlier , and total sales rose 12 % . as a result , the company said it now expects to earn 19 cents to 21 cents a share in the third quarter , up from previous expectations of 17 cents to 19 cents a share .\non the nasdaq , advancing issues edged out decliners , 1 , 800 to 1 , 764 , on overall volume of 2 . 295 billion , compared with 2 . 042 billion shares wednesday .\ncopyright ? 2000 dow jones source : world reporter ( tm )\nenron , the debt - stricken energy trading group , could be forced to sell its main british assets under the terms of an $ 8 bn takeover being considered by dynegy , its smaller rival .\nthe two companies confirmed yesterday that they were in talks about a takeover , which would see houston firm dynegy , about a fifth of the size of its target , pay a \" fire - sale \" price worth about a tenth of enron ' s $ 70 bn value a year ago .\nthe outcome would be a humiliation for enron , amer ica ' s largest energy trader , which was reportedly the biggest corporate contributor to the republican party and the presidential campaign last year . it has been forlornly courting cash injections from groups such as shell in the past few days to keep it afloat .\nenron ' s shares have lost 90 % of their value this year , going into free fall in the past two weeks as it sacked finance director andrew fastow for unusual partnership transactions carried out off - balance sheet . these forced it to take a $ 1 bn charge and cut shareholder equity by $ 1 . 2 bn .\ntwo other senior officials , including enron ' s treasurer , were fired yesterday following their involvement in the murky fastow deals , which are being investigated by the securities and exchange commission .\npressure to conclude the deal swiftly ahead of an important meeting today between enron and its creditors mounted as the once dominant energy trader was forced to restate its earnings and substantial debts for the past four years , amid fears its bonds would soon be given junk status .\nchevrontexaco , the oil group which owns 27 % of dynegy , would inject up to $ 2 . 5 bn if the deal goes ahead . enron , also based in houston , owns wessex water , for which it paid pounds 1 . 4 bn in 1998 , and gas - fired power stations in britain , including the high - performing 1900 mw teesside plant . it recently announced deals to run the energy management operations of sainsbury and guinness .\ndynegy is paying pounds 421 m for bg ' s gas storage business , a deal expected to be concluded next month , but , renowned for its \" stingy \" financial management , it has shied away from buying a series of british power stations on offer because of inflated prices .\ncopyright ? 2000 dow jones at the end of 2000 , enron ' s debt was $ 10 . 86 billion , $ 628 million more than previously reported .\nby not disclosing the debt earlier , enron presumably maintained a stronger credit rating and was able to vastly increase the size of its core operations - trading natural gas and electricity on wholesale markets .\nand while enron kept certain details about its finances secret , the company ' s stature as the crown jewel among energy traders grew .\ninvestors from wall street to main street sought a piece of the action as enron reported bigger and bigger profits and executives boasted they would successfully apply their energy trading strategies to other markets as well , including steel and broadband communications .\nhowever , after a decade in which enron firmly established itself as the nation ' s no . 1 natural gas and power marketing company , things have not gone according to plan lately and the former high - flyer has experienced a remarkably fast fall from grace .\nenron ' s stock price began a steady descent 10 months ago when its nascent high - speed internet unit failed to live up to the hype . the downward momentum was further propelled by difficulties collecting money from power customers in india .\nthen , in the past three weeks , enron ' s share price plummeted fast and furiously as the company announced a $ 618 million third quarter loss , ousted its chief financial officer and undertook an apparently fruitless scramble for cash to remain an independent entity .\nseveral news organizations were reporting that dynegy was negotiating to buy enron for $ 8 billion in stock , but that the tentative deal could still fall apart .\nbesides dynegy , companies mentioned as possible suitors included general electric ' s ge capital unit and royal dutch / shell group .\non thursday , both dynegy and enron released statements confirming they were in talks , but declined to provide any details .\nthe new york times , the wall street journal and the houston chronicle , among others , reported thursday that dynegy is considering paying about $ 8 billion in stock for enron , citing people familiar with the matter . chevrontexaco corp . , which has a 27 percent stake in dynegy , would provide enron an immediate cash infusion of $ 1 billion , the papers reported .\nenron ' s lay would not be given any formal management position in the combined company , although he would have a seat on its board , the journal reported .\nenron said it released the revised earnings so that investors could \" appropriately value the strength of our core businesses . \"\n\" we believe that the information we have made available addresses a number of the concerns that have been raised by our shareholders and the sec about these matters , \" said kenneth lay , enron ' s chairman and chief executive\nthe company also fired treasurer ben glisan and a lawyer , kristina mordaunt , on thursday . last month , enron ousted chief financial officer andrew fastow , who was in charge of some of the partnerships being probed by the sec .\njeff skilling , enron ' s former chief executive who left in august , has been called to testify before the sec , although it ' s unclear when .\nwall street analysts admitted they were stunned by the rapid demise of enron , but said a merger with dynegy would help improve enron ' s credibility .\nstill , prudential securities analyst carole coale remained puzzled as to \" why dynegy ' s management would want to take on the uncertainties and potential liabilities associated with a merger with enron . \"\nchristopher ellinghaus of williams capital in new york said enron ' s accounting \" shenanigans \" are legendary in the industry .\n\" i ' m not willing to say it ' s fraud yet , \" ellinghaus said . \" enron just likes to be fancy . they may have been too fancy for their own good . \"\nenron said the revised financial statements will include a reduction to net income of about $ 96 million in 1997 , $ 113 million in 1998 , $ 250 million in 1999 and $ 132 million in 2000 , increases of $ 17 million for the first quarter of 2001 and $ 5 million for the second quarter and a reduction of $ 17 million for the third quarter of 2001 .\nenron , the nation ' s top buyer and seller of natural gas and the top wholesale marketer in the united states , had become one of the nation ' s 10 largest companies , recording revenue of $ 100 . 8 billion in 2000 .\n- - -\non the net :\nhttp : / / www . enron . com\nhttp : / / www . dynegy . com\nap graphic enron restatements and ap photo ny 882\ncopyright ? 2000 dow jones & company , inc . all rights reserved .\nreport on business column\ntaking stock\nbeware the company that does not tell all\nbrian milner\n11 / 09 / 2001\nthe globe and mail\nmetro\nb 9\n\" all material copyright ( c ) bell globemedia publishing inc . and its licensors . all rights reserved . \"\nbefore its stunning fall from grace , enron corp . was a genuine market darling , with a throng of adoring investors , analysts and academics who held it out as a model of how to turn a sleepy , old economy company into a true star of the fast - paced new economy . even after the puncturing of the market bubble , the critics who had long questioned the texas company ' s aggressive growth strategy and even more aggressive accounting were dismissed as old - fashioned cranks .\nnow , in no small part because of its executives ' own highhandedness and dismissive treatment of those same investors and analysts , enron ' s reputation is in tatters , the u . s . securities and exchange commission is probing billions of dollars worth of off - balance - sheet transactions , its once high - flying stock has tanked , its bonds are trading at levels usually reserved for troubled junk and the lawsuits are flying thick and fast .\nabout the only lessons to take away from this fiasco are among the oldest in investing and long espoused by the likes of warren buffett : never buy anything you don ' t understand and don ' t touch a company whose finances are so murky as to defy description .\nthere ' s no shortage of major companies that appear to believe the less investors know about their true financial state , the better . the dot - bomb rubble is littered with them . they include nortel networks , cisco systems , lucent technologies , amazon . com , jds uniphase , qwest communications , motorola , volkswagen and even starbucks .\nin these bearish times , most companies acknowledge , albeit reluctantly , that they would be better off coming clean with the people who have a vested interest in their future .\nhere is what joe nacchio , defiant boss of troubled qwest , told a conference last month : \" you all think we cheat and lie and steal , obviously , and therefore you trade us at a discount to what a normal company with great revenue and great growth should be traded . . . . we ' ll just let the numbers speak for themselves on oct . 31 . \"\nso along comes that fateful day , and we pass the mike over to mr . nacchio : \" some of you will recall that at a recent conference i said the results will speak for themselves . the reality is they do not speak clearly for themselves without some interpretation , given the current economic conditions and the effects of merger and other one - time charges . \" you can guess what happened to qwest ' s credibility and its stock price .\nas for houston - based enron , which is in a desperate hunt for liquidity to shore up its vast energy - trading business and keep its credit rating from being slashed below investment grade , the company confirmed yesterday it ' s in talks with smaller cross - town rival dynegy . several published accounts have said the talks involve an immediate cash infusion of up to $ 2 - billion and an eventual merger .\nfaced with the sec probe and a rash of shareholder lawsuits , enron also revealed that its profit statements since 1997 aren ' t worth anything . the company is restating earnings through the first half of this year , mainly to reflect a $ 1 . 2 - billion ( u . s . ) drop in shareholder equity after the company terminated complex share transactions with certain limited partnerships . the dealings had enabled enron to grow dramatically without having to show a huge whack of debt on its balance sheet , which would have affected its ability to raise capital and hampered its rapid transformation from regional gas pipeline utility to global energy - trading powerhouse .\nsuch transactions are common and practical . but enron ' s were unusually complicated , and the company was roundly assailed for keeping the details to itself .\ndisclosure has never been this company ' s middle name . the former ceo once used a seven - letter expletive to describe an analyst who had the temerity to ask for a balance sheet during an earnings conference call . but the real stunner was that , unknown to the investing public but with the board ' s apparent approval , two partnerships had been set up , to considerable personal profit , by enron ' s own chief financial officer , andrew faston . he walked the plank on oct . 24 , and the company has been scrambling ever since .\nopaque accounting doesn ' t necessarily mean there is any skullduggery afoot . the finances of some companies are devilishly complicated , simply because of the nature of their businesses . and that goes for enron and its massive energy - trading and hedging operations .\nbut investors should always be looking for as much financial visibility as possible and steering clear of any company that cannot - - or will not - - provide it . bmilner @ globeandmail . ca\ncopyright ? 2000 dow jones & company , inc . all rights reserved .\ncity - enron crisis deepens as two top staff are fired .\nby roland gribben .\n11 / 09 / 2001\nthe daily telegraph\np 36\n( c ) telegraph group limited , london , 2001\nthe crisis surrounding enron , the beleaguered american energy trading group with power plant and trading investments in britain , deepened yesterday with the dismissal of two key executives alleged to be involved in off - balance - sheet operations now under investigation by regulatory authorities .\nben glisan , managing director and treasurer , and kristina mordaunt , another managing director and lawyer of a subsidiary business , left after internal investigations .\nenron said it believed the pair and four other former enron employeers were involved as partners in a limited partnership that had dealings with the company .\nthe dismissals came as enron considered a \" make or break \" takeover offer from dynergy , another us energy group with uk interests .\ncopyright ? 2000 dow jones & company , inc . all rights reserved .\ndabhol pwr mtg focus on tata , bses to acquire enron stake\n11 / 09 / 2001\ndow jones energy service\n( copyright ( c ) 2001 , dow jones 65 - 415 - 4066 ; sri . jegarajah @ dowjones . com\ncopyright ? 2000 dow jones & company , inc . all rights reserved .\nenron meets indian lenders on power plant stake sale ( update 3 )\n2001 - 11 - 09 02 : 31 ( new york )\nenron meets indian lenders on power plant stake sale ( update 3 )\n( adds lender ' s comments in ninth paragraph , detail on idbi ' s\nexposure to enron in 11 th . )\nsingapore , nov . 9 ( bloomberg ) - - enron corp . , the world ' s\nlargest energy trader , is meeting lenders about its sale of a\nstake in a $ 3 billion indian power project as it seeks to raise\ncash and forestall a possible credit downgrade .\nenron , which lost 89 percent of its market value this year ,\nhad its long - term credit rating cut as low as one notch above junk\nstatus this week and would have to repay $ 3 . 3 billion in bonds\nearly if its rating is cut below investment grade .\ndynegy inc . , which is in talks to buy enron for about $ 8\nbillion in stock , is concerned about a downgrade after enron\nyesterday restated its earnings for more than four years to\ninclude losses from investment partnerships arranged by senior\nexecutives , people familiar with the situation said .\n` ` restating earnings for the past five years is suggestive of\nfraud , which in itself is justification for a downgrade , ' ' said\ndonald coxe , who manages 78 , 000 enron shares as part of the harris\ninsight equity fund . ` ` i ' d be surprised if they ' re not\ndowngraded . ' '\nthe decision by enron chairman and chief executive officer\nkenneth lay to reduce earnings by $ 586 million since 1997 is part\nof enron ' s efforts to regain confidence among investors stung by\nthe stock ' s plunge this year and a securities and exchange\ncommission investigation into how the company accounted for\npartnerships it sponsored .\nenron fired treasurer ben glisan and kristina mordaunt , a\nlawyer for an enron division . the company said it now believes\nglisan , mordaunt and two other employees no longer working for\nenron bought interests in subsidiaries of a partnership run by\nformer chief financial officer andrew fastow .\nenron ousted fastow last month after revealing an accounting\nerror for transactions with a group of the partnerships resulted\nin a $ 1 . 2 billion reduction in shareholder equity in the third\nquarter . arthur andersen llp was enron ' s independent auditor .\nindia\nenron wants $ 1 billion for its 65 percent stake in an indian\npower plant unit , dabhol power co . potential buyers tata power co .\nand bses ltd . , which are at the meeting with lenders in singapore ,\nsaid that ' s too much .\n` ` tata and bses are keen to buy the project but much will\ndepend on the terms enron sets , ' ' said v . k . saxena , chief general\nmanager at industrial development bank of india , or idbi , the\ncountry ' s second - biggest lender . ` ` i ' m positive ' ' on the outcome\nof the talks .\nenron on may 19 gave six months ' notice to cancel sales to\nthe maharashtra state electricity board , the only customer of\ndabhol power . dabhol ' s owed $ 64 million for bills that are 10\nmonths overdue . the contract to sell the plant ' s electricity will\nbe canceled on nov . 19 .\nidbi and the state bank of india are among the local lenders\nmeeting enron in singapore . indian banks , which have loaned $ 1 . 4\nbillion to dabhol , have the most at stake if a buyer for enron ' s\nstake isn ' t found . idbi alone has lent more than $ 400 million .\nthe $ 600 million lent by abn amro , bank of america corp . ,\ncitigroup inc . and other overseas banks are covered by government\nguarantees , while indian bank ' s loans are not .\nstill , not all investors in the local banks are worried by\nthe prospect of loans turning bad if talks with enron and tata and\nbses fail .\n` ` this deal is too complex , too big to fail , ' ' said rajat\njain , who oversees 15 billion rupees at idbi - principal asset\nmanagement co . , a unit of the country ' s second - biggest lender .\n` ` there ' s a lot of money at stake here . all parties , including\nlenders , will have to take a hit but the deal will go through . ' '\njain ' s stock funds had 1 . 23 million shares of icici ltd . at\nend of september after selling 25 , 813 shares . icici is india ' s\nbiggest lender and one of dabhol ' s key creditors .\nthe meeting started yesterday and bankers that attended the\nmeeting said the talks will end today , saxena said .\n- - ravil shirodkar in mumbai at rshirodkar @ bloomberg . net or ( 91 22 )\ndhabol power confirms enron in talks with bses , tata power\n11 / 09 / 2001\ndow jones energy service\n( copyright ( c ) 2001 , dow jones 91 - 11 - 461 - 9426 ; himendra . kumar @ dowjones . com\ncopyright ? 2000 dow jones & company , inc . all rights reserved .\nofficials try to salvage multibillion dollar enron india project\n11 / 09 / 2001\nassociated press newswires\ncopyright 2001 . the associated press . all rights reserved .\nsingapore ( ap ) - talks in singapore aimed at salvaging the troubled dlrs 2 . 9 billion indian dabhol power project are focusing on two potential buyers for u . s . - based enron corp . ' s controlling stake in the project , a major indian creditor said friday .\nthe dabhol power co . is 65 percent by houston - based enron .\ntwo of india ' s largest private power companies - tata power co . and bses ltd . - are the only contenders vying to buy enron ' s stake in dabhol , v . k . saxena , chief general manager of the industrial development bank of india , told dow jones newswires friday .\nthe bank , a major creditor to dabhol power co . , said a two - day meeting in singapore between the indian lenders ' consortium and dabhol officials was progressing well .\n\" i remain positive about the outcome of the talks , \" saxena said .\nno further details about the content of the closed - door talks were available . dabhol officials declined to comment .\nindian lenders , including the industrial finance corp . of india . , had asked the court to order work on the project to resume so that the lenders can recover their money .\nin may , enron stopped construction of the 90 percent completed project - india ' s biggest ever foreign investment .\nenron also halted supply of electricity on the portion already finished because the maharashtra state electricity board said it could no longer afford the fees it agreed to pay when the contract was signed seven years ago .\nindian lenders have provided about 61 billion rupees ( dlrs 1 . 3 billion ) to the power project , while enron and its partners , general electric and bechtel corp . , say they have invested dlrs 1 billion .\n\" the domestic lenders have tried to facilitate a meeting between prospective buyers and the seller as we have a common interest in saving this power project from going bust , \" saxena said .\n( dj / rjm - ss )\ncopyright ? 2000 dow jones & company , inc . all rights reserved .\nindia : enron reverses stand , attends singapore meet\n11 / 09 / 2001\nbusiness line ( the hindu )\nfin . times info ltd - asia africa intel wire . business line ( the hindu ) copyright ( c ) 2001 kasturi & sons ltd . all rights res ' d\nmumbai , nov . 8 . in a development late on wednesday evening , enron decided to participate in a multilateral meeting in singapore to discuss an \" amicable \" resolution to the dabhol issue .\nthe company had earlier said that the singapore meeting had been cancelled due to the legal action taken by indian financial institutions ( fis ) .\naccording to the company , it decided to change its stand after \" personal requests from senior representatives of the government of india and indian financial institution \" .\nit said late wednesday evening , dabhol power company ( dpc ) received assurances from the centre and financial institutions that they intended to present new proposals at the singapore meeting with respect to a negotiated settlement of the dispute , including purchase of foreign equity by the government or fis .\ntop state officials are , meanwhile , camping in london to file the government ' s reply to the ex parte order passed by a london commercial court restraining it from approaching any court in india over the issue of arbitration .\nour bureau\ncopyright ? 2000 dow jones & company , inc . all rights reserved .\ncanadian pwr , gas mkts benefiting from enron ' s woes\nby dina o ' meara\nof dow jones newswires\n11 / 08 / 2001\ndow jones energy service\n( copyright ( c ) 2001 , dow jones 403 - 531 - 2912 dina . omeara @ dowjones . com\ncopyright ? 2000 dow jones & company , inc . all rights reserved .\nuncertainties cloud view of an enron - dynegy combination\nby jason leopold\nof dow jones newswires\n11 / 08 / 2001\ndow jones energy service\n( copyright ( c ) 2001 , dow jones & company , inc . )\nlos angeles - ( dow jones ) - it ' s not clear yet how formidable an energy company would emerge if dynegy , inc . ( dyn ) were to step out of embattled enron corp . ' s ( ene ) shadow and acquire it .\nenergy companies and analysts are united in one sentiment , though : a merger may be the only way to keep enron from going under and possible harming u . s . energy markets overall .\nenron and dynegy are both dominant natural gas and electricity marketers in the u . s . , and meshing enron ' s trading expertise with dynegy ' s power plants would seem the recipe for success .\nbut there are too many unknowns at this point to speculate in much detail on the topic , analysts and energy companies said .\n\" they ' re in the same business and they know each other really well , \" said steven fleishman , an analyst at merrill lynch 323 - 658 - 3874 ; jason . leopold @ dowjones . com\ncopyright ? 2000 dow jones & company , inc . all rights reserved .\nbusiness\nenron earnings drop\nali velshi , fred katayama\n11 / 08 / 2001\ncnnfn : business unusual\n( c ) copyright federal document clearing house . all rights reserved .\nali velshi , cnnfn anchor , business unusual : the energy trading giant enron ( url : http : / / . www . enron . com / ) is restating its earnings downward . this announcement comes less than a month after it said regulators were looking into its off balance sheet deals . those are deals that push the company to reduce shareholders ` equity by more than $ 1 billion . fred katayama has this report .\n( begin videotape )\nfred katayama , cnnfn correspondent ( voice - over ) : enron delivered another bombshell on a day when wall street was anticipating a merger announcement . the tarnished trader of energy drastically restated its earnings to include losses from partnerships now under investigation . enron is reducing its net income since 1997 by nearly $ 600 million . the company said it is consolidating the results of a few partnerships that had been left off the balance sheet . enron would pump assets into a partnership , then have the partnership borrow money so that the debt was kept off of its books . consolidating the partnerships also boosted enron ` s debt by more than $ 2 . 5 billion .\nron barone , ubs warburg : if they lose their investment grade on their debt , the possibility exists that they may have to pay off over $ 3 billion either in cash or enron stock .\nkatayama : enron fired its treasurer and a lawyer who it believes had invested in a partnership run by its former chief financial officer , andrew fastow ( ph ) . the sec is investigating the two partnerships set up by fastow . chairman kenneth lay said in a statement , we believe that the information we have made available addresses a number of the concerns that have been raised by our shareholders and the sec about these matters .\nandre meade , commerzbank securities : the disclosure probably raises as many questions as it answers and what enron , what enron ` s trying to do is or what enron has done .\nkatayama : enron stock slumped further and dynegy ( url : http : / / www . dynegy . com / ) rose on the news . investors were disappointed because they had hoped dynegy would announce it would buy its beleaguered rival .\n( end videotape )\nkatayama : now some analysts say uncertainty hangs over any deal . dynegy will have to recalculate enron ` s worth based on the restated numbers and as for those restated numbers , it may not be the last of those restatements . that ` s because , in this current case , today ` s disclosure concerned only three entities . enron has done deals with more than 30 partnerships . ali .\nvelshi : fred , tell me about these partnerships . is this common ?\nkatayama : other companies have these limited partnerships but the difference is the scope of enron . say it deals with more than 30 of them . plus they ` re extremely complex . even wall street analysts said they couldn ` t figure them out . and you don ` t have a chief financial officer of your company running some of these partnerships that are doing business with your company .\nvelshi : let ` s talk about enron stock . this used to be a darling stock . it ` s trading $ 1 . 40 off its 52 - week low . in fact at this moment , it ` s one tenth of its 52 - week high .\nkatayama : right . you know , that stock used to be as you say , a darling of wall street . it traded almost like a tech stock . because here was this pipeline company in texas that all of a sudden was into fiber optics , was into broadband and it traded like a tech stock . it also fell like a tech stock . that stock is down 73 percent over the last month , down 89 percent year to date and was down 10 days in a row in october .\nvelshi : let ` s talk about dynegy . last night on this show the news came out that dynegy was going to pump some money into enron and that over the course of the next 12 hours , that became discussions on a merger and a partnership . i don ` t want to use the word partnership . tell me what ` s likely to happen there .\nkatayama : well , the thing is , wall street was really anticipating , based on yesterday ` s build up , that we get an announcement today saying the two companies would merge , that dynegy would buy enron , possibly for 7 , 8 billion . but a lot of analysts say one , dynegy wants to recalculate those numbers based on those restatements and two , even if there is a deal , enron will get zero premium or very little because there ` s very little negotiating room . it ` s got $ 13 billion of debt and all these troubles behind it .\nvelshi : any indication of when we ` re going to hear about this restating and what we ` re going to see happen out of it ? that ` s always bad news when you ` ve got to restate for that far back .\nkatayama : and it always hangs on a stock . you remember it happened to cendant ( url : http : / / www . cendant . com / ) . you remember it happened to sunbeam ( url : http : / / www . sunbeam . com / ) . the thing is , it ` s probably going to unravel over weeks and it ` s not going to be any time soon and that may also mean any deal may be dragged down . that ` s a problem , because what are enron ` s assets ? traders , human capital . and in times of uncertainty , human capital goes to other companies and texas has a lot of energy trading companies .\nvelshi : fred , thanks very much for being with us .\ncopyright ? 2000 dow jones & company , inc . all rights reserved .\nenron shareholder derivative suit filed\n11 / 08 / 2001\npr newswire\n( copyright ( c ) 2001 , pr newswire )\nchicago , nov . 8 / prnewswire / - - the following statement was issued by krislov & associates , ltd :\ntwo shareholders of enron have filed a derivative suit in federal court in texas alleging that certain directors of enron breached their fiduciary duties to the company . the plaintiffs are represented by clinton krislov , michael karnuth , and michael rosenblat , of krislov & associates , chicago , illinois and michael bradford , of benckenstein & oxford , baumont , texas . the suit was filed on behalf of enron , to redress damages to the company from enron ' s investments in limited partnerships which were controlled by andrew fastow , enron ' s then chief financial officer , and approved by enron ' s board of directors . these transactions resulted in losses to enron estimated to be at least $ 35 million and a reduction in shareholders ' equity of at least $ 1 . 2 billion . the suit alleges that the defendants breached their fiduciary duties of loyalty and due care that they owed to enron and its stockholders .\nattorney krislov was quoted : \" they took a great company and nearly destroyed it through financial manipulation . maybe we can get some of it back for the company and its shareholders . \"\nif you would like additional information regarding this law suit you may contact , krislov & associates , ltd . , at 312 / 606 - 0500 or clint @ krislovlaw . com or benckenstein & oxford , llp , at 409 / 833 - 9182 or michaelbradford @ benoxford . com .\nmake your opinion count - click here\n/ contact : clinton krislov of krislov & associates , ltd . , + 1 - 312 - 606 - 0500 , clint @ krislovlaw . com , or michael bradford of benckenstein & oxford , llp , + 1 - 409 - 833 - 9182 , michaelbradford @ benoxford . com / 18 : 59 est\ncopyright ? 2000 dow jones & company , inc . all rights reserved .\nenron curtails activity in us power , gas mkt thu - traders\nby john edmiston and mark golden\nof dow jones newswires\n11 / 08 / 2001\ndow jones energy service\n( copyright ( c ) 2001 , dow jones 713 - 547 - 9209 ; john . edmiston @ dowjones . com\n( mark golden and kristen mcnamara in new york , and jon kamp in chicago contributed to this article . )\ncopyright ? 2000 dow jones & company , inc . all rights reserved .\nin the money : enron debacle could push accounting changes\nby carol s . remond\n11 / 08 / 2001\ndow jones news service\n( copyright ( c ) 2001 , dow jones 201 - 938 - 2074 ; dow jones newswires\ncarol . remond @ dowjones . com\ncopyright ? 2000 dow jones & company , inc . all rights reserved ."
        ],
        [
         "49",
         "Ham",
         "original message cary wintz dear kim translation minutes september escapenumber meeting later tonight leave printed copy notes please let know get together discuss lake minutes please keep materials together neet attach much material minutes permanent record cary original message kim john watson sent sunday october escapenumber escapenumber escapenumber escapenumber pm carey minutes last board meeting please call questions would happy walk notes thanks kim"
        ]
       ],
       "shape": {
        "columns": 2,
        "rows": 193852
       }
      },
      "text/html": [
       "<div>\n",
       "<style scoped>\n",
       "    .dataframe tbody tr th:only-of-type {\n",
       "        vertical-align: middle;\n",
       "    }\n",
       "\n",
       "    .dataframe tbody tr th {\n",
       "        vertical-align: top;\n",
       "    }\n",
       "\n",
       "    .dataframe thead th {\n",
       "        text-align: right;\n",
       "    }\n",
       "</style>\n",
       "<table border=\"1\" class=\"dataframe\">\n",
       "  <thead>\n",
       "    <tr style=\"text-align: right;\">\n",
       "      <th></th>\n",
       "      <th>label</th>\n",
       "      <th>text</th>\n",
       "    </tr>\n",
       "  </thead>\n",
       "  <tbody>\n",
       "    <tr>\n",
       "      <th>0</th>\n",
       "      <td>Spam</td>\n",
       "      <td>viiiiiiagraaaa\\nonly for the ones that want to...</td>\n",
       "    </tr>\n",
       "    <tr>\n",
       "      <th>1</th>\n",
       "      <td>Ham</td>\n",
       "      <td>got ice thought look az original message ice o...</td>\n",
       "    </tr>\n",
       "    <tr>\n",
       "      <th>2</th>\n",
       "      <td>Spam</td>\n",
       "      <td>yo ur wom an ne eds an escapenumber in ch ma n...</td>\n",
       "    </tr>\n",
       "    <tr>\n",
       "      <th>3</th>\n",
       "      <td>Spam</td>\n",
       "      <td>start increasing your odds of success &amp; live s...</td>\n",
       "    </tr>\n",
       "    <tr>\n",
       "      <th>4</th>\n",
       "      <td>Ham</td>\n",
       "      <td>author jra date escapenumber escapenumber esca...</td>\n",
       "    </tr>\n",
       "    <tr>\n",
       "      <th>...</th>\n",
       "      <td>...</td>\n",
       "      <td>...</td>\n",
       "    </tr>\n",
       "    <tr>\n",
       "      <th>193847</th>\n",
       "      <td>Ham</td>\n",
       "      <td>on escapenumber escapenumber escapenumber rob ...</td>\n",
       "    </tr>\n",
       "    <tr>\n",
       "      <th>193848</th>\n",
       "      <td>Spam</td>\n",
       "      <td>we have everything you need escapelong cialesc...</td>\n",
       "    </tr>\n",
       "    <tr>\n",
       "      <th>193849</th>\n",
       "      <td>Ham</td>\n",
       "      <td>hi quick question say i have a date variable i...</td>\n",
       "    </tr>\n",
       "    <tr>\n",
       "      <th>193850</th>\n",
       "      <td>Spam</td>\n",
       "      <td>thank you for your loan request which we recie...</td>\n",
       "    </tr>\n",
       "    <tr>\n",
       "      <th>193851</th>\n",
       "      <td>Ham</td>\n",
       "      <td>this is an automatically generated delivery st...</td>\n",
       "    </tr>\n",
       "  </tbody>\n",
       "</table>\n",
       "<p>193852 rows × 2 columns</p>\n",
       "</div>"
      ],
      "text/plain": [
       "       label                                               text\n",
       "0       Spam  viiiiiiagraaaa\\nonly for the ones that want to...\n",
       "1        Ham  got ice thought look az original message ice o...\n",
       "2       Spam  yo ur wom an ne eds an escapenumber in ch ma n...\n",
       "3       Spam  start increasing your odds of success & live s...\n",
       "4        Ham  author jra date escapenumber escapenumber esca...\n",
       "...      ...                                                ...\n",
       "193847   Ham  on escapenumber escapenumber escapenumber rob ...\n",
       "193848  Spam  we have everything you need escapelong cialesc...\n",
       "193849   Ham  hi quick question say i have a date variable i...\n",
       "193850  Spam  thank you for your loan request which we recie...\n",
       "193851   Ham  this is an automatically generated delivery st...\n",
       "\n",
       "[193852 rows x 2 columns]"
      ]
     },
     "execution_count": 32,
     "metadata": {},
     "output_type": "execute_result"
    }
   ],
   "source": [
    "# spam_ham_df = pd.read_csv('spam_Emails_data.csv')\n",
    "\n",
    "# # spam_ham_df = pd.read_csv('mail_data.csv')\n",
    "# spam_ham_df"
   ]
  },
  {
   "cell_type": "markdown",
   "id": "2b94f314",
   "metadata": {},
   "source": [
    "# Data cleaning"
   ]
  },
  {
   "cell_type": "code",
   "execution_count": null,
   "id": "cfbddf99",
   "metadata": {},
   "outputs": [
    {
     "data": {
      "application/vnd.microsoft.datawrangler.viewer.v0+json": {
       "columns": [
        {
         "name": "label",
         "rawType": "object",
         "type": "string"
        },
        {
         "name": "count",
         "rawType": "int64",
         "type": "integer"
        }
       ],
       "ref": "9db37292-38c2-41de-8bde-53c917d59991",
       "rows": [
        [
         "Ham",
         "102160"
        ],
        [
         "Spam",
         "91692"
        ]
       ],
       "shape": {
        "columns": 1,
        "rows": 2
       }
      },
      "text/plain": [
       "label\n",
       "Ham     102160\n",
       "Spam     91692\n",
       "Name: count, dtype: int64"
      ]
     },
     "execution_count": 33,
     "metadata": {},
     "output_type": "execute_result"
    }
   ],
   "source": [
    "# spam_ham_df['label'].value_counts()"
   ]
  },
  {
   "cell_type": "code",
   "execution_count": null,
   "id": "6f26e430",
   "metadata": {},
   "outputs": [
    {
     "data": {
      "application/vnd.microsoft.datawrangler.viewer.v0+json": {
       "columns": [
        {
         "name": "index",
         "rawType": "int64",
         "type": "integer"
        },
        {
         "name": "label",
         "rawType": "object",
         "type": "string"
        },
        {
         "name": "text",
         "rawType": "object",
         "type": "string"
        }
       ],
       "ref": "a5c67abc-0f29-4573-9de9-19ac58507f33",
       "rows": [
        [
         "0",
         "Spam",
         "viiiiiiagraaaa\nonly for the ones that want to make her scream .\nprodigy scrawny crow define upgrade spongy balboa dither moiseyev schumann variegate ponce bernie cox angeles impassive circulate impend miscellany chalkboard whizzing pend armenian cutlet waring makeshift fletch dispel crest cadet dovetail rapprochement gerry bayreuth selectman wilmington tuttle alchemy itt bullyboy .\ncaan ' t do . . .\n"
        ],
        [
         "1",
         "Ham",
         "got ice thought look az original message ice operations mailto iceoperations intcx com sent friday october escapenumber escapenumber escapenumber escapenumber pm subject escapelong amended participant agreement dear participant receiving email identified company user administrator legal counsel signatory escapelong participant agreement serves notice intercontinentals intent amend agreement effective december escapenumber escapenumber relevant documentation attached includes contact information questions thank escapelong inc"
        ],
        [
         "2",
         "Spam",
         "yo ur wom an ne eds an escapenumber in ch ma n b e th at ma n f or h er le arn h ow here tu rn of f not ific ati ons here escapelong dy international exports ltd st regina escapenumber belize city belize escapelong "
        ],
        [
         "3",
         "Spam",
         "start increasing your odds of success & live sexually healthy .\neasy and imperceptible to take .\ntake just a candy and become ready for 36 hours of love .\n? this is most modern and safe way not to cover with shame\n? only 15 minutes to wait\n? fda approved\nsoft tabs order will be packaged discreetly for your privacy and protection .\nr % emove !\n"
        ],
        [
         "4",
         "Ham",
         "author jra date escapenumber escapenumber escapenumber escapenumber escapenumber escapenumber escapenumber fri escapenumber jun escapenumber new revision escapenumber websvn http websvn samba org cgi bin viewcvs cgi view rev root samba rev escapenumber log first part of the patch to make apple's life easier doing this in two stages to make it very easy to review context switching must look like gain root sys setgroups ngroups groups become id uid gid re arrange order so these three calls are always seen together next will be to turn these into a function jeremy modified branches samba escapenumber escapenumber source smbd sec ctx c branches samba escapenumber escapenumber escapenumber source smbd sec ctx c changeset modified branches samba escapenumber escapenumber source smbd sec ctx c branches samba escapenumber escapenumber source smbd sec ctx c escapenumber escapenumber escapenumber escapenumber escapenumber escapenumber utc rev escapenumber branches samba escapenumber escapenumber source smbd sec ctx c escapenumber escapenumber escapenumber escapenumber escapenumber escapenumber utc rev escapenumber escapenumber escapenumber escapenumber escapenumber debug nt user token dbgc class escapenumber token debug unix user token dbgc class escapenumber uid gid ngroups groups start context switch gain root ifdef have setgroups sys setgroups ngroups groups endif become id uid gid end context switch ctx p ut ngroups ngroups escapenumber escapenumber escapenumber escapenumber ctx p token null become id uid gid ctx p ut uid uid ctx p ut gid gid escapenumber escapenumber escapenumber escapenumber sec ctx stack ndx gain root prev ctx p sec ctx stack sec ctx stack ndx start context switch gain root ifdef have setgroups sys setgroups prev ctx p ut ngroups prev ctx p ut groups endif become id prev ctx p ut uid prev ctx p ut gid end context switch update current user stuff modified branches samba escapenumber escapenumber escapenumber source smbd sec ctx c branches samba escapenumber escapenumber escapenumber source smbd sec ctx c escapenumber escapenumber escapenumber escapenumber escapenumber escapenumber utc rev escapenumber branches samba escapenumber escapenumber escapenumber source smbd sec ctx c escapenumber escapenumber escapenumber escapenumber escapenumber escapenumber utc rev escapenumber escapenumber escapenumber escapenumber escapenumber debug nt user token dbgc class escapenumber token debug unix user token dbgc class escapenumber uid gid ngroups groups start context switch gain root ifdef have setgroups sys setgroups ngroups groups endif become id uid gid end context switch ctx p ut ngroups ngroups escapenumber escapenumber escapenumber escapenumber ctx p token null become id uid gid ctx p ut uid uid ctx p ut gid gid escapenumber escapenumber escapenumber escapenumber sec ctx stack ndx gain root prev ctx p sec ctx stack sec ctx stack ndx start context switch gain root ifdef have setgroups sys setgroups prev ctx p ut ngroups prev ctx p ut groups endif become id prev ctx p ut uid prev ctx p ut gid end context switch update current user stuff "
        ]
       ],
       "shape": {
        "columns": 2,
        "rows": 5
       }
      },
      "text/html": [
       "<div>\n",
       "<style scoped>\n",
       "    .dataframe tbody tr th:only-of-type {\n",
       "        vertical-align: middle;\n",
       "    }\n",
       "\n",
       "    .dataframe tbody tr th {\n",
       "        vertical-align: top;\n",
       "    }\n",
       "\n",
       "    .dataframe thead th {\n",
       "        text-align: right;\n",
       "    }\n",
       "</style>\n",
       "<table border=\"1\" class=\"dataframe\">\n",
       "  <thead>\n",
       "    <tr style=\"text-align: right;\">\n",
       "      <th></th>\n",
       "      <th>label</th>\n",
       "      <th>text</th>\n",
       "    </tr>\n",
       "  </thead>\n",
       "  <tbody>\n",
       "    <tr>\n",
       "      <th>0</th>\n",
       "      <td>Spam</td>\n",
       "      <td>viiiiiiagraaaa\\nonly for the ones that want to...</td>\n",
       "    </tr>\n",
       "    <tr>\n",
       "      <th>1</th>\n",
       "      <td>Ham</td>\n",
       "      <td>got ice thought look az original message ice o...</td>\n",
       "    </tr>\n",
       "    <tr>\n",
       "      <th>2</th>\n",
       "      <td>Spam</td>\n",
       "      <td>yo ur wom an ne eds an escapenumber in ch ma n...</td>\n",
       "    </tr>\n",
       "    <tr>\n",
       "      <th>3</th>\n",
       "      <td>Spam</td>\n",
       "      <td>start increasing your odds of success &amp; live s...</td>\n",
       "    </tr>\n",
       "    <tr>\n",
       "      <th>4</th>\n",
       "      <td>Ham</td>\n",
       "      <td>author jra date escapenumber escapenumber esca...</td>\n",
       "    </tr>\n",
       "  </tbody>\n",
       "</table>\n",
       "</div>"
      ],
      "text/plain": [
       "  label                                               text\n",
       "0  Spam  viiiiiiagraaaa\\nonly for the ones that want to...\n",
       "1   Ham  got ice thought look az original message ice o...\n",
       "2  Spam  yo ur wom an ne eds an escapenumber in ch ma n...\n",
       "3  Spam  start increasing your odds of success & live s...\n",
       "4   Ham  author jra date escapenumber escapenumber esca..."
      ]
     },
     "execution_count": 34,
     "metadata": {},
     "output_type": "execute_result"
    }
   ],
   "source": [
    "# spam_ham_df.head(5)"
   ]
  },
  {
   "cell_type": "code",
   "execution_count": null,
   "id": "048f1c9b",
   "metadata": {},
   "outputs": [
    {
     "data": {
      "text/plain": [
       "(193852, 2)"
      ]
     },
     "execution_count": 35,
     "metadata": {},
     "output_type": "execute_result"
    }
   ],
   "source": [
    "# spam_ham_df.shape"
   ]
  },
  {
   "cell_type": "code",
   "execution_count": null,
   "id": "58eb3f5e",
   "metadata": {},
   "outputs": [
    {
     "name": "stdout",
     "output_type": "stream",
     "text": [
      "<class 'pandas.core.frame.DataFrame'>\n",
      "RangeIndex: 193852 entries, 0 to 193851\n",
      "Data columns (total 2 columns):\n",
      " #   Column  Non-Null Count   Dtype \n",
      "---  ------  --------------   ----- \n",
      " 0   label   193852 non-null  object\n",
      " 1   text    193850 non-null  object\n",
      "dtypes: object(2)\n",
      "memory usage: 3.0+ MB\n"
     ]
    }
   ],
   "source": [
    "# spam_ham_df.info()"
   ]
  },
  {
   "cell_type": "markdown",
   "id": "8180ab4c",
   "metadata": {},
   "source": [
    "# Reduce the size of rows\n",
    "Balance the spam ham"
   ]
  },
  {
   "cell_type": "code",
   "execution_count": null,
   "id": "9c02a76e",
   "metadata": {},
   "outputs": [],
   "source": [
    "# spam_df = spam_ham_df[spam_ham_df['label']=='Spam']\n",
    "# ham_df = spam_ham_df[spam_ham_df['label']=='Ham']\n",
    "\n",
    "# n= 4000\n",
    "\n",
    "# spam_sp=spam_df.sample(n=n,random_state=42)\n",
    "# ham_sp=ham_df.sample(n=n,random_state=42)\n",
    "\n",
    "# reduced_df = pd.concat([spam_sp,ham_sp]).sample(frac=1).reset_index(drop=True)"
   ]
  },
  {
   "cell_type": "code",
   "execution_count": null,
   "id": "166f221a",
   "metadata": {},
   "outputs": [],
   "source": [
    "# reduced_df.to_csv('email_data.csv',index=False)"
   ]
  },
  {
   "cell_type": "code",
   "execution_count": 39,
   "id": "3a90f644",
   "metadata": {},
   "outputs": [],
   "source": [
    "df = pd.read_csv('email_data.csv')\n",
    "# df = pd.read_csv('mail_data.csv')"
   ]
  },
  {
   "cell_type": "code",
   "execution_count": 40,
   "id": "00942b82",
   "metadata": {},
   "outputs": [
    {
     "data": {
      "application/vnd.microsoft.datawrangler.viewer.v0+json": {
       "columns": [
        {
         "name": "index",
         "rawType": "int64",
         "type": "integer"
        },
        {
         "name": "label",
         "rawType": "object",
         "type": "string"
        },
        {
         "name": "text",
         "rawType": "object",
         "type": "string"
        }
       ],
       "ref": "00593f24-f1c1-44db-a560-f1aa1026a611",
       "rows": [
        [
         "0",
         "Spam",
         "bescapenumber descapenumber bescapenumber bescapenumber cescapenumber cc ca ba bescapenumber cescapenumber cc bd cescapenumber bescapenumber eescapenumber cescapenumber bescapenumber aescapenumber cescapenumber cc bescapenumber cc cescapenumber fescapenumber ba bescapenumber bescapenumber eescapenumber bescapenumber aescapenumber bescapenumber aescapenumber bescapenumber aescapenumber bd cescapenumber bescapenumber eescapenumber cescapenumber da bc bc cescapenumber descapenumber bescapenumber bb bf eb cescapenumber bb ba bescapenumber bd cescapenumber bc fescapenumber cescapenumber descapenumber bd cescapenumber bescapenumber cf bescapenumber descapenumber aescapenumber aescapenumber aescapenumber aescapenumber aescapenumber aescapenumber aescapenumber cb aescapenumber cb aescapenumber aescapenumber aescapenumber aescapenumber aescapenumber aescapenumber aescapenumber cb aescapenumber cb aescapenumber aescapenumber aescapenumber aescapenumber aescapenumber aescapenumber aescapenumber cb aescapenumber cb aescapenumber aescapenumber aescapenumber aescapenumber aescapenumber aescapenumber aescapenumber cb aescapenumber cb aescapenumber aescapenumber aescapenumber aescapenumber aescapenumber aescapenumber aescapenumber cb aescapenumber cb aescapenumber aescapenumber aescapenumber aescapenumber aescapenumber cb aescapenumber cb aescapenumber cb aescapenumber cb aescapenumber aescapenumber aescapenumber aescapenumber aescapenumber aescapenumber aescapenumber cb aescapenumber cb aescapenumber aescapenumber aescapenumber aescapenumber aescapenumber aescapenumber aescapenumber cb"
        ],
        [
         "1",
         "Ham",
         "wrong aggie the key word is man dammit little or big it's raining them i just stepped in a puddle of man hallelujah original message from brad corrier sent thursday october escapenumber escapenumber escapenumber escapenumber am to chad knipe erik wollam chet fenner c r zander att net joe parks brian constantine lawfeder msn com subject re no man night i think the key word is little original message from chad knipe to erik wollam brad corrier chet fenner c r zander att net joe parks brian constantine lawfeder msn com sent wednesday october escapenumber escapenumber escapenumber escapenumber pm subject re no man night just me and my little man touch him original message from erik wollam sent wednesday october escapenumber escapenumber escapenumber escapenumber am to bcorrier cox internet com knipeescapenumber msn com chet fenner bmc com c r zander att net joe parks enron com brianc saltgrass com lawfeder msn com subject no man night i had suggested man night for escapenumber escapenumber not going to happen form me sheila in boston eva out this week i'm on my own with my little men chad in same situation with stormy out of town try again later e get your free download of msn explorer at"
        ],
        [
         "2",
         "Ham",
         "hello mark great article months corporate legal times enron legal department know wholesale group critical company role critical success legal department thanks looking milbank pg e ebs year among things order review ought better service group would like arrange meeting convenience suggest dates escapenumber escapenumber escapenumber escapenumber escapenumber escapenumber escapenumber escapenumber work lunch afternoon meeting hope hear soon regards ed feo milbank tweed hadley mccloy llp escapenumber south figueroa street escapenumberth floor los angeles ca escapenumber phone escapenumber escapenumber escapenumber fax escapenumber escapenumber escapenumber cell escapenumber escapenumber escapenumber e mail message may contain legally privileged confidential information intended recipient employee agent responsible delivery message intended recipient hereby notified dissemination distribution copying e mail message strictly prohibited received message error please immediately notify sender delete e mail message computer"
        ],
        [
         "3",
         "Spam",
         "yap international inc ypil voip technology requires no computer or high speed internet connection for its dia up product current price escapenumber watch this stock monday some of these little voip stocks have been rea ly moving late y and when some of thbarry tycholiz move they real y go gains of escapenumber escapenumberoo or more are not unheard of break news yap international inc identified another voip techno ogy provider that the company intends to market and sel under the nomad product name under the new plan the company wil market escapenumber voip ata devices each addressing a specific and unique portion of the g obal marketp ace each device works with either a dial up or a broadband connection and are ideal y suited not on y in north america but in deve oping nations arescapenumberund the wescapenumberrld where broadband penetration is limited or non existent the new my nomad product offering wi escapenumberffer video conferencing capabilities ca l forwarding ca waiting voice mail and a globa virtual number also included in the new offering is a residentia standalone device that does not require a computer a usb ata device that requires no external power and works perfect y with any ana og handset or pbx systbarry tycholiz a usb assistant that adds enhanced call forwarding to any cel phone or regular phone with rbarry tycholizote dial out ce lu ar bridging capability a sleek voip enab ed fu l featured lan phone with lcd display caller id and web interface a residential or business stand a one voip gateway that has bui t in nat router and firewa l enhanced call forwarding cal block and rbarry tycholizote dia out ce ular bridging and a standa one voip gateway pbx router with four ports for medium size businesses in addition escapenumber voip enabled phones wil be added to the product ine each voip enab ed handset has the abi ity to uti ize either a dia up or broadband connection inc uded in the voip handset offering is a wifi phone including a usb cord ess phone for home or office each sip based product requires a minimum of escapenumber kbps and utilizes only escapenumber escapenumber of a escapelong mhz escapenumber mb computer's resources and is not subject to de ay or jitter in direct comparison skype requires a minimum of escapenumber escapenumber of a escapenumbero mhz escapenumber mb computers resources and is subject to de ay and jitter due to end users computer being used as a proxy server on the network managbarry tycholizent be ieves this to be one of the most complete and techno ogically advanced line of voip products currently avai ab e in the world our agrebarry tycholizent with securities trading services inc and the deve opments of the past months leaves us with too s necessary to commercia ize and market our products on a globa sca e we expect our mi estones to be met and thus executing our business plan as anticipated¡¨ stated jan olivier ceo of yap international inc about the company yap international inc is a multi nationa internet communications company deve oping cost effective telecommunications through voice over internet protoco voip technologies the company ho ds the exc usive rights to a revo utionary voip product line cal ed nomad systbarry tycholizs that has dial up broadband dsl cab e sate ite and wire ess capabilities the company p ans on targeting escapenumber nationa fixed line ii iii tier carriers which are interested in effective y competing with the dominant carrier in their marketplace escapenumber large mu tinationa corporations which need to have us or european presence by having for example a united states number ringing in their offices in guatbarry tycholiza a or london offering business partners a more economical way to communicate and escapenumber immigrants in north america a means of significantly owering their communication expense with their re atives in their country of origin the company is headquartered in las vegas with administrative offices in vancouver and sa es offices in los ange es san francisco and newport beach california conclusion the examp es above show the awesome earning potentia of little known companies that explode onto investor's radar screens many of you are already familiar with this is ypil poised and positioned to do that for you then you may fee the time has come to act and please watch this one trade monday go ypil penny stocks are considered highly speculative and may be unsuitab e for all but very aggressive investors this profi e is not in any way affi iated with the featured company we were compensated escapelong dollars to distribute this report this report is for entertainment and advertising purposes only and shou d not be used as investment advice if you wish to stop future mai ings or if you feel you have been wrongfu ly placed in our mbarry tycholizbership p ease go here or send a blank e mai with no thanks in the subject to noneedescapenumber yahoo com"
        ],
        [
         "4",
         "Ham",
         "hi theresa know anything two entries hit co escapenumberk buying escapenumber escapenumber escapenumber mms escapenumber escapenumber production period sept oct escapenumber appear coming unify see could please let know soon possible thanks chris price enron north america business analysis reporting phone escapenumber escapenumber escapenumber fax escapenumber escapenumber escapenumber"
        ]
       ],
       "shape": {
        "columns": 2,
        "rows": 5
       }
      },
      "text/html": [
       "<div>\n",
       "<style scoped>\n",
       "    .dataframe tbody tr th:only-of-type {\n",
       "        vertical-align: middle;\n",
       "    }\n",
       "\n",
       "    .dataframe tbody tr th {\n",
       "        vertical-align: top;\n",
       "    }\n",
       "\n",
       "    .dataframe thead th {\n",
       "        text-align: right;\n",
       "    }\n",
       "</style>\n",
       "<table border=\"1\" class=\"dataframe\">\n",
       "  <thead>\n",
       "    <tr style=\"text-align: right;\">\n",
       "      <th></th>\n",
       "      <th>label</th>\n",
       "      <th>text</th>\n",
       "    </tr>\n",
       "  </thead>\n",
       "  <tbody>\n",
       "    <tr>\n",
       "      <th>0</th>\n",
       "      <td>Spam</td>\n",
       "      <td>bescapenumber descapenumber bescapenumber besc...</td>\n",
       "    </tr>\n",
       "    <tr>\n",
       "      <th>1</th>\n",
       "      <td>Ham</td>\n",
       "      <td>wrong aggie the key word is man dammit little ...</td>\n",
       "    </tr>\n",
       "    <tr>\n",
       "      <th>2</th>\n",
       "      <td>Ham</td>\n",
       "      <td>hello mark great article months corporate lega...</td>\n",
       "    </tr>\n",
       "    <tr>\n",
       "      <th>3</th>\n",
       "      <td>Spam</td>\n",
       "      <td>yap international inc ypil voip technology req...</td>\n",
       "    </tr>\n",
       "    <tr>\n",
       "      <th>4</th>\n",
       "      <td>Ham</td>\n",
       "      <td>hi theresa know anything two entries hit co es...</td>\n",
       "    </tr>\n",
       "  </tbody>\n",
       "</table>\n",
       "</div>"
      ],
      "text/plain": [
       "  label                                               text\n",
       "0  Spam  bescapenumber descapenumber bescapenumber besc...\n",
       "1   Ham  wrong aggie the key word is man dammit little ...\n",
       "2   Ham  hello mark great article months corporate lega...\n",
       "3  Spam  yap international inc ypil voip technology req...\n",
       "4   Ham  hi theresa know anything two entries hit co es..."
      ]
     },
     "execution_count": 40,
     "metadata": {},
     "output_type": "execute_result"
    }
   ],
   "source": [
    "df.head()"
   ]
  },
  {
   "cell_type": "code",
   "execution_count": 41,
   "id": "d8a8e439",
   "metadata": {},
   "outputs": [
    {
     "data": {
      "application/vnd.microsoft.datawrangler.viewer.v0+json": {
       "columns": [
        {
         "name": "index",
         "rawType": "int64",
         "type": "integer"
        },
        {
         "name": "category",
         "rawType": "object",
         "type": "string"
        },
        {
         "name": "email",
         "rawType": "object",
         "type": "string"
        }
       ],
       "ref": "a266bba9-6e60-4d98-844e-f3db12c46b81",
       "rows": [
        [
         "0",
         "Spam",
         "bescapenumber descapenumber bescapenumber bescapenumber cescapenumber cc ca ba bescapenumber cescapenumber cc bd cescapenumber bescapenumber eescapenumber cescapenumber bescapenumber aescapenumber cescapenumber cc bescapenumber cc cescapenumber fescapenumber ba bescapenumber bescapenumber eescapenumber bescapenumber aescapenumber bescapenumber aescapenumber bescapenumber aescapenumber bd cescapenumber bescapenumber eescapenumber cescapenumber da bc bc cescapenumber descapenumber bescapenumber bb bf eb cescapenumber bb ba bescapenumber bd cescapenumber bc fescapenumber cescapenumber descapenumber bd cescapenumber bescapenumber cf bescapenumber descapenumber aescapenumber aescapenumber aescapenumber aescapenumber aescapenumber aescapenumber aescapenumber cb aescapenumber cb aescapenumber aescapenumber aescapenumber aescapenumber aescapenumber aescapenumber aescapenumber cb aescapenumber cb aescapenumber aescapenumber aescapenumber aescapenumber aescapenumber aescapenumber aescapenumber cb aescapenumber cb aescapenumber aescapenumber aescapenumber aescapenumber aescapenumber aescapenumber aescapenumber cb aescapenumber cb aescapenumber aescapenumber aescapenumber aescapenumber aescapenumber aescapenumber aescapenumber cb aescapenumber cb aescapenumber aescapenumber aescapenumber aescapenumber aescapenumber cb aescapenumber cb aescapenumber cb aescapenumber cb aescapenumber aescapenumber aescapenumber aescapenumber aescapenumber aescapenumber aescapenumber cb aescapenumber cb aescapenumber aescapenumber aescapenumber aescapenumber aescapenumber aescapenumber aescapenumber cb"
        ],
        [
         "1",
         "Ham",
         "wrong aggie the key word is man dammit little or big it's raining them i just stepped in a puddle of man hallelujah original message from brad corrier sent thursday october escapenumber escapenumber escapenumber escapenumber am to chad knipe erik wollam chet fenner c r zander att net joe parks brian constantine lawfeder msn com subject re no man night i think the key word is little original message from chad knipe to erik wollam brad corrier chet fenner c r zander att net joe parks brian constantine lawfeder msn com sent wednesday october escapenumber escapenumber escapenumber escapenumber pm subject re no man night just me and my little man touch him original message from erik wollam sent wednesday october escapenumber escapenumber escapenumber escapenumber am to bcorrier cox internet com knipeescapenumber msn com chet fenner bmc com c r zander att net joe parks enron com brianc saltgrass com lawfeder msn com subject no man night i had suggested man night for escapenumber escapenumber not going to happen form me sheila in boston eva out this week i'm on my own with my little men chad in same situation with stormy out of town try again later e get your free download of msn explorer at"
        ],
        [
         "2",
         "Ham",
         "hello mark great article months corporate legal times enron legal department know wholesale group critical company role critical success legal department thanks looking milbank pg e ebs year among things order review ought better service group would like arrange meeting convenience suggest dates escapenumber escapenumber escapenumber escapenumber escapenumber escapenumber escapenumber escapenumber work lunch afternoon meeting hope hear soon regards ed feo milbank tweed hadley mccloy llp escapenumber south figueroa street escapenumberth floor los angeles ca escapenumber phone escapenumber escapenumber escapenumber fax escapenumber escapenumber escapenumber cell escapenumber escapenumber escapenumber e mail message may contain legally privileged confidential information intended recipient employee agent responsible delivery message intended recipient hereby notified dissemination distribution copying e mail message strictly prohibited received message error please immediately notify sender delete e mail message computer"
        ],
        [
         "3",
         "Spam",
         "yap international inc ypil voip technology requires no computer or high speed internet connection for its dia up product current price escapenumber watch this stock monday some of these little voip stocks have been rea ly moving late y and when some of thbarry tycholiz move they real y go gains of escapenumber escapenumberoo or more are not unheard of break news yap international inc identified another voip techno ogy provider that the company intends to market and sel under the nomad product name under the new plan the company wil market escapenumber voip ata devices each addressing a specific and unique portion of the g obal marketp ace each device works with either a dial up or a broadband connection and are ideal y suited not on y in north america but in deve oping nations arescapenumberund the wescapenumberrld where broadband penetration is limited or non existent the new my nomad product offering wi escapenumberffer video conferencing capabilities ca l forwarding ca waiting voice mail and a globa virtual number also included in the new offering is a residentia standalone device that does not require a computer a usb ata device that requires no external power and works perfect y with any ana og handset or pbx systbarry tycholiz a usb assistant that adds enhanced call forwarding to any cel phone or regular phone with rbarry tycholizote dial out ce lu ar bridging capability a sleek voip enab ed fu l featured lan phone with lcd display caller id and web interface a residential or business stand a one voip gateway that has bui t in nat router and firewa l enhanced call forwarding cal block and rbarry tycholizote dia out ce ular bridging and a standa one voip gateway pbx router with four ports for medium size businesses in addition escapenumber voip enabled phones wil be added to the product ine each voip enab ed handset has the abi ity to uti ize either a dia up or broadband connection inc uded in the voip handset offering is a wifi phone including a usb cord ess phone for home or office each sip based product requires a minimum of escapenumber kbps and utilizes only escapenumber escapenumber of a escapelong mhz escapenumber mb computer's resources and is not subject to de ay or jitter in direct comparison skype requires a minimum of escapenumber escapenumber of a escapenumbero mhz escapenumber mb computers resources and is subject to de ay and jitter due to end users computer being used as a proxy server on the network managbarry tycholizent be ieves this to be one of the most complete and techno ogically advanced line of voip products currently avai ab e in the world our agrebarry tycholizent with securities trading services inc and the deve opments of the past months leaves us with too s necessary to commercia ize and market our products on a globa sca e we expect our mi estones to be met and thus executing our business plan as anticipated¡¨ stated jan olivier ceo of yap international inc about the company yap international inc is a multi nationa internet communications company deve oping cost effective telecommunications through voice over internet protoco voip technologies the company ho ds the exc usive rights to a revo utionary voip product line cal ed nomad systbarry tycholizs that has dial up broadband dsl cab e sate ite and wire ess capabilities the company p ans on targeting escapenumber nationa fixed line ii iii tier carriers which are interested in effective y competing with the dominant carrier in their marketplace escapenumber large mu tinationa corporations which need to have us or european presence by having for example a united states number ringing in their offices in guatbarry tycholiza a or london offering business partners a more economical way to communicate and escapenumber immigrants in north america a means of significantly owering their communication expense with their re atives in their country of origin the company is headquartered in las vegas with administrative offices in vancouver and sa es offices in los ange es san francisco and newport beach california conclusion the examp es above show the awesome earning potentia of little known companies that explode onto investor's radar screens many of you are already familiar with this is ypil poised and positioned to do that for you then you may fee the time has come to act and please watch this one trade monday go ypil penny stocks are considered highly speculative and may be unsuitab e for all but very aggressive investors this profi e is not in any way affi iated with the featured company we were compensated escapelong dollars to distribute this report this report is for entertainment and advertising purposes only and shou d not be used as investment advice if you wish to stop future mai ings or if you feel you have been wrongfu ly placed in our mbarry tycholizbership p ease go here or send a blank e mai with no thanks in the subject to noneedescapenumber yahoo com"
        ],
        [
         "4",
         "Ham",
         "hi theresa know anything two entries hit co escapenumberk buying escapenumber escapenumber escapenumber mms escapenumber escapenumber production period sept oct escapenumber appear coming unify see could please let know soon possible thanks chris price enron north america business analysis reporting phone escapenumber escapenumber escapenumber fax escapenumber escapenumber escapenumber"
        ]
       ],
       "shape": {
        "columns": 2,
        "rows": 5
       }
      },
      "text/html": [
       "<div>\n",
       "<style scoped>\n",
       "    .dataframe tbody tr th:only-of-type {\n",
       "        vertical-align: middle;\n",
       "    }\n",
       "\n",
       "    .dataframe tbody tr th {\n",
       "        vertical-align: top;\n",
       "    }\n",
       "\n",
       "    .dataframe thead th {\n",
       "        text-align: right;\n",
       "    }\n",
       "</style>\n",
       "<table border=\"1\" class=\"dataframe\">\n",
       "  <thead>\n",
       "    <tr style=\"text-align: right;\">\n",
       "      <th></th>\n",
       "      <th>category</th>\n",
       "      <th>email</th>\n",
       "    </tr>\n",
       "  </thead>\n",
       "  <tbody>\n",
       "    <tr>\n",
       "      <th>0</th>\n",
       "      <td>Spam</td>\n",
       "      <td>bescapenumber descapenumber bescapenumber besc...</td>\n",
       "    </tr>\n",
       "    <tr>\n",
       "      <th>1</th>\n",
       "      <td>Ham</td>\n",
       "      <td>wrong aggie the key word is man dammit little ...</td>\n",
       "    </tr>\n",
       "    <tr>\n",
       "      <th>2</th>\n",
       "      <td>Ham</td>\n",
       "      <td>hello mark great article months corporate lega...</td>\n",
       "    </tr>\n",
       "    <tr>\n",
       "      <th>3</th>\n",
       "      <td>Spam</td>\n",
       "      <td>yap international inc ypil voip technology req...</td>\n",
       "    </tr>\n",
       "    <tr>\n",
       "      <th>4</th>\n",
       "      <td>Ham</td>\n",
       "      <td>hi theresa know anything two entries hit co es...</td>\n",
       "    </tr>\n",
       "  </tbody>\n",
       "</table>\n",
       "</div>"
      ],
      "text/plain": [
       "  category                                              email\n",
       "0     Spam  bescapenumber descapenumber bescapenumber besc...\n",
       "1      Ham  wrong aggie the key word is man dammit little ...\n",
       "2      Ham  hello mark great article months corporate lega...\n",
       "3     Spam  yap international inc ypil voip technology req...\n",
       "4      Ham  hi theresa know anything two entries hit co es..."
      ]
     },
     "execution_count": 41,
     "metadata": {},
     "output_type": "execute_result"
    }
   ],
   "source": [
    "# renaming the cols\n",
    "df.rename(columns={'label':'category','text':'email'},inplace=True)\n",
    "\n",
    "df.head()"
   ]
  },
  {
   "cell_type": "code",
   "execution_count": 42,
   "id": "c5d4027d",
   "metadata": {},
   "outputs": [
    {
     "data": {
      "application/vnd.microsoft.datawrangler.viewer.v0+json": {
       "columns": [
        {
         "name": "index",
         "rawType": "object",
         "type": "string"
        },
        {
         "name": "category",
         "rawType": "object",
         "type": "unknown"
        },
        {
         "name": "email",
         "rawType": "object",
         "type": "unknown"
        }
       ],
       "ref": "41d91b43-c4b2-4c76-a845-7bb6f48d97b9",
       "rows": [
        [
         "count",
         "8000",
         "8000"
        ],
        [
         "unique",
         "2",
         "8000"
        ],
        [
         "top",
         "Spam",
         "bescapenumber descapenumber bescapenumber bescapenumber cescapenumber cc ca ba bescapenumber cescapenumber cc bd cescapenumber bescapenumber eescapenumber cescapenumber bescapenumber aescapenumber cescapenumber cc bescapenumber cc cescapenumber fescapenumber ba bescapenumber bescapenumber eescapenumber bescapenumber aescapenumber bescapenumber aescapenumber bescapenumber aescapenumber bd cescapenumber bescapenumber eescapenumber cescapenumber da bc bc cescapenumber descapenumber bescapenumber bb bf eb cescapenumber bb ba bescapenumber bd cescapenumber bc fescapenumber cescapenumber descapenumber bd cescapenumber bescapenumber cf bescapenumber descapenumber aescapenumber aescapenumber aescapenumber aescapenumber aescapenumber aescapenumber aescapenumber cb aescapenumber cb aescapenumber aescapenumber aescapenumber aescapenumber aescapenumber aescapenumber aescapenumber cb aescapenumber cb aescapenumber aescapenumber aescapenumber aescapenumber aescapenumber aescapenumber aescapenumber cb aescapenumber cb aescapenumber aescapenumber aescapenumber aescapenumber aescapenumber aescapenumber aescapenumber cb aescapenumber cb aescapenumber aescapenumber aescapenumber aescapenumber aescapenumber aescapenumber aescapenumber cb aescapenumber cb aescapenumber aescapenumber aescapenumber aescapenumber aescapenumber cb aescapenumber cb aescapenumber cb aescapenumber cb aescapenumber aescapenumber aescapenumber aescapenumber aescapenumber aescapenumber aescapenumber cb aescapenumber cb aescapenumber aescapenumber aescapenumber aescapenumber aescapenumber aescapenumber aescapenumber cb"
        ],
        [
         "freq",
         "4000",
         "1"
        ]
       ],
       "shape": {
        "columns": 2,
        "rows": 4
       }
      },
      "text/html": [
       "<div>\n",
       "<style scoped>\n",
       "    .dataframe tbody tr th:only-of-type {\n",
       "        vertical-align: middle;\n",
       "    }\n",
       "\n",
       "    .dataframe tbody tr th {\n",
       "        vertical-align: top;\n",
       "    }\n",
       "\n",
       "    .dataframe thead th {\n",
       "        text-align: right;\n",
       "    }\n",
       "</style>\n",
       "<table border=\"1\" class=\"dataframe\">\n",
       "  <thead>\n",
       "    <tr style=\"text-align: right;\">\n",
       "      <th></th>\n",
       "      <th>category</th>\n",
       "      <th>email</th>\n",
       "    </tr>\n",
       "  </thead>\n",
       "  <tbody>\n",
       "    <tr>\n",
       "      <th>count</th>\n",
       "      <td>8000</td>\n",
       "      <td>8000</td>\n",
       "    </tr>\n",
       "    <tr>\n",
       "      <th>unique</th>\n",
       "      <td>2</td>\n",
       "      <td>8000</td>\n",
       "    </tr>\n",
       "    <tr>\n",
       "      <th>top</th>\n",
       "      <td>Spam</td>\n",
       "      <td>bescapenumber descapenumber bescapenumber besc...</td>\n",
       "    </tr>\n",
       "    <tr>\n",
       "      <th>freq</th>\n",
       "      <td>4000</td>\n",
       "      <td>1</td>\n",
       "    </tr>\n",
       "  </tbody>\n",
       "</table>\n",
       "</div>"
      ],
      "text/plain": [
       "       category                                              email\n",
       "count      8000                                               8000\n",
       "unique        2                                               8000\n",
       "top        Spam  bescapenumber descapenumber bescapenumber besc...\n",
       "freq       4000                                                  1"
      ]
     },
     "execution_count": 42,
     "metadata": {},
     "output_type": "execute_result"
    }
   ],
   "source": [
    "df.describe()"
   ]
  },
  {
   "cell_type": "code",
   "execution_count": 43,
   "id": "8b991136",
   "metadata": {},
   "outputs": [],
   "source": [
    "from sklearn.preprocessing import LabelEncoder\n",
    "encoder = LabelEncoder()"
   ]
  },
  {
   "cell_type": "code",
   "execution_count": 44,
   "id": "5ab037ba",
   "metadata": {},
   "outputs": [
    {
     "data": {
      "application/vnd.microsoft.datawrangler.viewer.v0+json": {
       "columns": [
        {
         "name": "index",
         "rawType": "int64",
         "type": "integer"
        },
        {
         "name": "category",
         "rawType": "int64",
         "type": "integer"
        },
        {
         "name": "email",
         "rawType": "object",
         "type": "string"
        }
       ],
       "ref": "a37d24ee-a455-42d8-b369-0e61aee8a72a",
       "rows": [
        [
         "0",
         "1",
         "bescapenumber descapenumber bescapenumber bescapenumber cescapenumber cc ca ba bescapenumber cescapenumber cc bd cescapenumber bescapenumber eescapenumber cescapenumber bescapenumber aescapenumber cescapenumber cc bescapenumber cc cescapenumber fescapenumber ba bescapenumber bescapenumber eescapenumber bescapenumber aescapenumber bescapenumber aescapenumber bescapenumber aescapenumber bd cescapenumber bescapenumber eescapenumber cescapenumber da bc bc cescapenumber descapenumber bescapenumber bb bf eb cescapenumber bb ba bescapenumber bd cescapenumber bc fescapenumber cescapenumber descapenumber bd cescapenumber bescapenumber cf bescapenumber descapenumber aescapenumber aescapenumber aescapenumber aescapenumber aescapenumber aescapenumber aescapenumber cb aescapenumber cb aescapenumber aescapenumber aescapenumber aescapenumber aescapenumber aescapenumber aescapenumber cb aescapenumber cb aescapenumber aescapenumber aescapenumber aescapenumber aescapenumber aescapenumber aescapenumber cb aescapenumber cb aescapenumber aescapenumber aescapenumber aescapenumber aescapenumber aescapenumber aescapenumber cb aescapenumber cb aescapenumber aescapenumber aescapenumber aescapenumber aescapenumber aescapenumber aescapenumber cb aescapenumber cb aescapenumber aescapenumber aescapenumber aescapenumber aescapenumber cb aescapenumber cb aescapenumber cb aescapenumber cb aescapenumber aescapenumber aescapenumber aescapenumber aescapenumber aescapenumber aescapenumber cb aescapenumber cb aescapenumber aescapenumber aescapenumber aescapenumber aescapenumber aescapenumber aescapenumber cb"
        ],
        [
         "1",
         "0",
         "wrong aggie the key word is man dammit little or big it's raining them i just stepped in a puddle of man hallelujah original message from brad corrier sent thursday october escapenumber escapenumber escapenumber escapenumber am to chad knipe erik wollam chet fenner c r zander att net joe parks brian constantine lawfeder msn com subject re no man night i think the key word is little original message from chad knipe to erik wollam brad corrier chet fenner c r zander att net joe parks brian constantine lawfeder msn com sent wednesday october escapenumber escapenumber escapenumber escapenumber pm subject re no man night just me and my little man touch him original message from erik wollam sent wednesday october escapenumber escapenumber escapenumber escapenumber am to bcorrier cox internet com knipeescapenumber msn com chet fenner bmc com c r zander att net joe parks enron com brianc saltgrass com lawfeder msn com subject no man night i had suggested man night for escapenumber escapenumber not going to happen form me sheila in boston eva out this week i'm on my own with my little men chad in same situation with stormy out of town try again later e get your free download of msn explorer at"
        ],
        [
         "2",
         "0",
         "hello mark great article months corporate legal times enron legal department know wholesale group critical company role critical success legal department thanks looking milbank pg e ebs year among things order review ought better service group would like arrange meeting convenience suggest dates escapenumber escapenumber escapenumber escapenumber escapenumber escapenumber escapenumber escapenumber work lunch afternoon meeting hope hear soon regards ed feo milbank tweed hadley mccloy llp escapenumber south figueroa street escapenumberth floor los angeles ca escapenumber phone escapenumber escapenumber escapenumber fax escapenumber escapenumber escapenumber cell escapenumber escapenumber escapenumber e mail message may contain legally privileged confidential information intended recipient employee agent responsible delivery message intended recipient hereby notified dissemination distribution copying e mail message strictly prohibited received message error please immediately notify sender delete e mail message computer"
        ],
        [
         "3",
         "1",
         "yap international inc ypil voip technology requires no computer or high speed internet connection for its dia up product current price escapenumber watch this stock monday some of these little voip stocks have been rea ly moving late y and when some of thbarry tycholiz move they real y go gains of escapenumber escapenumberoo or more are not unheard of break news yap international inc identified another voip techno ogy provider that the company intends to market and sel under the nomad product name under the new plan the company wil market escapenumber voip ata devices each addressing a specific and unique portion of the g obal marketp ace each device works with either a dial up or a broadband connection and are ideal y suited not on y in north america but in deve oping nations arescapenumberund the wescapenumberrld where broadband penetration is limited or non existent the new my nomad product offering wi escapenumberffer video conferencing capabilities ca l forwarding ca waiting voice mail and a globa virtual number also included in the new offering is a residentia standalone device that does not require a computer a usb ata device that requires no external power and works perfect y with any ana og handset or pbx systbarry tycholiz a usb assistant that adds enhanced call forwarding to any cel phone or regular phone with rbarry tycholizote dial out ce lu ar bridging capability a sleek voip enab ed fu l featured lan phone with lcd display caller id and web interface a residential or business stand a one voip gateway that has bui t in nat router and firewa l enhanced call forwarding cal block and rbarry tycholizote dia out ce ular bridging and a standa one voip gateway pbx router with four ports for medium size businesses in addition escapenumber voip enabled phones wil be added to the product ine each voip enab ed handset has the abi ity to uti ize either a dia up or broadband connection inc uded in the voip handset offering is a wifi phone including a usb cord ess phone for home or office each sip based product requires a minimum of escapenumber kbps and utilizes only escapenumber escapenumber of a escapelong mhz escapenumber mb computer's resources and is not subject to de ay or jitter in direct comparison skype requires a minimum of escapenumber escapenumber of a escapenumbero mhz escapenumber mb computers resources and is subject to de ay and jitter due to end users computer being used as a proxy server on the network managbarry tycholizent be ieves this to be one of the most complete and techno ogically advanced line of voip products currently avai ab e in the world our agrebarry tycholizent with securities trading services inc and the deve opments of the past months leaves us with too s necessary to commercia ize and market our products on a globa sca e we expect our mi estones to be met and thus executing our business plan as anticipated¡¨ stated jan olivier ceo of yap international inc about the company yap international inc is a multi nationa internet communications company deve oping cost effective telecommunications through voice over internet protoco voip technologies the company ho ds the exc usive rights to a revo utionary voip product line cal ed nomad systbarry tycholizs that has dial up broadband dsl cab e sate ite and wire ess capabilities the company p ans on targeting escapenumber nationa fixed line ii iii tier carriers which are interested in effective y competing with the dominant carrier in their marketplace escapenumber large mu tinationa corporations which need to have us or european presence by having for example a united states number ringing in their offices in guatbarry tycholiza a or london offering business partners a more economical way to communicate and escapenumber immigrants in north america a means of significantly owering their communication expense with their re atives in their country of origin the company is headquartered in las vegas with administrative offices in vancouver and sa es offices in los ange es san francisco and newport beach california conclusion the examp es above show the awesome earning potentia of little known companies that explode onto investor's radar screens many of you are already familiar with this is ypil poised and positioned to do that for you then you may fee the time has come to act and please watch this one trade monday go ypil penny stocks are considered highly speculative and may be unsuitab e for all but very aggressive investors this profi e is not in any way affi iated with the featured company we were compensated escapelong dollars to distribute this report this report is for entertainment and advertising purposes only and shou d not be used as investment advice if you wish to stop future mai ings or if you feel you have been wrongfu ly placed in our mbarry tycholizbership p ease go here or send a blank e mai with no thanks in the subject to noneedescapenumber yahoo com"
        ],
        [
         "4",
         "0",
         "hi theresa know anything two entries hit co escapenumberk buying escapenumber escapenumber escapenumber mms escapenumber escapenumber production period sept oct escapenumber appear coming unify see could please let know soon possible thanks chris price enron north america business analysis reporting phone escapenumber escapenumber escapenumber fax escapenumber escapenumber escapenumber"
        ]
       ],
       "shape": {
        "columns": 2,
        "rows": 5
       }
      },
      "text/html": [
       "<div>\n",
       "<style scoped>\n",
       "    .dataframe tbody tr th:only-of-type {\n",
       "        vertical-align: middle;\n",
       "    }\n",
       "\n",
       "    .dataframe tbody tr th {\n",
       "        vertical-align: top;\n",
       "    }\n",
       "\n",
       "    .dataframe thead th {\n",
       "        text-align: right;\n",
       "    }\n",
       "</style>\n",
       "<table border=\"1\" class=\"dataframe\">\n",
       "  <thead>\n",
       "    <tr style=\"text-align: right;\">\n",
       "      <th></th>\n",
       "      <th>category</th>\n",
       "      <th>email</th>\n",
       "    </tr>\n",
       "  </thead>\n",
       "  <tbody>\n",
       "    <tr>\n",
       "      <th>0</th>\n",
       "      <td>1</td>\n",
       "      <td>bescapenumber descapenumber bescapenumber besc...</td>\n",
       "    </tr>\n",
       "    <tr>\n",
       "      <th>1</th>\n",
       "      <td>0</td>\n",
       "      <td>wrong aggie the key word is man dammit little ...</td>\n",
       "    </tr>\n",
       "    <tr>\n",
       "      <th>2</th>\n",
       "      <td>0</td>\n",
       "      <td>hello mark great article months corporate lega...</td>\n",
       "    </tr>\n",
       "    <tr>\n",
       "      <th>3</th>\n",
       "      <td>1</td>\n",
       "      <td>yap international inc ypil voip technology req...</td>\n",
       "    </tr>\n",
       "    <tr>\n",
       "      <th>4</th>\n",
       "      <td>0</td>\n",
       "      <td>hi theresa know anything two entries hit co es...</td>\n",
       "    </tr>\n",
       "  </tbody>\n",
       "</table>\n",
       "</div>"
      ],
      "text/plain": [
       "   category                                              email\n",
       "0         1  bescapenumber descapenumber bescapenumber besc...\n",
       "1         0  wrong aggie the key word is man dammit little ...\n",
       "2         0  hello mark great article months corporate lega...\n",
       "3         1  yap international inc ypil voip technology req...\n",
       "4         0  hi theresa know anything two entries hit co es..."
      ]
     },
     "execution_count": 44,
     "metadata": {},
     "output_type": "execute_result"
    }
   ],
   "source": [
    "df['category'] = encoder.fit_transform(df['category'])\n",
    "df.head()"
   ]
  },
  {
   "cell_type": "code",
   "execution_count": 45,
   "id": "82b319df",
   "metadata": {},
   "outputs": [
    {
     "data": {
      "application/vnd.microsoft.datawrangler.viewer.v0+json": {
       "columns": [
        {
         "name": "index",
         "rawType": "object",
         "type": "string"
        },
        {
         "name": "0",
         "rawType": "int64",
         "type": "integer"
        }
       ],
       "ref": "ab4c43ff-5903-4a35-b6c6-340abc52dcb8",
       "rows": [
        [
         "category",
         "0"
        ],
        [
         "email",
         "0"
        ]
       ],
       "shape": {
        "columns": 1,
        "rows": 2
       }
      },
      "text/plain": [
       "category    0\n",
       "email       0\n",
       "dtype: int64"
      ]
     },
     "execution_count": 45,
     "metadata": {},
     "output_type": "execute_result"
    }
   ],
   "source": [
    "# check for missing values\n",
    "df.isnull().sum()"
   ]
  },
  {
   "cell_type": "code",
   "execution_count": 46,
   "id": "99b3cf0a",
   "metadata": {},
   "outputs": [
    {
     "data": {
      "text/plain": [
       "np.int64(0)"
      ]
     },
     "execution_count": 46,
     "metadata": {},
     "output_type": "execute_result"
    }
   ],
   "source": [
    "# check for duplicate values\n",
    "df.duplicated().sum()"
   ]
  },
  {
   "cell_type": "code",
   "execution_count": 47,
   "id": "8976cc30",
   "metadata": {},
   "outputs": [
    {
     "data": {
      "text/plain": [
       "(8000, 2)"
      ]
     },
     "execution_count": 47,
     "metadata": {},
     "output_type": "execute_result"
    }
   ],
   "source": [
    "df.shape"
   ]
  },
  {
   "cell_type": "markdown",
   "id": "3ee83d3c",
   "metadata": {},
   "source": [
    "# EDA"
   ]
  },
  {
   "cell_type": "code",
   "execution_count": 48,
   "id": "6b2d46f4",
   "metadata": {},
   "outputs": [
    {
     "data": {
      "application/vnd.microsoft.datawrangler.viewer.v0+json": {
       "columns": [
        {
         "name": "index",
         "rawType": "int64",
         "type": "integer"
        },
        {
         "name": "category",
         "rawType": "int64",
         "type": "integer"
        },
        {
         "name": "email",
         "rawType": "object",
         "type": "string"
        }
       ],
       "ref": "6c64c292-a479-4a02-96ac-c1432db36520",
       "rows": [
        [
         "0",
         "1",
         "bescapenumber descapenumber bescapenumber bescapenumber cescapenumber cc ca ba bescapenumber cescapenumber cc bd cescapenumber bescapenumber eescapenumber cescapenumber bescapenumber aescapenumber cescapenumber cc bescapenumber cc cescapenumber fescapenumber ba bescapenumber bescapenumber eescapenumber bescapenumber aescapenumber bescapenumber aescapenumber bescapenumber aescapenumber bd cescapenumber bescapenumber eescapenumber cescapenumber da bc bc cescapenumber descapenumber bescapenumber bb bf eb cescapenumber bb ba bescapenumber bd cescapenumber bc fescapenumber cescapenumber descapenumber bd cescapenumber bescapenumber cf bescapenumber descapenumber aescapenumber aescapenumber aescapenumber aescapenumber aescapenumber aescapenumber aescapenumber cb aescapenumber cb aescapenumber aescapenumber aescapenumber aescapenumber aescapenumber aescapenumber aescapenumber cb aescapenumber cb aescapenumber aescapenumber aescapenumber aescapenumber aescapenumber aescapenumber aescapenumber cb aescapenumber cb aescapenumber aescapenumber aescapenumber aescapenumber aescapenumber aescapenumber aescapenumber cb aescapenumber cb aescapenumber aescapenumber aescapenumber aescapenumber aescapenumber aescapenumber aescapenumber cb aescapenumber cb aescapenumber aescapenumber aescapenumber aescapenumber aescapenumber cb aescapenumber cb aescapenumber cb aescapenumber cb aescapenumber aescapenumber aescapenumber aescapenumber aescapenumber aescapenumber aescapenumber cb aescapenumber cb aescapenumber aescapenumber aescapenumber aescapenumber aescapenumber aescapenumber aescapenumber cb"
        ],
        [
         "1",
         "0",
         "wrong aggie the key word is man dammit little or big it's raining them i just stepped in a puddle of man hallelujah original message from brad corrier sent thursday october escapenumber escapenumber escapenumber escapenumber am to chad knipe erik wollam chet fenner c r zander att net joe parks brian constantine lawfeder msn com subject re no man night i think the key word is little original message from chad knipe to erik wollam brad corrier chet fenner c r zander att net joe parks brian constantine lawfeder msn com sent wednesday october escapenumber escapenumber escapenumber escapenumber pm subject re no man night just me and my little man touch him original message from erik wollam sent wednesday october escapenumber escapenumber escapenumber escapenumber am to bcorrier cox internet com knipeescapenumber msn com chet fenner bmc com c r zander att net joe parks enron com brianc saltgrass com lawfeder msn com subject no man night i had suggested man night for escapenumber escapenumber not going to happen form me sheila in boston eva out this week i'm on my own with my little men chad in same situation with stormy out of town try again later e get your free download of msn explorer at"
        ],
        [
         "2",
         "0",
         "hello mark great article months corporate legal times enron legal department know wholesale group critical company role critical success legal department thanks looking milbank pg e ebs year among things order review ought better service group would like arrange meeting convenience suggest dates escapenumber escapenumber escapenumber escapenumber escapenumber escapenumber escapenumber escapenumber work lunch afternoon meeting hope hear soon regards ed feo milbank tweed hadley mccloy llp escapenumber south figueroa street escapenumberth floor los angeles ca escapenumber phone escapenumber escapenumber escapenumber fax escapenumber escapenumber escapenumber cell escapenumber escapenumber escapenumber e mail message may contain legally privileged confidential information intended recipient employee agent responsible delivery message intended recipient hereby notified dissemination distribution copying e mail message strictly prohibited received message error please immediately notify sender delete e mail message computer"
        ],
        [
         "3",
         "1",
         "yap international inc ypil voip technology requires no computer or high speed internet connection for its dia up product current price escapenumber watch this stock monday some of these little voip stocks have been rea ly moving late y and when some of thbarry tycholiz move they real y go gains of escapenumber escapenumberoo or more are not unheard of break news yap international inc identified another voip techno ogy provider that the company intends to market and sel under the nomad product name under the new plan the company wil market escapenumber voip ata devices each addressing a specific and unique portion of the g obal marketp ace each device works with either a dial up or a broadband connection and are ideal y suited not on y in north america but in deve oping nations arescapenumberund the wescapenumberrld where broadband penetration is limited or non existent the new my nomad product offering wi escapenumberffer video conferencing capabilities ca l forwarding ca waiting voice mail and a globa virtual number also included in the new offering is a residentia standalone device that does not require a computer a usb ata device that requires no external power and works perfect y with any ana og handset or pbx systbarry tycholiz a usb assistant that adds enhanced call forwarding to any cel phone or regular phone with rbarry tycholizote dial out ce lu ar bridging capability a sleek voip enab ed fu l featured lan phone with lcd display caller id and web interface a residential or business stand a one voip gateway that has bui t in nat router and firewa l enhanced call forwarding cal block and rbarry tycholizote dia out ce ular bridging and a standa one voip gateway pbx router with four ports for medium size businesses in addition escapenumber voip enabled phones wil be added to the product ine each voip enab ed handset has the abi ity to uti ize either a dia up or broadband connection inc uded in the voip handset offering is a wifi phone including a usb cord ess phone for home or office each sip based product requires a minimum of escapenumber kbps and utilizes only escapenumber escapenumber of a escapelong mhz escapenumber mb computer's resources and is not subject to de ay or jitter in direct comparison skype requires a minimum of escapenumber escapenumber of a escapenumbero mhz escapenumber mb computers resources and is subject to de ay and jitter due to end users computer being used as a proxy server on the network managbarry tycholizent be ieves this to be one of the most complete and techno ogically advanced line of voip products currently avai ab e in the world our agrebarry tycholizent with securities trading services inc and the deve opments of the past months leaves us with too s necessary to commercia ize and market our products on a globa sca e we expect our mi estones to be met and thus executing our business plan as anticipated¡¨ stated jan olivier ceo of yap international inc about the company yap international inc is a multi nationa internet communications company deve oping cost effective telecommunications through voice over internet protoco voip technologies the company ho ds the exc usive rights to a revo utionary voip product line cal ed nomad systbarry tycholizs that has dial up broadband dsl cab e sate ite and wire ess capabilities the company p ans on targeting escapenumber nationa fixed line ii iii tier carriers which are interested in effective y competing with the dominant carrier in their marketplace escapenumber large mu tinationa corporations which need to have us or european presence by having for example a united states number ringing in their offices in guatbarry tycholiza a or london offering business partners a more economical way to communicate and escapenumber immigrants in north america a means of significantly owering their communication expense with their re atives in their country of origin the company is headquartered in las vegas with administrative offices in vancouver and sa es offices in los ange es san francisco and newport beach california conclusion the examp es above show the awesome earning potentia of little known companies that explode onto investor's radar screens many of you are already familiar with this is ypil poised and positioned to do that for you then you may fee the time has come to act and please watch this one trade monday go ypil penny stocks are considered highly speculative and may be unsuitab e for all but very aggressive investors this profi e is not in any way affi iated with the featured company we were compensated escapelong dollars to distribute this report this report is for entertainment and advertising purposes only and shou d not be used as investment advice if you wish to stop future mai ings or if you feel you have been wrongfu ly placed in our mbarry tycholizbership p ease go here or send a blank e mai with no thanks in the subject to noneedescapenumber yahoo com"
        ],
        [
         "4",
         "0",
         "hi theresa know anything two entries hit co escapenumberk buying escapenumber escapenumber escapenumber mms escapenumber escapenumber production period sept oct escapenumber appear coming unify see could please let know soon possible thanks chris price enron north america business analysis reporting phone escapenumber escapenumber escapenumber fax escapenumber escapenumber escapenumber"
        ]
       ],
       "shape": {
        "columns": 2,
        "rows": 5
       }
      },
      "text/html": [
       "<div>\n",
       "<style scoped>\n",
       "    .dataframe tbody tr th:only-of-type {\n",
       "        vertical-align: middle;\n",
       "    }\n",
       "\n",
       "    .dataframe tbody tr th {\n",
       "        vertical-align: top;\n",
       "    }\n",
       "\n",
       "    .dataframe thead th {\n",
       "        text-align: right;\n",
       "    }\n",
       "</style>\n",
       "<table border=\"1\" class=\"dataframe\">\n",
       "  <thead>\n",
       "    <tr style=\"text-align: right;\">\n",
       "      <th></th>\n",
       "      <th>category</th>\n",
       "      <th>email</th>\n",
       "    </tr>\n",
       "  </thead>\n",
       "  <tbody>\n",
       "    <tr>\n",
       "      <th>0</th>\n",
       "      <td>1</td>\n",
       "      <td>bescapenumber descapenumber bescapenumber besc...</td>\n",
       "    </tr>\n",
       "    <tr>\n",
       "      <th>1</th>\n",
       "      <td>0</td>\n",
       "      <td>wrong aggie the key word is man dammit little ...</td>\n",
       "    </tr>\n",
       "    <tr>\n",
       "      <th>2</th>\n",
       "      <td>0</td>\n",
       "      <td>hello mark great article months corporate lega...</td>\n",
       "    </tr>\n",
       "    <tr>\n",
       "      <th>3</th>\n",
       "      <td>1</td>\n",
       "      <td>yap international inc ypil voip technology req...</td>\n",
       "    </tr>\n",
       "    <tr>\n",
       "      <th>4</th>\n",
       "      <td>0</td>\n",
       "      <td>hi theresa know anything two entries hit co es...</td>\n",
       "    </tr>\n",
       "  </tbody>\n",
       "</table>\n",
       "</div>"
      ],
      "text/plain": [
       "   category                                              email\n",
       "0         1  bescapenumber descapenumber bescapenumber besc...\n",
       "1         0  wrong aggie the key word is man dammit little ...\n",
       "2         0  hello mark great article months corporate lega...\n",
       "3         1  yap international inc ypil voip technology req...\n",
       "4         0  hi theresa know anything two entries hit co es..."
      ]
     },
     "execution_count": 48,
     "metadata": {},
     "output_type": "execute_result"
    }
   ],
   "source": [
    "df.head()"
   ]
  },
  {
   "cell_type": "code",
   "execution_count": 49,
   "id": "83415468",
   "metadata": {},
   "outputs": [
    {
     "data": {
      "application/vnd.microsoft.datawrangler.viewer.v0+json": {
       "columns": [
        {
         "name": "category",
         "rawType": "int64",
         "type": "integer"
        },
        {
         "name": "count",
         "rawType": "int64",
         "type": "integer"
        }
       ],
       "ref": "931c49c0-cda0-40b5-8c9f-83160fbe646e",
       "rows": [
        [
         "1",
         "4000"
        ],
        [
         "0",
         "4000"
        ]
       ],
       "shape": {
        "columns": 1,
        "rows": 2
       }
      },
      "text/plain": [
       "category\n",
       "1    4000\n",
       "0    4000\n",
       "Name: count, dtype: int64"
      ]
     },
     "execution_count": 49,
     "metadata": {},
     "output_type": "execute_result"
    }
   ],
   "source": [
    "df['category'].value_counts()"
   ]
  },
  {
   "cell_type": "code",
   "execution_count": 50,
   "id": "440ef2a5",
   "metadata": {},
   "outputs": [
    {
     "data": {
      "image/png": "[encoded data removed]",
      "text/plain": [
       "<Figure size 640x480 with 1 Axes>"
      ]
     },
     "metadata": {},
     "output_type": "display_data"
    }
   ],
   "source": [
    "import matplotlib.pyplot as plt\n",
    "\n",
    "plt.pie(df['category'].value_counts(),labels=['ham','spam'],autopct='%0.2f')\n",
    "plt.show()"
   ]
  },
  {
   "cell_type": "markdown",
   "id": "92dc517e",
   "metadata": {},
   "source": [
    "* Data is balanced"
   ]
  },
  {
   "cell_type": "code",
   "execution_count": 51,
   "id": "0b50790a",
   "metadata": {},
   "outputs": [
    {
     "name": "stderr",
     "output_type": "stream",
     "text": [
      "[nltk_data] Downloading package punkt to\n",
      "[nltk_data]     C:\\Users\\hp\\AppData\\Roaming\\nltk_data...\n",
      "[nltk_data]   Package punkt is already up-to-date!\n",
      "[nltk_data] Downloading package punkt_tab to\n",
      "[nltk_data]     C:\\Users\\hp\\AppData\\Roaming\\nltk_data...\n",
      "[nltk_data]   Package punkt_tab is already up-to-date!\n"
     ]
    },
    {
     "data": {
      "text/plain": [
       "True"
      ]
     },
     "execution_count": 51,
     "metadata": {},
     "output_type": "execute_result"
    }
   ],
   "source": [
    "import nltk\n",
    "nltk.download('punkt')\n",
    "nltk.download('punkt_tab')"
   ]
  },
  {
   "cell_type": "code",
   "execution_count": 52,
   "id": "dbc557dc",
   "metadata": {},
   "outputs": [
    {
     "data": {
      "application/vnd.microsoft.datawrangler.viewer.v0+json": {
       "columns": [
        {
         "name": "index",
         "rawType": "int64",
         "type": "integer"
        },
        {
         "name": "category",
         "rawType": "int64",
         "type": "integer"
        },
        {
         "name": "email",
         "rawType": "object",
         "type": "string"
        },
        {
         "name": "char_count",
         "rawType": "int64",
         "type": "integer"
        }
       ],
       "ref": "a8f067f7-22c5-4c6b-95eb-469b24589d48",
       "rows": [
        [
         "0",
         "1",
         "bescapenumber descapenumber bescapenumber bescapenumber cescapenumber cc ca ba bescapenumber cescapenumber cc bd cescapenumber bescapenumber eescapenumber cescapenumber bescapenumber aescapenumber cescapenumber cc bescapenumber cc cescapenumber fescapenumber ba bescapenumber bescapenumber eescapenumber bescapenumber aescapenumber bescapenumber aescapenumber bescapenumber aescapenumber bd cescapenumber bescapenumber eescapenumber cescapenumber da bc bc cescapenumber descapenumber bescapenumber bb bf eb cescapenumber bb ba bescapenumber bd cescapenumber bc fescapenumber cescapenumber descapenumber bd cescapenumber bescapenumber cf bescapenumber descapenumber aescapenumber aescapenumber aescapenumber aescapenumber aescapenumber aescapenumber aescapenumber cb aescapenumber cb aescapenumber aescapenumber aescapenumber aescapenumber aescapenumber aescapenumber aescapenumber cb aescapenumber cb aescapenumber aescapenumber aescapenumber aescapenumber aescapenumber aescapenumber aescapenumber cb aescapenumber cb aescapenumber aescapenumber aescapenumber aescapenumber aescapenumber aescapenumber aescapenumber cb aescapenumber cb aescapenumber aescapenumber aescapenumber aescapenumber aescapenumber aescapenumber aescapenumber cb aescapenumber cb aescapenumber aescapenumber aescapenumber aescapenumber aescapenumber cb aescapenumber cb aescapenumber cb aescapenumber cb aescapenumber aescapenumber aescapenumber aescapenumber aescapenumber aescapenumber aescapenumber cb aescapenumber cb aescapenumber aescapenumber aescapenumber aescapenumber aescapenumber aescapenumber aescapenumber cb",
         "1597"
        ],
        [
         "1",
         "0",
         "wrong aggie the key word is man dammit little or big it's raining them i just stepped in a puddle of man hallelujah original message from brad corrier sent thursday october escapenumber escapenumber escapenumber escapenumber am to chad knipe erik wollam chet fenner c r zander att net joe parks brian constantine lawfeder msn com subject re no man night i think the key word is little original message from chad knipe to erik wollam brad corrier chet fenner c r zander att net joe parks brian constantine lawfeder msn com sent wednesday october escapenumber escapenumber escapenumber escapenumber pm subject re no man night just me and my little man touch him original message from erik wollam sent wednesday october escapenumber escapenumber escapenumber escapenumber am to bcorrier cox internet com knipeescapenumber msn com chet fenner bmc com c r zander att net joe parks enron com brianc saltgrass com lawfeder msn com subject no man night i had suggested man night for escapenumber escapenumber not going to happen form me sheila in boston eva out this week i'm on my own with my little men chad in same situation with stormy out of town try again later e get your free download of msn explorer at",
         "1203"
        ],
        [
         "2",
         "0",
         "hello mark great article months corporate legal times enron legal department know wholesale group critical company role critical success legal department thanks looking milbank pg e ebs year among things order review ought better service group would like arrange meeting convenience suggest dates escapenumber escapenumber escapenumber escapenumber escapenumber escapenumber escapenumber escapenumber work lunch afternoon meeting hope hear soon regards ed feo milbank tweed hadley mccloy llp escapenumber south figueroa street escapenumberth floor los angeles ca escapenumber phone escapenumber escapenumber escapenumber fax escapenumber escapenumber escapenumber cell escapenumber escapenumber escapenumber e mail message may contain legally privileged confidential information intended recipient employee agent responsible delivery message intended recipient hereby notified dissemination distribution copying e mail message strictly prohibited received message error please immediately notify sender delete e mail message computer",
         "1033"
        ],
        [
         "3",
         "1",
         "yap international inc ypil voip technology requires no computer or high speed internet connection for its dia up product current price escapenumber watch this stock monday some of these little voip stocks have been rea ly moving late y and when some of thbarry tycholiz move they real y go gains of escapenumber escapenumberoo or more are not unheard of break news yap international inc identified another voip techno ogy provider that the company intends to market and sel under the nomad product name under the new plan the company wil market escapenumber voip ata devices each addressing a specific and unique portion of the g obal marketp ace each device works with either a dial up or a broadband connection and are ideal y suited not on y in north america but in deve oping nations arescapenumberund the wescapenumberrld where broadband penetration is limited or non existent the new my nomad product offering wi escapenumberffer video conferencing capabilities ca l forwarding ca waiting voice mail and a globa virtual number also included in the new offering is a residentia standalone device that does not require a computer a usb ata device that requires no external power and works perfect y with any ana og handset or pbx systbarry tycholiz a usb assistant that adds enhanced call forwarding to any cel phone or regular phone with rbarry tycholizote dial out ce lu ar bridging capability a sleek voip enab ed fu l featured lan phone with lcd display caller id and web interface a residential or business stand a one voip gateway that has bui t in nat router and firewa l enhanced call forwarding cal block and rbarry tycholizote dia out ce ular bridging and a standa one voip gateway pbx router with four ports for medium size businesses in addition escapenumber voip enabled phones wil be added to the product ine each voip enab ed handset has the abi ity to uti ize either a dia up or broadband connection inc uded in the voip handset offering is a wifi phone including a usb cord ess phone for home or office each sip based product requires a minimum of escapenumber kbps and utilizes only escapenumber escapenumber of a escapelong mhz escapenumber mb computer's resources and is not subject to de ay or jitter in direct comparison skype requires a minimum of escapenumber escapenumber of a escapenumbero mhz escapenumber mb computers resources and is subject to de ay and jitter due to end users computer being used as a proxy server on the network managbarry tycholizent be ieves this to be one of the most complete and techno ogically advanced line of voip products currently avai ab e in the world our agrebarry tycholizent with securities trading services inc and the deve opments of the past months leaves us with too s necessary to commercia ize and market our products on a globa sca e we expect our mi estones to be met and thus executing our business plan as anticipated¡¨ stated jan olivier ceo of yap international inc about the company yap international inc is a multi nationa internet communications company deve oping cost effective telecommunications through voice over internet protoco voip technologies the company ho ds the exc usive rights to a revo utionary voip product line cal ed nomad systbarry tycholizs that has dial up broadband dsl cab e sate ite and wire ess capabilities the company p ans on targeting escapenumber nationa fixed line ii iii tier carriers which are interested in effective y competing with the dominant carrier in their marketplace escapenumber large mu tinationa corporations which need to have us or european presence by having for example a united states number ringing in their offices in guatbarry tycholiza a or london offering business partners a more economical way to communicate and escapenumber immigrants in north america a means of significantly owering their communication expense with their re atives in their country of origin the company is headquartered in las vegas with administrative offices in vancouver and sa es offices in los ange es san francisco and newport beach california conclusion the examp es above show the awesome earning potentia of little known companies that explode onto investor's radar screens many of you are already familiar with this is ypil poised and positioned to do that for you then you may fee the time has come to act and please watch this one trade monday go ypil penny stocks are considered highly speculative and may be unsuitab e for all but very aggressive investors this profi e is not in any way affi iated with the featured company we were compensated escapelong dollars to distribute this report this report is for entertainment and advertising purposes only and shou d not be used as investment advice if you wish to stop future mai ings or if you feel you have been wrongfu ly placed in our mbarry tycholizbership p ease go here or send a blank e mai with no thanks in the subject to noneedescapenumber yahoo com",
         "4936"
        ],
        [
         "4",
         "0",
         "hi theresa know anything two entries hit co escapenumberk buying escapenumber escapenumber escapenumber mms escapenumber escapenumber production period sept oct escapenumber appear coming unify see could please let know soon possible thanks chris price enron north america business analysis reporting phone escapenumber escapenumber escapenumber fax escapenumber escapenumber escapenumber",
         "388"
        ]
       ],
       "shape": {
        "columns": 3,
        "rows": 5
       }
      },
      "text/html": [
       "<div>\n",
       "<style scoped>\n",
       "    .dataframe tbody tr th:only-of-type {\n",
       "        vertical-align: middle;\n",
       "    }\n",
       "\n",
       "    .dataframe tbody tr th {\n",
       "        vertical-align: top;\n",
       "    }\n",
       "\n",
       "    .dataframe thead th {\n",
       "        text-align: right;\n",
       "    }\n",
       "</style>\n",
       "<table border=\"1\" class=\"dataframe\">\n",
       "  <thead>\n",
       "    <tr style=\"text-align: right;\">\n",
       "      <th></th>\n",
       "      <th>category</th>\n",
       "      <th>email</th>\n",
       "      <th>char_count</th>\n",
       "    </tr>\n",
       "  </thead>\n",
       "  <tbody>\n",
       "    <tr>\n",
       "      <th>0</th>\n",
       "      <td>1</td>\n",
       "      <td>bescapenumber descapenumber bescapenumber besc...</td>\n",
       "      <td>1597</td>\n",
       "    </tr>\n",
       "    <tr>\n",
       "      <th>1</th>\n",
       "      <td>0</td>\n",
       "      <td>wrong aggie the key word is man dammit little ...</td>\n",
       "      <td>1203</td>\n",
       "    </tr>\n",
       "    <tr>\n",
       "      <th>2</th>\n",
       "      <td>0</td>\n",
       "      <td>hello mark great article months corporate lega...</td>\n",
       "      <td>1033</td>\n",
       "    </tr>\n",
       "    <tr>\n",
       "      <th>3</th>\n",
       "      <td>1</td>\n",
       "      <td>yap international inc ypil voip technology req...</td>\n",
       "      <td>4936</td>\n",
       "    </tr>\n",
       "    <tr>\n",
       "      <th>4</th>\n",
       "      <td>0</td>\n",
       "      <td>hi theresa know anything two entries hit co es...</td>\n",
       "      <td>388</td>\n",
       "    </tr>\n",
       "  </tbody>\n",
       "</table>\n",
       "</div>"
      ],
      "text/plain": [
       "   category                                              email  char_count\n",
       "0         1  bescapenumber descapenumber bescapenumber besc...        1597\n",
       "1         0  wrong aggie the key word is man dammit little ...        1203\n",
       "2         0  hello mark great article months corporate lega...        1033\n",
       "3         1  yap international inc ypil voip technology req...        4936\n",
       "4         0  hi theresa know anything two entries hit co es...         388"
      ]
     },
     "execution_count": 52,
     "metadata": {},
     "output_type": "execute_result"
    }
   ],
   "source": [
    "df['char_count'] = df['email'].apply(len)\n",
    "df.head()"
   ]
  },
  {
   "cell_type": "code",
   "execution_count": 53,
   "id": "c0bf4aac",
   "metadata": {},
   "outputs": [
    {
     "data": {
      "application/vnd.microsoft.datawrangler.viewer.v0+json": {
       "columns": [
        {
         "name": "index",
         "rawType": "int64",
         "type": "integer"
        },
        {
         "name": "category",
         "rawType": "int64",
         "type": "integer"
        },
        {
         "name": "email",
         "rawType": "object",
         "type": "string"
        },
        {
         "name": "char_count",
         "rawType": "int64",
         "type": "integer"
        },
        {
         "name": "word_count",
         "rawType": "int64",
         "type": "integer"
        }
       ],
       "ref": "8bddfb9c-3f6f-4ac6-94cb-d6228aff1f84",
       "rows": [
        [
         "0",
         "1",
         "bescapenumber descapenumber bescapenumber bescapenumber cescapenumber cc ca ba bescapenumber cescapenumber cc bd cescapenumber bescapenumber eescapenumber cescapenumber bescapenumber aescapenumber cescapenumber cc bescapenumber cc cescapenumber fescapenumber ba bescapenumber bescapenumber eescapenumber bescapenumber aescapenumber bescapenumber aescapenumber bescapenumber aescapenumber bd cescapenumber bescapenumber eescapenumber cescapenumber da bc bc cescapenumber descapenumber bescapenumber bb bf eb cescapenumber bb ba bescapenumber bd cescapenumber bc fescapenumber cescapenumber descapenumber bd cescapenumber bescapenumber cf bescapenumber descapenumber aescapenumber aescapenumber aescapenumber aescapenumber aescapenumber aescapenumber aescapenumber cb aescapenumber cb aescapenumber aescapenumber aescapenumber aescapenumber aescapenumber aescapenumber aescapenumber cb aescapenumber cb aescapenumber aescapenumber aescapenumber aescapenumber aescapenumber aescapenumber aescapenumber cb aescapenumber cb aescapenumber aescapenumber aescapenumber aescapenumber aescapenumber aescapenumber aescapenumber cb aescapenumber cb aescapenumber aescapenumber aescapenumber aescapenumber aescapenumber aescapenumber aescapenumber cb aescapenumber cb aescapenumber aescapenumber aescapenumber aescapenumber aescapenumber cb aescapenumber cb aescapenumber cb aescapenumber cb aescapenumber aescapenumber aescapenumber aescapenumber aescapenumber aescapenumber aescapenumber cb aescapenumber cb aescapenumber aescapenumber aescapenumber aescapenumber aescapenumber aescapenumber aescapenumber cb",
         "1597",
         "144"
        ],
        [
         "1",
         "0",
         "wrong aggie the key word is man dammit little or big it's raining them i just stepped in a puddle of man hallelujah original message from brad corrier sent thursday october escapenumber escapenumber escapenumber escapenumber am to chad knipe erik wollam chet fenner c r zander att net joe parks brian constantine lawfeder msn com subject re no man night i think the key word is little original message from chad knipe to erik wollam brad corrier chet fenner c r zander att net joe parks brian constantine lawfeder msn com sent wednesday october escapenumber escapenumber escapenumber escapenumber pm subject re no man night just me and my little man touch him original message from erik wollam sent wednesday october escapenumber escapenumber escapenumber escapenumber am to bcorrier cox internet com knipeescapenumber msn com chet fenner bmc com c r zander att net joe parks enron com brianc saltgrass com lawfeder msn com subject no man night i had suggested man night for escapenumber escapenumber not going to happen form me sheila in boston eva out this week i'm on my own with my little men chad in same situation with stormy out of town try again later e get your free download of msn explorer at",
         "1203",
         "208"
        ],
        [
         "2",
         "0",
         "hello mark great article months corporate legal times enron legal department know wholesale group critical company role critical success legal department thanks looking milbank pg e ebs year among things order review ought better service group would like arrange meeting convenience suggest dates escapenumber escapenumber escapenumber escapenumber escapenumber escapenumber escapenumber escapenumber work lunch afternoon meeting hope hear soon regards ed feo milbank tweed hadley mccloy llp escapenumber south figueroa street escapenumberth floor los angeles ca escapenumber phone escapenumber escapenumber escapenumber fax escapenumber escapenumber escapenumber cell escapenumber escapenumber escapenumber e mail message may contain legally privileged confidential information intended recipient employee agent responsible delivery message intended recipient hereby notified dissemination distribution copying e mail message strictly prohibited received message error please immediately notify sender delete e mail message computer",
         "1033",
         "128"
        ],
        [
         "3",
         "1",
         "yap international inc ypil voip technology requires no computer or high speed internet connection for its dia up product current price escapenumber watch this stock monday some of these little voip stocks have been rea ly moving late y and when some of thbarry tycholiz move they real y go gains of escapenumber escapenumberoo or more are not unheard of break news yap international inc identified another voip techno ogy provider that the company intends to market and sel under the nomad product name under the new plan the company wil market escapenumber voip ata devices each addressing a specific and unique portion of the g obal marketp ace each device works with either a dial up or a broadband connection and are ideal y suited not on y in north america but in deve oping nations arescapenumberund the wescapenumberrld where broadband penetration is limited or non existent the new my nomad product offering wi escapenumberffer video conferencing capabilities ca l forwarding ca waiting voice mail and a globa virtual number also included in the new offering is a residentia standalone device that does not require a computer a usb ata device that requires no external power and works perfect y with any ana og handset or pbx systbarry tycholiz a usb assistant that adds enhanced call forwarding to any cel phone or regular phone with rbarry tycholizote dial out ce lu ar bridging capability a sleek voip enab ed fu l featured lan phone with lcd display caller id and web interface a residential or business stand a one voip gateway that has bui t in nat router and firewa l enhanced call forwarding cal block and rbarry tycholizote dia out ce ular bridging and a standa one voip gateway pbx router with four ports for medium size businesses in addition escapenumber voip enabled phones wil be added to the product ine each voip enab ed handset has the abi ity to uti ize either a dia up or broadband connection inc uded in the voip handset offering is a wifi phone including a usb cord ess phone for home or office each sip based product requires a minimum of escapenumber kbps and utilizes only escapenumber escapenumber of a escapelong mhz escapenumber mb computer's resources and is not subject to de ay or jitter in direct comparison skype requires a minimum of escapenumber escapenumber of a escapenumbero mhz escapenumber mb computers resources and is subject to de ay and jitter due to end users computer being used as a proxy server on the network managbarry tycholizent be ieves this to be one of the most complete and techno ogically advanced line of voip products currently avai ab e in the world our agrebarry tycholizent with securities trading services inc and the deve opments of the past months leaves us with too s necessary to commercia ize and market our products on a globa sca e we expect our mi estones to be met and thus executing our business plan as anticipated¡¨ stated jan olivier ceo of yap international inc about the company yap international inc is a multi nationa internet communications company deve oping cost effective telecommunications through voice over internet protoco voip technologies the company ho ds the exc usive rights to a revo utionary voip product line cal ed nomad systbarry tycholizs that has dial up broadband dsl cab e sate ite and wire ess capabilities the company p ans on targeting escapenumber nationa fixed line ii iii tier carriers which are interested in effective y competing with the dominant carrier in their marketplace escapenumber large mu tinationa corporations which need to have us or european presence by having for example a united states number ringing in their offices in guatbarry tycholiza a or london offering business partners a more economical way to communicate and escapenumber immigrants in north america a means of significantly owering their communication expense with their re atives in their country of origin the company is headquartered in las vegas with administrative offices in vancouver and sa es offices in los ange es san francisco and newport beach california conclusion the examp es above show the awesome earning potentia of little known companies that explode onto investor's radar screens many of you are already familiar with this is ypil poised and positioned to do that for you then you may fee the time has come to act and please watch this one trade monday go ypil penny stocks are considered highly speculative and may be unsuitab e for all but very aggressive investors this profi e is not in any way affi iated with the featured company we were compensated escapelong dollars to distribute this report this report is for entertainment and advertising purposes only and shou d not be used as investment advice if you wish to stop future mai ings or if you feel you have been wrongfu ly placed in our mbarry tycholizbership p ease go here or send a blank e mai with no thanks in the subject to noneedescapenumber yahoo com",
         "4936",
         "845"
        ],
        [
         "4",
         "0",
         "hi theresa know anything two entries hit co escapenumberk buying escapenumber escapenumber escapenumber mms escapenumber escapenumber production period sept oct escapenumber appear coming unify see could please let know soon possible thanks chris price enron north america business analysis reporting phone escapenumber escapenumber escapenumber fax escapenumber escapenumber escapenumber",
         "388",
         "48"
        ]
       ],
       "shape": {
        "columns": 4,
        "rows": 5
       }
      },
      "text/html": [
       "<div>\n",
       "<style scoped>\n",
       "    .dataframe tbody tr th:only-of-type {\n",
       "        vertical-align: middle;\n",
       "    }\n",
       "\n",
       "    .dataframe tbody tr th {\n",
       "        vertical-align: top;\n",
       "    }\n",
       "\n",
       "    .dataframe thead th {\n",
       "        text-align: right;\n",
       "    }\n",
       "</style>\n",
       "<table border=\"1\" class=\"dataframe\">\n",
       "  <thead>\n",
       "    <tr style=\"text-align: right;\">\n",
       "      <th></th>\n",
       "      <th>category</th>\n",
       "      <th>email</th>\n",
       "      <th>char_count</th>\n",
       "      <th>word_count</th>\n",
       "    </tr>\n",
       "  </thead>\n",
       "  <tbody>\n",
       "    <tr>\n",
       "      <th>0</th>\n",
       "      <td>1</td>\n",
       "      <td>bescapenumber descapenumber bescapenumber besc...</td>\n",
       "      <td>1597</td>\n",
       "      <td>144</td>\n",
       "    </tr>\n",
       "    <tr>\n",
       "      <th>1</th>\n",
       "      <td>0</td>\n",
       "      <td>wrong aggie the key word is man dammit little ...</td>\n",
       "      <td>1203</td>\n",
       "      <td>208</td>\n",
       "    </tr>\n",
       "    <tr>\n",
       "      <th>2</th>\n",
       "      <td>0</td>\n",
       "      <td>hello mark great article months corporate lega...</td>\n",
       "      <td>1033</td>\n",
       "      <td>128</td>\n",
       "    </tr>\n",
       "    <tr>\n",
       "      <th>3</th>\n",
       "      <td>1</td>\n",
       "      <td>yap international inc ypil voip technology req...</td>\n",
       "      <td>4936</td>\n",
       "      <td>845</td>\n",
       "    </tr>\n",
       "    <tr>\n",
       "      <th>4</th>\n",
       "      <td>0</td>\n",
       "      <td>hi theresa know anything two entries hit co es...</td>\n",
       "      <td>388</td>\n",
       "      <td>48</td>\n",
       "    </tr>\n",
       "  </tbody>\n",
       "</table>\n",
       "</div>"
      ],
      "text/plain": [
       "   category                                              email  char_count  \\\n",
       "0         1  bescapenumber descapenumber bescapenumber besc...        1597   \n",
       "1         0  wrong aggie the key word is man dammit little ...        1203   \n",
       "2         0  hello mark great article months corporate lega...        1033   \n",
       "3         1  yap international inc ypil voip technology req...        4936   \n",
       "4         0  hi theresa know anything two entries hit co es...         388   \n",
       "\n",
       "   word_count  \n",
       "0         144  \n",
       "1         208  \n",
       "2         128  \n",
       "3         845  \n",
       "4          48  "
      ]
     },
     "execution_count": 53,
     "metadata": {},
     "output_type": "execute_result"
    }
   ],
   "source": [
    "# no of words\n",
    "df['word_count'] = df['email'].apply(lambda x: word_tokenize(x)).apply(len)\n",
    "df.head()"
   ]
  }
 ],
 "metadata": {
  "kernelspec": {
   "display_name": ".venv",
   "language": "python",
   "name": "python3"
  },
  "language_info": {
   "codemirror_mode": {
    "name": "ipython",
    "version": 3
   },
   "file_extension": ".py",
   "mimetype": "text/x-python",
   "name": "python",
   "nbconvert_exporter": "python",
   "pygments_lexer": "ipython3",
   "version": "3.13.1"
  }
 },
 "nbformat": 4,
 "nbformat_minor": 5
}
